{
 "cells": [
  {
   "cell_type": "markdown",
   "metadata": {},
   "source": [
    "# 1 model\n",
    "---\n",
    "经验数据 `-->` 规律发现 `-->` 验证数据 `-->` 实践规律 `-->` 完善提高\n",
    "\n",
    "`|<--         model           -->|`\n",
    "- build\n",
    "- train\n",
    "- validation\n",
    "- test\n",
    "- application"
   ]
  },
  {
   "cell_type": "markdown",
   "metadata": {},
   "source": [
    "# 2 Application\n",
    "---\n",
    "1. regression predict\n",
    "2. classify\n",
    "    - non-supervision(cluster)\n",
    "    - supervision\n",
    "3. recommend engine\n",
    "4. natural language\n",
    "5. video,image recognition\n",
    "6. face or fingerprient recognition\n",
    "7. neural network\n"
   ]
  },
  {
   "cell_type": "markdown",
   "metadata": {},
   "source": [
    "# 3 pre-process of data(for column value)\n",
    "---\n",
    "## 3.1 remove average `import sklearn.preprocessing as sp`\n",
    "- $\\sqrt{\\frac{(x_1-\\bar{x})^2+\\dots+(x_n-\\bar{x})^2}{n}}$\n",
    "- `col = col - mean`\n",
    "- `col /= col_std `\n"
   ]
  },
  {
   "cell_type": "markdown",
   "metadata": {},
   "source": [
    "## 3.2 range scaling (mmx.py)\n",
    "- %%%%\n",
    "- `A x = b`\n",
    "- `np.linalg.lstsq(A, b)`"
   ]
  },
  {
   "cell_type": "code",
   "execution_count": 15,
   "metadata": {},
   "outputs": [
    {
     "name": "stdout",
     "output_type": "stream",
     "text": [
      "[[ 3.  -1.5  2.  -5.4]\n",
      " [ 0.   4.  -0.3  2.1]\n",
      " [ 1.   3.3 -1.9 -4.3]]\n",
      "[[  1.00000000e+00  -2.77555756e-16   1.00000000e+00  -2.22044605e-16]\n",
      " [  1.85037171e-17   1.00000000e+00   4.10256410e-01   1.00000000e+00]\n",
      " [  3.33333333e-01   8.72727273e-01  -2.22044605e-16   1.46666667e-01]]\n",
      "[[ 1.          0.          1.          0.        ]\n",
      " [ 0.          1.          0.41025641  1.        ]\n",
      " [ 0.33333333  0.87272727  0.          0.14666667]]\n"
     ]
    }
   ],
   "source": [
    "## mmx.py\n",
    "import numpy as np\n",
    "\n",
    "def mmx_scale(raw_samples, bmin, bmax):\n",
    "    nor_samples = raw_samples.copy()\n",
    "    cols =nor_samples.shape[1]\n",
    "    for col in range(cols):\n",
    "        col_samples = nor_samples[:, col]\n",
    "        col_min = col_samples.min()\n",
    "        col_max = col_samples.max()\n",
    "        k, b = np.linalg.lstsq(\n",
    "            np.array([[col_min,1],[col_max,1]]),\n",
    "            np.array([bmin, bmax])\n",
    "        )[0]\n",
    "        col_samples *= k\n",
    "        col_samples += b\n",
    "    return nor_samples\n",
    "\n",
    "def main():\n",
    "    raw_samples = np.array([\n",
    "        [3, -1.5, 2, -5.4],\n",
    "        [0, 4, -0.3, 2.1],\n",
    "        [1, 3.3, -1.9, -4.3]\n",
    "    ])\n",
    "    print(raw_samples)\n",
    "    mmx_samples = mmx_scale(raw_samples, 0, 1)\n",
    "    print(mmx_samples)\n",
    "    \n",
    "    # use sp\n",
    "    # create scaler\n",
    "    mmx = sp.MinMaxScaler(feature_range=(0, 1))\n",
    "    mmx_samples = mmx.fit_transform(raw_samples)\n",
    "    print(mmx_samples)\n",
    "\n",
    "if __name__ == '__main__':\n",
    "    main()"
   ]
  },
  {
   "cell_type": "markdown",
   "metadata": {},
   "source": [
    "## 3.3 normalization (for row value of sample)(norm.py)\n",
    "- scaling the feature values of every sample to the range of `[0, 1]`,and the sum of absolute value is 1.\n"
   ]
  },
  {
   "cell_type": "code",
   "execution_count": 12,
   "metadata": {},
   "outputs": [
    {
     "name": "stdout",
     "output_type": "stream",
     "text": [
      "[[ 3.  -1.5  2.  -5.4]\n",
      " [ 0.   4.  -0.3  2.1]\n",
      " [ 1.   3.3 -1.9 -4.3]]\n",
      "[[ 0.25210084 -0.12605042  0.16806723 -0.45378151]\n",
      " [ 0.          0.625      -0.046875    0.328125  ]\n",
      " [ 0.0952381   0.31428571 -0.18095238 -0.40952381]]\n",
      "1.0\n",
      "1.0\n",
      "1.0\n",
      "[[ 0.25210084 -0.12605042  0.16806723 -0.45378151]\n",
      " [ 0.          0.625      -0.046875    0.328125  ]\n",
      " [ 0.0952381   0.31428571 -0.18095238 -0.40952381]]\n",
      "1.0\n",
      "1.0\n",
      "1.0\n"
     ]
    }
   ],
   "source": [
    "## norm.py\n",
    "import numpy as np\n",
    "import sklearn.preprocessing as sp\n",
    "\n",
    "def normalize(raw_samples):\n",
    "    nor_samples = raw_samples.copy()\n",
    "    rows =nor_samples.shape[0]\n",
    "    for row in range(rows):\n",
    "        row_samples = nor_samples[row]\n",
    "        row_abs = abs(row_samples)\n",
    "        row_abs_sum = row_abs.sum()\n",
    "        row_samples /= row_abs_sum\n",
    "    return nor_samples\n",
    "\n",
    "def main():\n",
    "    raw_samples = np.array([\n",
    "        [3, -1.5, 2, -5.4],\n",
    "        [0, 4, -0.3, 2.1],\n",
    "        [1, 3.3, -1.9, -4.3]\n",
    "    ])\n",
    "    print(raw_samples)\n",
    "    nor = normalize(raw_samples)\n",
    "    print(nor)\n",
    "    for row in range(nor.shape[0]):\n",
    "        row_sample = nor[row]\n",
    "        abs_sample = abs(row_sample)\n",
    "        sum_sample = abs_sample.sum()\n",
    "        print(sum_sample)\n",
    "        \n",
    "    # sp\n",
    "    nor2 = sp.normalize(raw_samples, norm='l1')\n",
    "    print(nor2)\n",
    "    for row in range(nor2.shape[0]):\n",
    "        row_sample = nor2[row]\n",
    "        abs_sample = abs(row_sample)\n",
    "        sum_sample = abs_sample.sum()\n",
    "        print(sum_sample)\n",
    "\n",
    "if __name__ == '__main__':\n",
    "    main()"
   ]
  },
  {
   "cell_type": "markdown",
   "metadata": {},
   "source": [
    "## 3.4 二值化(bin.py)\n",
    "- 根据一个预先设定的阈值，小于等于阈值的为0，大于的为1."
   ]
  },
  {
   "cell_type": "code",
   "execution_count": 14,
   "metadata": {},
   "outputs": [
    {
     "name": "stdout",
     "output_type": "stream",
     "text": [
      "[[ 3.  -1.5  2.  -5.4]\n",
      " [ 0.   4.  -0.3  2.1]\n",
      " [ 1.   3.3 -1.9 -4.3]]\n",
      "[[ 1.  0.  1.  0.]\n",
      " [ 0.  1.  0.  1.]\n",
      " [ 0.  1.  0.  0.]]\n",
      "[[ 1.  0.  1.  0.]\n",
      " [ 0.  1.  0.  1.]\n",
      " [ 0.  1.  0.  0.]]\n"
     ]
    }
   ],
   "source": [
    "## bin.py\n",
    "import numpy as np\n",
    "import sklearn.preprocessing as sp\n",
    "\n",
    "def binarize(raw_samples, threshold):\n",
    "    bin_samples = raw_samples.copy()\n",
    "    bin_samples[bin_samples <= threshold] = 0\n",
    "    bin_samples[bin_samples > threshold] = 1\n",
    "    return bin_samples\n",
    "\n",
    "def main():\n",
    "    raw_samples = np.array([\n",
    "        [3, -1.5, 2, -5.4],\n",
    "        [0, 4, -0.3, 2.1],\n",
    "        [1, 3.3, -1.9, -4.3]\n",
    "    ])\n",
    "    print(raw_samples)\n",
    "    bina = binarize(raw_samples, 1.4)\n",
    "    print(bina)\n",
    "    \n",
    "    # use sp\n",
    "    bin = sp.Binarizer(threshold=1.4)\n",
    "    bina2 = bin.transform(raw_samples)\n",
    "    print(bina2)\n",
    "\n",
    "if __name__ == '__main__':\n",
    "    main()"
   ]
  },
  {
   "cell_type": "markdown",
   "metadata": {},
   "source": [
    "## 3.5 独热编码\n",
    "---\n",
    "```\n",
    "    0       0        3\n",
    "    1       1        0\n",
    "    0       2        1\n",
    "    1       0        2\n",
    "    ------------  -----\n",
    "    0 -10   0-100    0- 1000\n",
    "    1 -01   1-010    1- 0100\n",
    "            2-001    2- 0010\n",
    "                     3- 0001\n",
    "\n",
    "    --------------------------\n",
    "    101000001\n",
    "    010101000\n",
    "    100010010\n",
    "    011000010\n",
    "    \n",
    "```    \n",
    "    "
   ]
  },
  {
   "cell_type": "code",
   "execution_count": 17,
   "metadata": {},
   "outputs": [
    {
     "data": {
      "text/plain": [
       "'0\\t0'"
      ]
     },
     "execution_count": 17,
     "metadata": {},
     "output_type": "execute_result"
    }
   ],
   "source": [
    "'0\\t0'"
   ]
  },
  {
   "cell_type": "code",
   "execution_count": null,
   "metadata": {},
   "outputs": [],
   "source": []
  }
 ],
 "metadata": {
  "kernelspec": {
   "display_name": "Python [default]",
   "language": "python",
   "name": "python3"
  },
  "language_info": {
   "codemirror_mode": {
    "name": "ipython",
    "version": 3
   },
   "file_extension": ".py",
   "mimetype": "text/x-python",
   "name": "python",
   "nbconvert_exporter": "python",
   "pygments_lexer": "ipython3",
   "version": "3.6.1"
  }
 },
 "nbformat": 4,
 "nbformat_minor": 2
}
