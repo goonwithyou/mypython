{
 "cells": [
  {
   "cell_type": "markdown",
   "metadata": {},
   "source": [
    "<center><h1>pathlib</h1></center>"
   ]
  },
  {
   "cell_type": "markdown",
   "metadata": {},
   "source": [
    "# 1 introduction\n",
    "---\n",
    "提供对不同操作系统的文件系统路径的操作。该模块会依据所在的操作系统，将路径转化为`WindowsPath`和`PosixPath`类，相关路径类的继承关系如下\n",
    "- `class PurePath(object)`\n",
    "    - `class Path(PurePath)`\n",
    "        - `class PurePosixPath(PurePath)`\n",
    "            - `class PosixPath(Path, PurePosixPath)`\n",
    "        - `class PureWindowsPath(PurePath)`\n",
    "            - `class WindowsPath(Path, PureWindowsPath)`"
   ]
  },
  {
   "cell_type": "code",
   "execution_count": 48,
   "metadata": {},
   "outputs": [
    {
     "data": {
      "text/plain": [
       "[pathlib.WindowsPath,\n",
       " pathlib.WindowsPath,\n",
       " pathlib.WindowsPath,\n",
       " pathlib.WindowsPath,\n",
       " pathlib.WindowsPath,\n",
       " pathlib.WindowsPath,\n",
       " pathlib.WindowsPath]"
      ]
     },
     "execution_count": 48,
     "metadata": {},
     "output_type": "execute_result"
    }
   ],
   "source": [
    "from pathlib import Path\n",
    "\n",
    "# 创建Path实例，会依据操作系统生成相应的子类（如WindowsPath）\n",
    "p = Path('.')\n",
    "type(p) # <class 'pathlib.WindowsPath'>\n",
    "\n",
    "# 获取当前路径的所有文件夹\n",
    "[type(x) for x in p.iterdir() if x.is_dir()]"
   ]
  },
  {
   "cell_type": "code",
   "execution_count": 12,
   "metadata": {},
   "outputs": [
    {
     "data": {
      "text/plain": [
       "[WindowsPath('multiprocessing/myArray.py'),\n",
       " WindowsPath('multiprocessing/myPipe.py'),\n",
       " WindowsPath('multiprocessing/myPool.py'),\n",
       " WindowsPath('multiprocessing/myProcess.py'),\n",
       " WindowsPath('multiprocessing/myQueue.py'),\n",
       " WindowsPath('multiprocessing/myValue.py'),\n",
       " WindowsPath('multiprocessing/test.py'),\n",
       " WindowsPath('select/myclient.py'),\n",
       " WindowsPath('select/mypollserver.py'),\n",
       " WindowsPath('select/myselectserver.py'),\n",
       " WindowsPath('socket/mytcpclient.py'),\n",
       " WindowsPath('socket/mytcpserver.py'),\n",
       " WindowsPath('socket/myudpclient.py'),\n",
       " WindowsPath('socket/myudpserver.py'),\n",
       " WindowsPath('socket/unix_socket_client.py'),\n",
       " WindowsPath('socket/unix_socket_server.py')]"
      ]
     },
     "execution_count": 12,
     "metadata": {},
     "output_type": "execute_result"
    }
   ],
   "source": [
    "# 列出当前文件夹内的所有ipyb文件\n",
    "list(p.glob('**/*.py'))"
   ]
  },
  {
   "cell_type": "code",
   "execution_count": 57,
   "metadata": {},
   "outputs": [
    {
     "name": "stdout",
     "output_type": "stream",
     "text": [
      "import socket\n"
     ]
    }
   ],
   "source": [
    "# Path类的实例直接可以进程字符拼接，要用‘/’操作符(重载了__truediv__方法)\n",
    "q = p / 'select'\n",
    "q # WindowsPath('select')\n",
    "q.resolve() # 绝对路径，WindowsPath('D:/softfiles/workspace/git/mypython/modules/select')\n",
    "q.exists() # q是否存在 True\n",
    "q.is_dir() # True\n",
    "q.is_file() # False\n",
    "\n",
    "# 如果是文件可以使用open方法\n",
    "file = q / 'myclient.py'\n",
    "with file.open() as f:\n",
    "    print(f.readline(), end='')"
   ]
  },
  {
   "cell_type": "markdown",
   "metadata": {},
   "source": [
    "# 2 PurePath\n",
    "---\n",
    "```python\n",
    "class PurePath(*pathsegments)\n",
    "```\n",
    "PurePath接收一个文件路径，并依据你的操作系统返回一个`PurePosixPath`或者`PureWindowPath`实例类。\n",
    "```python\n",
    "class PurePosixPath(*pathsegments)\n",
    "\n",
    "class PureWindowsPath(*pathsegments)\n",
    "```"
   ]
  },
  {
   "cell_type": "code",
   "execution_count": 98,
   "metadata": {},
   "outputs": [
    {
     "data": {
      "text/plain": [
       "PureWindowsPath('.')"
      ]
     },
     "execution_count": 98,
     "metadata": {},
     "output_type": "execute_result"
    }
   ],
   "source": [
    "pathlib.PurePath() # 如果不写参数，默认当前路径"
   ]
  },
  {
   "cell_type": "code",
   "execution_count": 87,
   "metadata": {},
   "outputs": [
    {
     "data": {
      "text/plain": [
       "PureWindowsPath('select/myclient.py')"
      ]
     },
     "execution_count": 87,
     "metadata": {},
     "output_type": "execute_result"
    }
   ],
   "source": [
    "pathlib.PurePath('select','myclient.py')"
   ]
  },
  {
   "cell_type": "code",
   "execution_count": 1,
   "metadata": {},
   "outputs": [
    {
     "data": {
      "text/plain": [
       "PureWindowsPath('select/myclient.py')"
      ]
     },
     "execution_count": 1,
     "metadata": {},
     "output_type": "execute_result"
    }
   ],
   "source": [
    "from pathlib import *\n",
    "PurePath(Path('select'), Path('myclient.py'))"
   ]
  },
  {
   "cell_type": "code",
   "execution_count": 93,
   "metadata": {},
   "outputs": [
    {
     "data": {
      "text/plain": [
       "PurePosixPath('/usr/lib')"
      ]
     },
     "execution_count": 93,
     "metadata": {},
     "output_type": "execute_result"
    }
   ],
   "source": [
    "PurePosixPath('/etc', '/usr', 'lib') # 如果填入多个绝对路径将以最后一个为准"
   ]
  },
  {
   "cell_type": "markdown",
   "metadata": {},
   "source": [
    "## 2.1 General properties\n",
    "---"
   ]
  },
  {
   "cell_type": "code",
   "execution_count": 101,
   "metadata": {},
   "outputs": [
    {
     "data": {
      "text/plain": [
       "True"
      ]
     },
     "execution_count": 101,
     "metadata": {},
     "output_type": "execute_result"
    }
   ],
   "source": [
    "PurePosixPath('foo') == PurePosixPath('FOO') # False\n",
    "PureWindowsPath('foo') == PureWindowsPath('FOO') # Ture\n",
    "PureWindowsPath('foo') in [PureWindowsPath('FOO')] # True\n"
   ]
  },
  {
   "cell_type": "code",
   "execution_count": 96,
   "metadata": {},
   "outputs": [
    {
     "data": {
      "text/plain": [
       "WindowsPath('c:/windows')"
      ]
     },
     "execution_count": 96,
     "metadata": {},
     "output_type": "execute_result"
    }
   ],
   "source": [
    "WindowsPath(PureWindowsPath('c:/windows'))"
   ]
  },
  {
   "cell_type": "code",
   "execution_count": 102,
   "metadata": {},
   "outputs": [
    {
     "data": {
      "text/plain": [
       "'c:\\\\windows'"
      ]
     },
     "execution_count": 102,
     "metadata": {},
     "output_type": "execute_result"
    }
   ],
   "source": [
    "p = WindowsPath(PureWindowsPath('c:/windows'))\n",
    "str(p)"
   ]
  },
  {
   "cell_type": "code",
   "execution_count": 97,
   "metadata": {},
   "outputs": [
    {
     "data": {
      "text/plain": [
       "PurePosixPath('/etc')"
      ]
     },
     "execution_count": 97,
     "metadata": {},
     "output_type": "execute_result"
    }
   ],
   "source": [
    "PurePosixPath('/etc')"
   ]
  },
  {
   "cell_type": "markdown",
   "metadata": {},
   "source": [
    "## 2.2 方法和属性\n",
    "---\n",
    "```python\n",
    "PurePath.parts # 以元组的形式返回路径中的各部分\n",
    "```"
   ]
  },
  {
   "cell_type": "code",
   "execution_count": 114,
   "metadata": {},
   "outputs": [
    {
     "data": {
      "text/plain": [
       "('D:\\\\', 'softfiles', 'workspace', 'git', 'mypython', 'modules')"
      ]
     },
     "execution_count": 114,
     "metadata": {},
     "output_type": "execute_result"
    }
   ],
   "source": [
    "p = PureWindowsPath('D:/softfiles/workspace/git/mypython/modules')\n",
    "p.parts"
   ]
  },
  {
   "cell_type": "markdown",
   "metadata": {},
   "source": [
    "```python\n",
    "PurePath.drive # 返回drive letter or name\n",
    "\n",
    "PurePath.root # \n",
    "\n",
    "PurePath.anchor # \n",
    "\n",
    "PurePath.parent # 不包括最后一段,\n",
    "\n",
    "PurePath.parents\n",
    "\n",
    "PurePath.name # 最后一段 final path\n",
    "\n",
    "PurePath.suffix # 扩展名\n",
    "\n",
    "PurePath.stem # path最后一部分，不包括扩展名\n",
    "\n",
    "PurePath.as_posix() # 路径分隔符为‘/’\n",
    "\n",
    "PurePath.as_url() # url形式\n",
    "\n",
    "PurePath.is_absolute()\n",
    "\n",
    "PurePath.is_reserved()\n",
    "\n",
    "PurePath.joinpath(*other)\n",
    "\n",
    "PurePath.match(pattern) # return true or false\n",
    "\n",
    "PurePath.relative_to(*other) # 定义相对路径\n",
    "\n",
    "PurePath.with_name(name) # 替换name部分\n",
    "\n",
    "PurePath.with_suffix(suffix) # 替换扩展名\n",
    "\n",
    "```"
   ]
  },
  {
   "cell_type": "markdown",
   "metadata": {},
   "source": [
    "# 3 Concrete paths\n",
    "---\n",
    "```python\n",
    "class pathlib.Path(*pathsegments)\n",
    "\n",
    "class pathlib.PosixPath(*pathsegments)\n",
    "\n",
    "class pathlib.WindowPath(*pathsegments)\n",
    "\n",
    "```"
   ]
  },
  {
   "cell_type": "markdown",
   "metadata": {},
   "source": [
    "## 3.1 methods\n",
    "---\n",
    "```python\n",
    "classmethod Path.cwd()\n",
    "\n",
    "classmethod Path.home()\n",
    "\n",
    "Path.stat() # path的信息\n",
    "\n",
    "Path.iterdir()\n",
    "\n",
    "Path.chmod(mod)\n",
    "\n",
    "Path.exists()\n",
    "\n",
    "Path.mkdir()\n",
    "\n",
    "Path.rmdir()\n",
    "\n",
    "Path.open()\n",
    "\n",
    "Path.read_bytes()\n",
    "\n",
    "Path.write_bytes()\n",
    "\n",
    "Path.read_text(encoding=None, errors=None)\n",
    "\n",
    "Path.write_text(data, encoding=None, errors=None)\n",
    "\n",
    "Path.resolve() # 绝对路径\n",
    "\n",
    "Path.touch() # \n",
    "\n",
    "Path.samefile(other_path)\n",
    "\n",
    "Path.expanduser()\n",
    "\n",
    "Path.glob(pattern)\n",
    "\n",
    "Path.group()\n",
    "\n",
    "Path.is_dir()\n",
    "\n",
    "Path.is_file()\n",
    "\n",
    "Path.is_symlink()\n",
    "\n",
    "Path.is_socket()\n",
    "\n",
    "Path.is_fifo()\n",
    "\n",
    "Path.is_block_device()\n",
    "\n",
    "Path.is_char_device()\n",
    "\n",
    "Path.lchmod(mode)\n",
    "\n",
    "Path.lstat()\n",
    "\n",
    "Path.rename(target)\n",
    "\n",
    "Path.symlink_to(target, target_is_directory=False)\n",
    "\n",
    "```"
   ]
  }
 ],
 "metadata": {
  "kernelspec": {
   "display_name": "Python [conda root]",
   "language": "python",
   "name": "conda-root-py"
  },
  "language_info": {
   "codemirror_mode": {
    "name": "ipython",
    "version": 3
   },
   "file_extension": ".py",
   "mimetype": "text/x-python",
   "name": "python",
   "nbconvert_exporter": "python",
   "pygments_lexer": "ipython3",
   "version": "3.6.1"
  }
 },
 "nbformat": 4,
 "nbformat_minor": 2
}
