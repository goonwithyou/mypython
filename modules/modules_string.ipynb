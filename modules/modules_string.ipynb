{
 "cells": [
  {
   "cell_type": "markdown",
   "metadata": {},
   "source": [
    "# import string"
   ]
  },
  {
   "cell_type": "markdown",
   "metadata": {},
   "source": [
    "> string模块中定义了一些常用的属性（包含所有数字，字母，可打印的所有ascii码等）"
   ]
  },
  {
   "cell_type": "code",
   "execution_count": 1,
   "metadata": {},
   "outputs": [
    {
     "name": "stdout",
     "output_type": "stream",
     "text": [
      "abcdefghijklmnopqrstuvwxyzABCDEFGHIJKLMNOPQRSTUVWXYZ\n",
      "abcdefghijklmnopqrstuvwxyz\n",
      "ABCDEFGHIJKLMNOPQRSTUVWXYZ\n",
      "0123456789\n",
      "0123456789abcdefABCDEF\n",
      "01234567\n",
      "0123456789abcdefghijklmnopqrstuvwxyzABCDEFGHIJKLMNOPQRSTUVWXYZ!\"#$%&'()*+,-./:;<=>?@[\\]^_`{|}~ \t\n",
      "\r",
      "\u000b",
      "\f",
      "\n",
      "!\"#$%&'()*+,-./:;<=>?@[\\]^_`{|}~\n",
      " \t\n",
      "\r",
      "\u000b",
      "\f",
      "\n",
      "aHelloaWorld\n",
      "aHelloaWorld\n"
     ]
    }
   ],
   "source": [
    "import string\n",
    "\n",
    "\n",
    "# string中定义的一些属性\n",
    "print(string.ascii_letters)     # 'abcdefghijklmnopqrstuvwxyzABCDEFGHIJKLMNOPQRSTUVWXYZ'\n",
    "print(string.ascii_lowercase)   # 'abcdefghijklmnopqrstuvwxyz'\n",
    "print(string.ascii_uppercase)   # 'ABCDEFGHIJKLMNOPQRSTUVWXYZ'\n",
    "print(string.digits)            # '0123456789'\n",
    "print(string.hexdigits)         # '0123456789abcdefABCDEF'\n",
    "print(string.octdigits)         # '01234567'\n",
    "print(string.printable)         # '0123456789abcdefghijklmnopqrstuvwxyzABCDEFGHIJKLMNOPQRSTU...\n",
    "print(string.punctuation)       # '!\"#$%&\\'()*+,-./:;<=>?@[\\\\]^_`{|}~'\n",
    "print(string.whitespace)        # ' \\t\\n\\r\\x0b\\x0c'\n",
    "\n",
    "# string中定义的方法\n",
    "# string.capwords(s, sep=None)是多个字符串方法的组合split(),capitalize(),join()\n",
    "s = 'ahelloaworld'\n",
    "print(string.capwords(s, 'a'))\n",
    "# 等同于a\n",
    "print('a'.join([i.capitalize() for i in s.split('a')]))\n",
    "# 结果为：aHelloaWorld"
   ]
  }
 ],
 "metadata": {
  "kernelspec": {
   "display_name": "Python 3",
   "language": "python",
   "name": "python3"
  },
  "language_info": {
   "codemirror_mode": {
    "name": "ipython",
    "version": 3
   },
   "file_extension": ".py",
   "mimetype": "text/x-python",
   "name": "python",
   "nbconvert_exporter": "python",
   "pygments_lexer": "ipython3",
   "version": "3.6.1"
  }
 },
 "nbformat": 4,
 "nbformat_minor": 2
}
