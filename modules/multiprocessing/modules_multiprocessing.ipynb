{
 "cells": [
  {
   "cell_type": "markdown",
   "metadata": {},
   "source": [
    "<center><h1>multiprocessing</h1></center>"
   ]
  },
  {
   "cell_type": "code",
   "execution_count": 2,
   "metadata": {},
   "outputs": [],
   "source": [
    "import multiprocessing as mp"
   ]
  },
  {
   "cell_type": "markdown",
   "metadata": {},
   "source": [
    "# 1 Process\n",
    "---\n",
    "```python\n",
    "from multiprocessing import Process\n",
    "```"
   ]
  },
  {
   "cell_type": "markdown",
   "metadata": {},
   "source": [
    "## 1.1 introduction\n",
    "---\n",
    "1. 需要将要做的事件进行封装函数\n",
    "2. 使用`multiprocessing`提供的类`Process`创建进程对象。\n",
    "3. 通过对象和`Process`的初始化函数对进程进行设置以及绑定要执行的事件。\n",
    "4. 启动进程，会自动的执行函数代表的时间。\n",
    "5. 完成进程的回收。"
   ]
  },
  {
   "cell_type": "markdown",
   "metadata": {},
   "source": [
    "> help(mp.Process)\n",
    "\n",
    "```python\n",
    "Process(group=None, target=None, name=None, args=(), kwargs={}, *, daemon=None)\n",
    "```\n",
    "- name: 给创建的进程定义名字，默认为Process-1...\n",
    "- target: 绑定的函数\n",
    "- args: 元组， target函数的位参\n",
    "- kwargs: 关键字传参\n",
    "- daemon: 如果为True,则主进程退出前，结束所有子进程运行。default False.\n",
    "```python\n",
    "p.start()\n",
    "```\n",
    "- 启动进程， 进程被创建，自动运行对应的函数。\n",
    "\n",
    "```python\n",
    "p.join([timeout])\n",
    "```\n",
    "- 阻塞等待对应子进程退出，回收子进程。\n",
    "\n",
    "\n",
    "```python\n",
    "p.is_alive(self) # return whether process is alive\n",
    "\n",
    "p.run(self) # 用于自定义Process重写. myProcess.py\n",
    "\n",
    "p.terminate(self) # 直接让p进程结束。terminate process;sends SIGTERM signal or uses TerminateProcess()\n",
    "\n",
    "p.authkey\n",
    "\n",
    "p.daemon \n",
    "\n",
    "p.exitcode\n",
    "\n",
    "p.ident # pid\n",
    "\n",
    "p.name # p name\n",
    "\n",
    "p.pid # pid\n",
    "\n",
    "p.sentinel # Return a file descriptor (Unix) or handle (Windows) suitable for waiting for process termination.\n",
    "```\n"
   ]
  },
  {
   "cell_type": "markdown",
   "metadata": {},
   "source": [
    "> **注意**\n",
    "\n",
    "- 如果不使用`join()`则子进程可能会成为**僵尸进程**。\n",
    "- 在使用`multiprocessing`创建进程中，一般父进程功能就是创建子进程等待回收，不做其他的功能。"
   ]
  },
  {
   "cell_type": "markdown",
   "metadata": {},
   "source": [
    "## 1.2 附件\n",
    "---\n",
    "- <span style=\"color:red\">进程线程相关的代码不要直接在notebook上执行！输出会有异常。</span>\n",
    "- `myProcess.py`"
   ]
  },
  {
   "cell_type": "markdown",
   "metadata": {},
   "source": [
    "# 2 进程池\n",
    "---\n",
    "```python\n",
    "from multiprocessing import Pool\n",
    "```\n",
    "\n",
    "\n",
    "## 2.1 introduction\n",
    "---\n",
    "\n",
    "1. 进程池产生原因\n",
    "    - 如果有大量的任务需要多进程完成，则可能需要频繁的创建和删除进程，给计算机带来额外的消耗。\n",
    "    - **使用于**大量且运行时间短的进程。\n",
    "2. 操作流程\n",
    "\n",
    "```python\n",
    "pool = Pool(processes) # create process pool.\n",
    "event_obj = pool.apply_async(func, args, kwds) # add event to process pool.\n",
    "    # params:\n",
    "    # ---\n",
    "    # func: function name that want to invoke.\n",
    "    # args: a tuple of args\n",
    "    # kwds:\n",
    "    # return: 返回一个事件对象，通过`get()`可以获取事件执行函数的返回值。\n",
    "\n",
    "pool.close() # close process pool,\n",
    "pool.join() #recyle processes.\n",
    "```"
   ]
  },
  {
   "cell_type": "markdown",
   "metadata": {},
   "source": [
    "## 2.2 other\n",
    "---\n",
    "```python\n",
    "pool.apply() # 同步执行func, 即一个个的执行，`p.apply_async()`:异步执行\n",
    "pool.map(func, iter)\n",
    "pool.map.async()\n",
    "```"
   ]
  },
  {
   "cell_type": "markdown",
   "metadata": {},
   "source": [
    "## 2.3 附件\n",
    "---\n",
    "`mypool.py`"
   ]
  },
  {
   "cell_type": "markdown",
   "metadata": {},
   "source": [
    "# 3 进程间通信\n",
    "---\n",
    "## 3.1 introduction\n",
    "---\n",
    "1. 进程间由于空间独立，资源互相无法直接获取，此时在不同的进程间传递数据就需要专门的进程间通信方法。\n",
    "2. 进程间的通信方法(IPC)\n",
    "    - 管道，队列，共享内存，信号，信号量，套接字\n",
    "    \n",
    "## 3.2 管道\n",
    "---\n",
    "```python\n",
    "from multiprocessing import Pipe\n",
    "```\n",
    "- 在内存中开辟一块空间，形成管道结构，管道对多个进程可见，进程可以通过对管道的读写操作进行通信。\n",
    "\n",
    "```python\n",
    "(conn1, conn2) = Pipe(duplex=True)\n",
    "     # duplex:默认为双向管道，如果为`False`则为单向管道。\n",
    "     # 如果为单向管道，`conn1`只能进行读操作。`conn2`只能进行写操作。\n",
    "     # `conn`为`Connection`类的实例，可以使用的方法有\n",
    "        # send(obj)\n",
    "        # recv()\n",
    "        # fileno()\n",
    "        # close()\n",
    "        # poll([timeout])\n",
    "        # send_bytes(buffer)\n",
    "        # recv_bytes()\n",
    "        # recv_bytes_into(buffer)\n",
    "```\n",
    "\n",
    "- **附件** `myPipe.py`\n",
    "    \n",
    "## 3.3 队列\n",
    "---\n",
    "```python\n",
    "from multiprocessing import Queue\n",
    "```\n",
    "- **先进先出**。在内存中开辟队列空间结构，对多个进程可见。多个进程向队列中存入消息，取出消息，完成进程间通信。\n",
    "\n",
    "> **Queue**\n",
    "\n",
    "```python\n",
    "q = Queue([maxsize])\n",
    "\n",
    "q.put(obj[, block[, timeout]]) # if full raise `queue.Full` exception\n",
    "q.put_nowait(obj) # equal `put(obj, False)`不阻塞，如果放满则异常。\n",
    " \n",
    "q.get([block[, timeout]]) # if empty raise `queue.Empty` exception\n",
    "q.get_nowait()` # equal `get(False)`不阻塞，取不到值则异常。\n",
    " \n",
    "q.qsize() # Return the **approximate** size of the queue.\n",
    "q.empty() # Return True if the queue is empty.\n",
    "q.full() # Return True if the queue is full.\n",
    "q.close()\n",
    " \n",
    "q.join_thread() # 添加后台线程，必须放在`close()`方法之后，如果管道内的还有数据没有get，则会一直阻塞。？？？\n",
    "q.cancel_join_thread()\n",
    "```\n",
    "    \n",
    "> **附件** `myQueue.py`\n",
    "\n",
    "## 3.4 共享内存\n",
    "---\n",
    "```python\n",
    "from multiprocessing import Value\n",
    "from multiprocessing import Array\n",
    "```\n",
    "- 在内存中开辟一段空间，存储数据，对多个进程可见，每次写入共享内存的数据会覆盖之前的内容。\n",
    "\n",
    "> **Value**\n",
    "\n",
    "```python\n",
    "obj = Value(ctype, obj) # 开辟共享内存空间\n",
    "    # ctype: 字符串，要转变的C的类型code(对照ctype表)\n",
    "    # obj: 共享内存初始值\n",
    "obj.value # 表示共享内存中的值。对其修改或者使用即为使用共享内存中的值。\n",
    "```\n",
    "\n",
    "> **Array**\n",
    "\n",
    "```python\n",
    "obj = Array(ctype, obj) # 开辟共享内存空间\n",
    "    # ctype: 要转换的类型\n",
    "    # obj: 要存入共享内存的数据，如果是列表，则类型必须一直。如果是整数，则开辟整数长度的ctype类型的列表。\n",
    "```\n",
    "> **附件** `myValue.py`, `myArray.py`\n"
   ]
  },
  {
   "cell_type": "markdown",
   "metadata": {},
   "source": [
    "|--|管道|  消息队列|共享内存|\n",
    "|--|:--|--|--|\n",
    "|开辟空间|内存|内存|内存|\n",
    "|读写方式|两端读写，双向或单向|先进先出|操作覆盖内存|\n",
    "|效率|一般|一般|较快|\n",
    "|应用|多用于父子进程|广泛灵活 | 复杂，需要互斥机制|"
   ]
  }
 ],
 "metadata": {
  "kernelspec": {
   "display_name": "Python [conda root]",
   "language": "python",
   "name": "conda-root-py"
  },
  "language_info": {
   "codemirror_mode": {
    "name": "ipython",
    "version": 3
   },
   "file_extension": ".py",
   "mimetype": "text/x-python",
   "name": "python",
   "nbconvert_exporter": "python",
   "pygments_lexer": "ipython3",
   "version": "3.6.1"
  }
 },
 "nbformat": 4,
 "nbformat_minor": 2
}
