{
 "cells": [
  {
   "cell_type": "markdown",
   "metadata": {},
   "source": [
    "<center><h1>threading</h1></center>"
   ]
  },
  {
   "cell_type": "markdown",
   "metadata": {},
   "source": [
    "# 1 introduction\n",
    "---\n",
    "线程也是一种多任务编程方式，可以使用计算机的多核资源。线程被称为**轻量级的进程**。\n",
    "\n",
    "> 线程的特征\n",
    "\n",
    "- 线程是计算机多核分配的最小单位。\n",
    "- 一个进程可以包含多个线程。\n",
    "- 线程也是一个运行过程，也要消耗计算机资源。多个线程共享进程的资源和空间。\n",
    "- 线程也拥有自己特有的资源属性，比如指令集，TID等。\n",
    "- 线程无论是创建还是运行消耗的资源都小于进程。\n",
    "\n",
    "# 2 threading\n",
    "---\n",
    "\n",
    "## 2.1 threading.Thread()\n",
    "---\n",
    "\n",
    "```python\n",
    "import threading\n",
    "\n",
    "t = threading.Thread(group=None, target=None, name=None, args=(), kwargs={}, *, daemon=None)\n",
    "\n",
    "t.start()\n",
    "\n",
    "t.join(timeout=None)\n",
    "\n",
    "t.setName()\n",
    "t.getName()\n",
    "\n",
    "t.is_alive()\n",
    "\n",
    "t.isDaemon()\n",
    "t.setDaemon()\n",
    "\n",
    "t.name\n",
    "t.daemon\n",
    "t.ident\n",
    "\n",
    "```\n",
    "\n",
    "## 2.2 module functions\n",
    "---\n",
    "\n",
    "```python\n",
    "threading.active_count()\n",
    "\n",
    "threading.current_thread()\n",
    "\n",
    "threading.get_ident()\n",
    "\n",
    "threading.enumerate()\n",
    "\n",
    "threading.main_thread()\n",
    "\n",
    "threading.settrace(func)\n",
    "\n",
    "threading.setprofile(func)\n",
    "\n",
    "threading.stack_size([size])\n",
    "\n",
    "threading.TIMEOUT_MAX\n",
    "\n",
    "```\n",
    "\n",
    "Lock\n"
   ]
  },
  {
   "cell_type": "code",
   "execution_count": 5,
   "metadata": {},
   "outputs": [],
   "source": [
    "import threading"
   ]
  },
  {
   "cell_type": "code",
   "execution_count": 8,
   "metadata": {},
   "outputs": [
    {
     "data": {
      "text/plain": [
       "['Barrier',\n",
       " 'BoundedSemaphore',\n",
       " 'BrokenBarrierError',\n",
       " 'Condition',\n",
       " 'Event',\n",
       " 'Lock',\n",
       " 'RLock',\n",
       " 'Semaphore',\n",
       " 'TIMEOUT_MAX',\n",
       " 'Thread',\n",
       " 'ThreadError',\n",
       " 'Timer',\n",
       " 'WeakSet',\n",
       " '_CRLock',\n",
       " '_DummyThread',\n",
       " '_MainThread',\n",
       " '_PyRLock',\n",
       " '_RLock',\n",
       " '__all__',\n",
       " '__builtins__',\n",
       " '__cached__',\n",
       " '__doc__',\n",
       " '__file__',\n",
       " '__loader__',\n",
       " '__name__',\n",
       " '__package__',\n",
       " '__spec__',\n",
       " '_active',\n",
       " '_active_limbo_lock',\n",
       " '_after_fork',\n",
       " '_allocate_lock',\n",
       " '_count',\n",
       " '_counter',\n",
       " '_dangling',\n",
       " '_deque',\n",
       " '_enumerate',\n",
       " '_format_exc',\n",
       " '_islice',\n",
       " '_limbo',\n",
       " '_main_thread',\n",
       " '_newname',\n",
       " '_pickSomeNonDaemonThread',\n",
       " '_profile_hook',\n",
       " '_set_sentinel',\n",
       " '_shutdown',\n",
       " '_start_new_thread',\n",
       " '_sys',\n",
       " '_time',\n",
       " '_trace_hook',\n",
       " 'activeCount',\n",
       " 'active_count',\n",
       " 'currentThread',\n",
       " 'current_thread',\n",
       " 'enumerate',\n",
       " 'get_ident',\n",
       " 'local',\n",
       " 'main_thread',\n",
       " 'setprofile',\n",
       " 'settrace',\n",
       " 'stack_size']"
      ]
     },
     "execution_count": 8,
     "metadata": {},
     "output_type": "execute_result"
    }
   ],
   "source": [
    "dir(threading)"
   ]
  },
  {
   "cell_type": "code",
   "execution_count": 4,
   "metadata": {},
   "outputs": [
    {
     "name": "stdout",
     "output_type": "stream",
     "text": [
      "2770789271048\n",
      "f: 2770789271048\n",
      "[34, 3]\n"
     ]
    }
   ],
   "source": [
    "l = [12,3]\n",
    "print(id(l))\n",
    "def f(l):\n",
    "    l[0] = 34\n",
    "    print('f:',id(l))\n",
    "f(l)\n",
    "print(l)"
   ]
  }
 ],
 "metadata": {
  "kernelspec": {
   "display_name": "Python [conda root]",
   "language": "python",
   "name": "conda-root-py"
  },
  "language_info": {
   "codemirror_mode": {
    "name": "ipython",
    "version": 3
   },
   "file_extension": ".py",
   "mimetype": "text/x-python",
   "name": "python",
   "nbconvert_exporter": "python",
   "pygments_lexer": "ipython3",
   "version": "3.6.1"
  }
 },
 "nbformat": 4,
 "nbformat_minor": 2
}
