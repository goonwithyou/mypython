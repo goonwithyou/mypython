{
 "cells": [
  {
   "cell_type": "markdown",
   "metadata": {},
   "source": [
    "# operator"
   ]
  },
  {
   "cell_type": "markdown",
   "metadata": {},
   "source": [
    "> 常用于函数的内部(intrinsic)操作，类中的`__xx__`方法，以及类的简便操作"
   ]
  },
  {
   "cell_type": "markdown",
   "metadata": {},
   "source": [
    "## operator.attrgetter(\\*attrs)"
   ]
  },
  {
   "cell_type": "markdown",
   "metadata": {},
   "source": [
    "> 可以定义一个取固定属性的可调用对象\n",
    "- After f = attrgetter('name'), the call f(b) returns b.name.\n",
    "- After f = attrgetter('name', 'date'), the call f(b) returns (b.name, b.date).\n",
    "- After f = attrgetter('name.first', 'name.last'), the call f(b) returns (b.name.first, b.name.last)."
   ]
  },
  {
   "cell_type": "code",
   "execution_count": 42,
   "metadata": {},
   "outputs": [],
   "source": [
    "class Tom():\n",
    "    name = 'tom'\n",
    "    age = 22\n",
    "    dic = {'name': 'tom', 'age': 22}\n",
    "\n",
    "class Jerry():\n",
    "    name = 'jerry'\n",
    "    age = 20\n",
    "    dic = {'name': 'jerry', 'age':30}"
   ]
  },
  {
   "cell_type": "code",
   "execution_count": 50,
   "metadata": {
    "collapsed": true
   },
   "outputs": [],
   "source": [
    "import operator\n",
    "f_name = operator.attrgetter('name')\n",
    "f_age = operator.attrgetter('age')\n",
    "f_dic = operator.attrgetter('dic')\n",
    "f_all = operator.attrgetter('name', 'dic')"
   ]
  },
  {
   "cell_type": "code",
   "execution_count": 51,
   "metadata": {},
   "outputs": [
    {
     "data": {
      "text/plain": [
       "'tom'"
      ]
     },
     "execution_count": 51,
     "metadata": {},
     "output_type": "execute_result"
    }
   ],
   "source": [
    "f_name(Tom)"
   ]
  },
  {
   "cell_type": "code",
   "execution_count": 52,
   "metadata": {},
   "outputs": [
    {
     "data": {
      "text/plain": [
       "('jerry', {'age': 30, 'name': 'jerry'})"
      ]
     },
     "execution_count": 52,
     "metadata": {},
     "output_type": "execute_result"
    }
   ],
   "source": [
    "f_all(Jerry)"
   ]
  },
  {
   "cell_type": "markdown",
   "metadata": {},
   "source": [
    "## operator.itemgetter(\\*items)"
   ]
  },
  {
   "cell_type": "markdown",
   "metadata": {},
   "source": [
    "> 同attrgetter,只不过是按索引值取\n",
    "- After f = itemgetter(2), the call f(r) returns r[2].\n",
    "- After g = itemgetter(2, 5, 3), the call g(r) returns (r[2], r[5], r[3])."
   ]
  },
  {
   "cell_type": "code",
   "execution_count": 53,
   "metadata": {},
   "outputs": [
    {
     "data": {
      "text/plain": [
       "('b', 'c', 'e')"
      ]
     },
     "execution_count": 53,
     "metadata": {},
     "output_type": "execute_result"
    }
   ],
   "source": [
    "import operator\n",
    "operator.itemgetter(1,2,4)(['a', 'b', 'c', 'd', 'e'])"
   ]
  },
  {
   "cell_type": "code",
   "execution_count": 55,
   "metadata": {},
   "outputs": [
    {
     "data": {
      "text/plain": [
       "['c', 'd', 'e']"
      ]
     },
     "execution_count": 55,
     "metadata": {},
     "output_type": "execute_result"
    }
   ],
   "source": [
    "operator.itemgetter(slice(2, None))(['a', 'b', 'c', 'd', 'e'])"
   ]
  },
  {
   "cell_type": "code",
   "execution_count": 57,
   "metadata": {},
   "outputs": [
    {
     "data": {
      "text/plain": [
       "[3, 2, 5, 1]"
      ]
     },
     "execution_count": 57,
     "metadata": {},
     "output_type": "execute_result"
    }
   ],
   "source": [
    "inventory = [('apple', 3), ('banana', 2), ('pear', 5), ('orange', 1)]\n",
    "getcount = operator.itemgetter(1)\n",
    "list(map(getcount, inventory))"
   ]
  },
  {
   "cell_type": "code",
   "execution_count": 58,
   "metadata": {},
   "outputs": [
    {
     "data": {
      "text/plain": [
       "[('orange', 1), ('banana', 2), ('apple', 3), ('pear', 5)]"
      ]
     },
     "execution_count": 58,
     "metadata": {},
     "output_type": "execute_result"
    }
   ],
   "source": [
    "sorted(inventory, key=getcount)"
   ]
  },
  {
   "cell_type": "markdown",
   "metadata": {},
   "source": [
    "## operator.methodcaller(name[, args...])"
   ]
  },
  {
   "cell_type": "markdown",
   "metadata": {},
   "source": [
    "> \n",
    "- After f = methodcaller('name'), the call f(b) returns b.name().\n",
    "- After f = methodcaller('name', 'foo', bar=1), the call f(b) returns b.name('foo', bar=1).\n"
   ]
  },
  {
   "cell_type": "markdown",
   "metadata": {},
   "source": [
    "<table border=\"1\" class=\"docutils\">\n",
    "<colgroup>\n",
    "<col width=\"26%\" />\n",
    "<col width=\"29%\" />\n",
    "<col width=\"45%\" />\n",
    "</colgroup>\n",
    "<thead valign=\"bottom\">\n",
    "<tr class=\"row-odd\"><th class=\"head\">Operation</th>\n",
    "<th class=\"head\">Syntax</th>\n",
    "<th class=\"head\">Function</th>\n",
    "</tr>\n",
    "</thead>\n",
    "<tbody valign=\"top\">\n",
    "<tr class=\"row-even\"><td>Addition</td>\n",
    "<td><code class=\"docutils literal\"><span class=\"pre\">a</span> <span class=\"pre\">+</span> <span class=\"pre\">b</span></code></td>\n",
    "<td><code class=\"docutils literal\"><span class=\"pre\">add(a,</span> <span class=\"pre\">b)</span></code></td>\n",
    "</tr>\n",
    "<tr class=\"row-odd\"><td>Concatenation</td>\n",
    "<td><code class=\"docutils literal\"><span class=\"pre\">seq1</span> <span class=\"pre\">+</span> <span class=\"pre\">seq2</span></code></td>\n",
    "<td><code class=\"docutils literal\"><span class=\"pre\">concat(seq1,</span> <span class=\"pre\">seq2)</span></code></td>\n",
    "</tr>\n",
    "<tr class=\"row-even\"><td>Containment Test</td>\n",
    "<td><code class=\"docutils literal\"><span class=\"pre\">obj</span> <span class=\"pre\">in</span> <span class=\"pre\">seq</span></code></td>\n",
    "<td><code class=\"docutils literal\"><span class=\"pre\">contains(seq,</span> <span class=\"pre\">obj)</span></code></td>\n",
    "</tr>\n",
    "<tr class=\"row-odd\"><td>Division</td>\n",
    "<td><code class=\"docutils literal\"><span class=\"pre\">a</span> <span class=\"pre\">/</span> <span class=\"pre\">b</span></code></td>\n",
    "<td><code class=\"docutils literal\"><span class=\"pre\">truediv(a,</span> <span class=\"pre\">b)</span></code></td>\n",
    "</tr>\n",
    "<tr class=\"row-even\"><td>Division</td>\n",
    "<td><code class=\"docutils literal\"><span class=\"pre\">a</span> <span class=\"pre\">//</span> <span class=\"pre\">b</span></code></td>\n",
    "<td><code class=\"docutils literal\"><span class=\"pre\">floordiv(a,</span> <span class=\"pre\">b)</span></code></td>\n",
    "</tr>\n",
    "<tr class=\"row-odd\"><td>Bitwise And</td>\n",
    "<td><code class=\"docutils literal\"><span class=\"pre\">a</span> <span class=\"pre\">&amp;</span> <span class=\"pre\">b</span></code></td>\n",
    "<td><code class=\"docutils literal\"><span class=\"pre\">and_(a,</span> <span class=\"pre\">b)</span></code></td>\n",
    "</tr>\n",
    "<tr class=\"row-even\"><td>Bitwise Exclusive Or</td>\n",
    "<td><code class=\"docutils literal\"><span class=\"pre\">a</span> <span class=\"pre\">^</span> <span class=\"pre\">b</span></code></td>\n",
    "<td><code class=\"docutils literal\"><span class=\"pre\">xor(a,</span> <span class=\"pre\">b)</span></code></td>\n",
    "</tr>\n",
    "<tr class=\"row-odd\"><td>Bitwise Inversion</td>\n",
    "<td><code class=\"docutils literal\"><span class=\"pre\">~</span> <span class=\"pre\">a</span></code></td>\n",
    "<td><code class=\"docutils literal\"><span class=\"pre\">invert(a)</span></code></td>\n",
    "</tr>\n",
    "<tr class=\"row-even\"><td>Bitwise Or</td>\n",
    "<td><code class=\"docutils literal\"><span class=\"pre\">a</span> <span class=\"pre\">|</span> <span class=\"pre\">b</span></code></td>\n",
    "<td><code class=\"docutils literal\"><span class=\"pre\">or_(a,</span> <span class=\"pre\">b)</span></code></td>\n",
    "</tr>\n",
    "<tr class=\"row-odd\"><td>Exponentiation</td>\n",
    "<td><code class=\"docutils literal\"><span class=\"pre\">a</span> <span class=\"pre\">**</span> <span class=\"pre\">b</span></code></td>\n",
    "<td><code class=\"docutils literal\"><span class=\"pre\">pow(a,</span> <span class=\"pre\">b)</span></code></td>\n",
    "</tr>\n",
    "<tr class=\"row-even\"><td>Identity</td>\n",
    "<td><code class=\"docutils literal\"><span class=\"pre\">a</span> <span class=\"pre\">is</span> <span class=\"pre\">b</span></code></td>\n",
    "<td><code class=\"docutils literal\"><span class=\"pre\">is_(a,</span> <span class=\"pre\">b)</span></code></td>\n",
    "</tr>\n",
    "<tr class=\"row-odd\"><td>Identity</td>\n",
    "<td><code class=\"docutils literal\"><span class=\"pre\">a</span> <span class=\"pre\">is</span> <span class=\"pre\">not</span> <span class=\"pre\">b</span></code></td>\n",
    "<td><code class=\"docutils literal\"><span class=\"pre\">is_not(a,</span> <span class=\"pre\">b)</span></code></td>\n",
    "</tr>\n",
    "<tr class=\"row-even\"><td>Indexed Assignment</td>\n",
    "<td><code class=\"docutils literal\"><span class=\"pre\">obj[k]</span> <span class=\"pre\">=</span> <span class=\"pre\">v</span></code></td>\n",
    "<td><code class=\"docutils literal\"><span class=\"pre\">setitem(obj,</span> <span class=\"pre\">k,</span> <span class=\"pre\">v)</span></code></td>\n",
    "</tr>\n",
    "<tr class=\"row-odd\"><td>Indexed Deletion</td>\n",
    "<td><code class=\"docutils literal\"><span class=\"pre\">del</span> <span class=\"pre\">obj[k]</span></code></td>\n",
    "<td><code class=\"docutils literal\"><span class=\"pre\">delitem(obj,</span> <span class=\"pre\">k)</span></code></td>\n",
    "</tr>\n",
    "<tr class=\"row-even\"><td>Indexing</td>\n",
    "<td><code class=\"docutils literal\"><span class=\"pre\">obj[k]</span></code></td>\n",
    "<td><code class=\"docutils literal\"><span class=\"pre\">getitem(obj,</span> <span class=\"pre\">k)</span></code></td>\n",
    "</tr>\n",
    "<tr class=\"row-odd\"><td>Left Shift</td>\n",
    "<td><code class=\"docutils literal\"><span class=\"pre\">a</span> <span class=\"pre\">&lt;&lt;</span> <span class=\"pre\">b</span></code></td>\n",
    "<td><code class=\"docutils literal\"><span class=\"pre\">lshift(a,</span> <span class=\"pre\">b)</span></code></td>\n",
    "</tr>\n",
    "<tr class=\"row-even\"><td>Modulo</td>\n",
    "<td><code class=\"docutils literal\"><span class=\"pre\">a</span> <span class=\"pre\">%</span> <span class=\"pre\">b</span></code></td>\n",
    "<td><code class=\"docutils literal\"><span class=\"pre\">mod(a,</span> <span class=\"pre\">b)</span></code></td>\n",
    "</tr>\n",
    "<tr class=\"row-odd\"><td>Multiplication</td>\n",
    "<td><code class=\"docutils literal\"><span class=\"pre\">a</span> <span class=\"pre\">*</span> <span class=\"pre\">b</span></code></td>\n",
    "<td><code class=\"docutils literal\"><span class=\"pre\">mul(a,</span> <span class=\"pre\">b)</span></code></td>\n",
    "</tr>\n",
    "<tr class=\"row-even\"><td>Matrix Multiplication</td>\n",
    "<td><code class=\"docutils literal\"><span class=\"pre\">a</span> <span class=\"pre\">&#64;</span> <span class=\"pre\">b</span></code></td>\n",
    "<td><code class=\"docutils literal\"><span class=\"pre\">matmul(a,</span> <span class=\"pre\">b)</span></code></td>\n",
    "</tr>\n",
    "<tr class=\"row-odd\"><td>Negation (Arithmetic)</td>\n",
    "<td><code class=\"docutils literal\"><span class=\"pre\">-</span> <span class=\"pre\">a</span></code></td>\n",
    "<td><code class=\"docutils literal\"><span class=\"pre\">neg(a)</span></code></td>\n",
    "</tr>\n",
    "<tr class=\"row-even\"><td>Negation (Logical)</td>\n",
    "<td><code class=\"docutils literal\"><span class=\"pre\">not</span> <span class=\"pre\">a</span></code></td>\n",
    "<td><code class=\"docutils literal\"><span class=\"pre\">not_(a)</span></code></td>\n",
    "</tr>\n",
    "<tr class=\"row-odd\"><td>Positive</td>\n",
    "<td><code class=\"docutils literal\"><span class=\"pre\">+</span> <span class=\"pre\">a</span></code></td>\n",
    "<td><code class=\"docutils literal\"><span class=\"pre\">pos(a)</span></code></td>\n",
    "</tr>\n",
    "<tr class=\"row-even\"><td>Right Shift</td>\n",
    "<td><code class=\"docutils literal\"><span class=\"pre\">a</span> <span class=\"pre\">&gt;&gt;</span> <span class=\"pre\">b</span></code></td>\n",
    "<td><code class=\"docutils literal\"><span class=\"pre\">rshift(a,</span> <span class=\"pre\">b)</span></code></td>\n",
    "</tr>\n",
    "<tr class=\"row-odd\"><td>Slice Assignment</td>\n",
    "<td><code class=\"docutils literal\"><span class=\"pre\">seq[i:j]</span> <span class=\"pre\">=</span> <span class=\"pre\">values</span></code></td>\n",
    "<td><code class=\"docutils literal\"><span class=\"pre\">setitem(seq,</span> <span class=\"pre\">slice(i,</span> <span class=\"pre\">j),</span> <span class=\"pre\">values)</span></code></td>\n",
    "</tr>\n",
    "<tr class=\"row-even\"><td>Slice Deletion</td>\n",
    "<td><code class=\"docutils literal\"><span class=\"pre\">del</span> <span class=\"pre\">seq[i:j]</span></code></td>\n",
    "<td><code class=\"docutils literal\"><span class=\"pre\">delitem(seq,</span> <span class=\"pre\">slice(i,</span> <span class=\"pre\">j))</span></code></td>\n",
    "</tr>\n",
    "<tr class=\"row-odd\"><td>Slicing</td>\n",
    "<td><code class=\"docutils literal\"><span class=\"pre\">seq[i:j]</span></code></td>\n",
    "<td><code class=\"docutils literal\"><span class=\"pre\">getitem(seq,</span> <span class=\"pre\">slice(i,</span> <span class=\"pre\">j))</span></code></td>\n",
    "</tr>\n",
    "<tr class=\"row-even\"><td>String Formatting</td>\n",
    "<td><code class=\"docutils literal\"><span class=\"pre\">s</span> <span class=\"pre\">%</span> <span class=\"pre\">obj</span></code></td>\n",
    "<td><code class=\"docutils literal\"><span class=\"pre\">mod(s,</span> <span class=\"pre\">obj)</span></code></td>\n",
    "</tr>\n",
    "<tr class=\"row-odd\"><td>Subtraction</td>\n",
    "<td><code class=\"docutils literal\"><span class=\"pre\">a</span> <span class=\"pre\">-</span> <span class=\"pre\">b</span></code></td>\n",
    "<td><code class=\"docutils literal\"><span class=\"pre\">sub(a,</span> <span class=\"pre\">b)</span></code></td>\n",
    "</tr>\n",
    "<tr class=\"row-even\"><td>Truth Test</td>\n",
    "<td><code class=\"docutils literal\"><span class=\"pre\">obj</span></code></td>\n",
    "<td><code class=\"docutils literal\"><span class=\"pre\">truth(obj)</span></code></td>\n",
    "</tr>\n",
    "<tr class=\"row-odd\"><td>Ordering</td>\n",
    "<td><code class=\"docutils literal\"><span class=\"pre\">a</span> <span class=\"pre\">&lt;</span> <span class=\"pre\">b</span></code></td>\n",
    "<td><code class=\"docutils literal\"><span class=\"pre\">lt(a,</span> <span class=\"pre\">b)</span></code></td>\n",
    "</tr>\n",
    "<tr class=\"row-even\"><td>Ordering</td>\n",
    "<td><code class=\"docutils literal\"><span class=\"pre\">a</span> <span class=\"pre\">&lt;=</span> <span class=\"pre\">b</span></code></td>\n",
    "<td><code class=\"docutils literal\"><span class=\"pre\">le(a,</span> <span class=\"pre\">b)</span></code></td>\n",
    "</tr>\n",
    "<tr class=\"row-odd\"><td>Equality</td>\n",
    "<td><code class=\"docutils literal\"><span class=\"pre\">a</span> <span class=\"pre\">==</span> <span class=\"pre\">b</span></code></td>\n",
    "<td><code class=\"docutils literal\"><span class=\"pre\">eq(a,</span> <span class=\"pre\">b)</span></code></td>\n",
    "</tr>\n",
    "<tr class=\"row-even\"><td>Difference</td>\n",
    "<td><code class=\"docutils literal\"><span class=\"pre\">a</span> <span class=\"pre\">!=</span> <span class=\"pre\">b</span></code></td>\n",
    "<td><code class=\"docutils literal\"><span class=\"pre\">ne(a,</span> <span class=\"pre\">b)</span></code></td>\n",
    "</tr>\n",
    "<tr class=\"row-odd\"><td>Ordering</td>\n",
    "<td><code class=\"docutils literal\"><span class=\"pre\">a</span> <span class=\"pre\">&gt;=</span> <span class=\"pre\">b</span></code></td>\n",
    "<td><code class=\"docutils literal\"><span class=\"pre\">ge(a,</span> <span class=\"pre\">b)</span></code></td>\n",
    "</tr>\n",
    "<tr class=\"row-even\"><td>Ordering</td>\n",
    "<td><code class=\"docutils literal\"><span class=\"pre\">a</span> <span class=\"pre\">&gt;</span> <span class=\"pre\">b</span></code></td>\n",
    "<td><code class=\"docutils literal\"><span class=\"pre\">gt(a,</span> <span class=\"pre\">b)</span></code></td>\n",
    "</tr>\n",
    "</tbody>\n",
    "</table>"
   ]
  },
  {
   "cell_type": "code",
   "execution_count": null,
   "metadata": {
    "collapsed": true
   },
   "outputs": [],
   "source": []
  }
 ],
 "metadata": {
  "kernelspec": {
   "display_name": "Python 3",
   "language": "python",
   "name": "python3"
  },
  "language_info": {
   "codemirror_mode": {
    "name": "ipython",
    "version": 3
   },
   "file_extension": ".py",
   "mimetype": "text/x-python",
   "name": "python",
   "nbconvert_exporter": "python",
   "pygments_lexer": "ipython3",
   "version": "3.6.1"
  }
 },
 "nbformat": 4,
 "nbformat_minor": 2
}
