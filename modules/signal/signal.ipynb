{
 "cells": [
  {
   "cell_type": "markdown",
   "metadata": {},
   "source": [
    "<center><h1>signal</h1></center>"
   ]
  },
  {
   "cell_type": "markdown",
   "metadata": {},
   "source": [
    "# 1 introduction\n",
    "---\n",
    "set handlers for asynchronous events\n",
    "\n",
    "- 可在linux中通过`kill -l`查看已定义的信号\n",
    "- 在signal模块，我们常用`signal.signal()`函数自定义信号处理操作。\n",
    "- 在多线程中，信号处理只在主线程中进行，即便在子线程中接收到信号。所以信号不能作为线程通信方式。\n",
    "- 通过`os.kill(pid, sig)`\n",
    "- 建议在Linux系统中运行，一些方法及signal不能在win中使用。\n",
    "\n",
    "\n",
    "# 2 常用的signal标识\n",
    "---\n",
    "python3.5以后，所有的signal被包装成`enum`对象返回，如：\n",
    "```python\n",
    "signal.SIGINT # <Signals.SIGINT: 2>\n",
    "signal.SIGINT.name # SIGINT\n",
    "signal.SIGINT.value # 2\n",
    "```\n",
    "> signal模块中定义的变量有\n",
    "\n",
    "1. 已定义的两个标准信号hanlder，用于信号处理\n",
    "    - `signal.SIG_DFL` : 接收信号默认操作\n",
    "    - `signal.SIG_IGN` : 忽略处理接收到的信号\n",
    "\n",
    "2. 下列的信号标识，可以通过`os.kill(pid, sig)`方法进行信号传递。\n",
    "    - 所有的`kill -l`中列出的信号\n",
    "    - `signal.CTRL_C_EVENT` : ctrl+c,在Windows.\n",
    "    - `signal.CTRL_BREAK_EVENT` : ctrl+break, Availability: Windows.\n",
    "    - `signal.NISG` : 获得一个比已定义的最大的信号数大1的数字\n",
    "    - `signal.ITIMER_REAL` : SIGALRM\n",
    "    - `signal.ITIMER_VIRTUAL` : SIGVTALRM\n",
    "    - `signal.ITIMER_PROF` : SIGPROF\n",
    "    - `signal.SIG_BLOCK` : 用于pthread_sigmask()\n",
    "    - `signal.SIG_UNBLOCK` : 用于pthread_sigmask()\n",
    "    - `signal.SIG_SETMASK` : 用于pthread_sigmask()\n",
    "\n",
    "# 3 function\n",
    "---\n",
    "\n",
    "```python\n",
    "signal.alarm(time) # time秒后，向自己发送`SIGALRM`信号\n",
    "\n",
    "signal.getsignal(signalnum) # 获取数值类型信号的信号handler\n",
    "\n",
    "signal.pause() # 接收到信号之前进入暂停状态\n",
    "\n",
    "signal.signal(signalnum, handler) # 重新定义信号的执行行为，handler可以是signal.SIG_IGN:忽略该信号，signal.SIG_DFL:原有信号的执行行为，也可以是自定义的函数，但是函数参数格式必须为funcname(sig, frame):\n",
    "\n",
    "signal.pthread_kill(thread_id, signalnum) # 向同处于一个进程内的其他线程发送信号\n",
    "\n",
    "signal.sigpending()\n",
    "\n",
    "signal.sigwait(sigset) # 在接收到指定信号前，延迟执行。\n",
    "```\n",
    "\n",
    "\n",
    "```python\n",
    "signal.pthread_sigmask(how, mask)\n",
    "\n",
    "signal.setitimer(which, seconds[, interval]) # 设置时钟信号的执行方式\n",
    "\n",
    "signal.getitimer(which) # 获取时钟信号的时间值\n",
    "\n",
    "signal.set_wakeup_fd(fd) # 用于对文件描述符的操作\n",
    "\n",
    "signal.siginterrupt(signalnum, flag) # 改变重启行为\n",
    "\n",
    "\n",
    "```"
   ]
  }
 ],
 "metadata": {
  "kernelspec": {
   "display_name": "Python [conda root]",
   "language": "python",
   "name": "conda-root-py"
  },
  "language_info": {
   "codemirror_mode": {
    "name": "ipython",
    "version": 3
   },
   "file_extension": ".py",
   "mimetype": "text/x-python",
   "name": "python",
   "nbconvert_exporter": "python",
   "pygments_lexer": "ipython3",
   "version": "3.6.1"
  }
 },
 "nbformat": 4,
 "nbformat_minor": 2
}
