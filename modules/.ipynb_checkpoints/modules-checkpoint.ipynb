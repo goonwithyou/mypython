{
 "cells": [
  {
   "cell_type": "markdown",
   "metadata": {},
   "source": [
    "# difflib"
   ]
  },
  {
   "cell_type": "markdown",
   "metadata": {},
   "source": [
    "> 用于对比两个文件的不同"
   ]
  },
  {
   "cell_type": "markdown",
   "metadata": {},
   "source": [
    "# textwrap\n",
    "> 用于段落字符串行输出格式操作，"
   ]
  },
  {
   "cell_type": "code",
   "execution_count": 23,
   "metadata": {},
   "outputs": [
    {
     "name": "stdout",
     "output_type": "stream",
     "text": [
      "+ hello\n",
      "+ \n",
      "+  \n",
      "+ world\n"
     ]
    }
   ],
   "source": [
    "import textwrap as tw\n",
    "\n",
    "\n",
    "text = 'The textwrap module provides some convenience functions, as well as TextWrapper, the class that does all the work. If you’re just wrapping or filling one or two text strings, the convenience functions should be good enough; otherwise, you should use an instance of TextWrapper for efficiency.'\n",
    "# tw.wrap(text, 20)\n",
    "# print(tw.fill(text, 20))\n",
    "s = 'hello\\n\\n \\nworld'\n",
    "# tw.indent(s, '#')\n",
    "print(tw.indent(s, '+ ', lambda line: True))"
   ]
  },
  {
   "cell_type": "markdown",
   "metadata": {},
   "source": [
    "# unicodedata\n",
    ">　unicode相关数据"
   ]
  },
  {
   "cell_type": "code",
   "execution_count": 24,
   "metadata": {},
   "outputs": [
    {
     "data": {
      "text/plain": [
       "'LEFT CURLY BRACKET'"
      ]
     },
     "execution_count": 24,
     "metadata": {},
     "output_type": "execute_result"
    }
   ],
   "source": [
    "import unicodedata as ud\n",
    "\n",
    "ud.name('{')"
   ]
  },
  {
   "cell_type": "code",
   "execution_count": 29,
   "metadata": {},
   "outputs": [
    {
     "data": {
      "text/plain": [
       "0"
      ]
     },
     "execution_count": 29,
     "metadata": {},
     "output_type": "execute_result"
    }
   ],
   "source": [
    "ud.decimal('0')"
   ]
  },
  {
   "cell_type": "code",
   "execution_count": 30,
   "metadata": {},
   "outputs": [
    {
     "data": {
      "text/plain": [
       "['UCD',\n",
       " '__doc__',\n",
       " '__file__',\n",
       " '__loader__',\n",
       " '__name__',\n",
       " '__package__',\n",
       " '__spec__',\n",
       " 'bidirectional',\n",
       " 'category',\n",
       " 'combining',\n",
       " 'decimal',\n",
       " 'decomposition',\n",
       " 'digit',\n",
       " 'east_asian_width',\n",
       " 'lookup',\n",
       " 'mirrored',\n",
       " 'name',\n",
       " 'normalize',\n",
       " 'numeric',\n",
       " 'ucd_3_2_0',\n",
       " 'ucnhash_CAPI',\n",
       " 'unidata_version']"
      ]
     },
     "execution_count": 30,
     "metadata": {},
     "output_type": "execute_result"
    }
   ],
   "source": [
    "dir(ud)"
   ]
  },
  {
   "cell_type": "markdown",
   "metadata": {},
   "source": [
    "# stringprep\n",
    "\n",
    "> 网络字符处理，如url"
   ]
  },
  {
   "cell_type": "code",
   "execution_count": 37,
   "metadata": {},
   "outputs": [
    {
     "data": {
      "text/plain": [
       "True"
      ]
     },
     "execution_count": 37,
     "metadata": {},
     "output_type": "execute_result"
    }
   ],
   "source": [
    "import stringprep as sp\n",
    "\n",
    "sp.in_table_a1('\\u0236')"
   ]
  },
  {
   "cell_type": "code",
   "execution_count": 38,
   "metadata": {},
   "outputs": [
    {
     "name": "stdout",
     "output_type": "stream",
     "text": [
      "ȶ\n"
     ]
    }
   ],
   "source": [
    "print('\\u0236')"
   ]
  },
  {
   "cell_type": "markdown",
   "metadata": {},
   "source": [
    "# readline\n",
    "\n",
    "> "
   ]
  },
  {
   "cell_type": "code",
   "execution_count": 51,
   "metadata": {},
   "outputs": [
    {
     "data": {
      "text/plain": [
       "''"
      ]
     },
     "execution_count": 51,
     "metadata": {},
     "output_type": "execute_result"
    }
   ],
   "source": [
    "import readline as rl\n",
    "\n",
    "rl.get_line_buffer()"
   ]
  },
  {
   "cell_type": "markdown",
   "metadata": {},
   "source": [
    "# rlcompleter\n",
    "\n",
    "> 可以实现终端命令补全功能"
   ]
  },
  {
   "cell_type": "code",
   "execution_count": null,
   "metadata": {
    "collapsed": true
   },
   "outputs": [],
   "source": [
    "import rlcompleter\n",
    "import readline\n",
    "\n",
    "readline.parse_and_bind('tab: complete')\n",
    "# 按下ｔａｂ键就可以实现命令补全"
   ]
  }
 ],
 "metadata": {
  "kernelspec": {
   "display_name": "Python [default]",
   "language": "python",
   "name": "python3"
  },
  "language_info": {
   "codemirror_mode": {
    "name": "ipython",
    "version": 3
   },
   "file_extension": ".py",
   "mimetype": "text/x-python",
   "name": "python",
   "nbconvert_exporter": "python",
   "pygments_lexer": "ipython3",
   "version": "3.6.1"
  }
 },
 "nbformat": 4,
 "nbformat_minor": 2
}
