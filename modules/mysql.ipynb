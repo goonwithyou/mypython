{
 "cells": [
  {
   "cell_type": "markdown",
   "metadata": {},
   "source": [
    "# help\n",
    "---\n",
    "```mysql\n",
    "help\n",
    "help contents\n",
    "help create\n",
    "help show\n",
    "...\n",
    "```"
   ]
  },
  {
   "cell_type": "markdown",
   "metadata": {},
   "source": [
    "# references\n",
    "---\n",
    "```mysql\n",
    "help constraint\n",
    "```\n",
    "\n",
    "---\n",
    "```mysql\n",
    "foreign key [index_name] (index_colname,...)\n",
    "references tbl_name(index_colname,...)\n",
    "[on delete reference_option]\n",
    "[on update reference_option]\n",
    "```\n",
    "> reference_option\n",
    "- restrict: 从表有关联值，主表不能操作\n",
    "- cascade: 主表修改删除，从表跟着修改删除\n",
    "- set null: \n",
    "- no action: 同restrict\n",
    "- set default"
   ]
  },
  {
   "cell_type": "markdown",
   "metadata": {},
   "source": [
    "# load data\n",
    "---\n",
    "\n",
    "```mysql\n",
    "help load data\n",
    "\n",
    "LOAD DATA [LOW_PRIORITY | CONCURRENT] [LOCAL] INFILE 'file_name'\n",
    "    [REPLACE | IGNORE]\n",
    "    INTO TABLE tbl_name\n",
    "    [PARTITION (partition_name,...)]\n",
    "    [CHARACTER SET charset_name]\n",
    "    [{FIELDS | COLUMNS}\n",
    "        [TERMINATED BY 'string']\n",
    "        [[OPTIONALLY] ENCLOSED BY 'char']\n",
    "        [ESCAPED BY 'char']\n",
    "    ]\n",
    "    [LINES\n",
    "        [STARTING BY 'string']\n",
    "        [TERMINATED BY 'string']\n",
    "    ]\n",
    "    [IGNORE number {LINES | ROWS}]\n",
    "    [(col_name_or_user_var,...)]\n",
    "    [SET col_name = expr,...]\n",
    "\n",
    "```\n",
    "- 把文件移动到mysql指定搜索路径．\n",
    "    - 查看搜索路径`show variables like 'secure_file_priv'`\n",
    "- 执行语句\n",
    "```mysql\n",
    "load data infile '/var/lib/mysql-files/user.txt'\n",
    "into table user\n",
    "character set utf8\n",
    "fields terminated by ':'\n",
    "lines terminated by '\\n'\n",
    "```\n",
    "**注**：用绝对路径"
   ]
  },
  {
   "cell_type": "markdown",
   "metadata": {},
   "source": [
    "# load outfile\n",
    "---\n",
    "```mysql\n",
    "select ...from tablename\n",
    "into outfile 'filename'\n",
    "fields terminated by 'delimiter'\n",
    "lines terminated by '\\n'\n",
    "```\n",
    "导出选项除了前两行，其他选项内容同导入选项．"
   ]
  },
  {
   "cell_type": "markdown",
   "metadata": {
    "collapsed": true
   },
   "source": [
    "# 备份\n",
    "---\n",
    "## 完全备份\n",
    "---\n",
    "```\n",
    "mysqldump -u用户名 -p 源库名 > ../xx.sql\n",
    "    eg:\n",
    "        mysqldump -uroot -p db4 > db4.sql\n",
    "    源库名：\n",
    "        --all-database\n",
    "        -B db1 db2 ...\n",
    "        db1 table1 table2 ...\n",
    "```\n",
    "## 增量备份\n",
    "---\n",
    "## 恢复\n",
    "---\n",
    "```\n",
    "mysql -uroot -p db4 < db4.sql\n",
    "mysql -uroot -p --one-database 目标库名 < all.sql\n",
    "```"
   ]
  },
  {
   "cell_type": "markdown",
   "metadata": {
    "collapsed": true
   },
   "source": [
    "# innodb & myisam\n",
    "---\n",
    "1. innodb\n",
    "    - 共享表空间\n",
    "        - table_name.frm 存放表结构\n",
    "        - table_name.ibd 存放表数据和索引数据\n",
    "    - 支持行级锁\n",
    "2. myisam\n",
    "    - 独享表空间\n",
    "        - table_name.frm 存放表结构\n",
    "        - table_name.myd 表记录\n",
    "        - table_name.myi 表索引\n",
    "    - 支持表级锁\n",
    "        - 表级读锁，适用于查询多的场景\n",
    "\n",
    "> 锁\n",
    "- 加锁是为了避免产生并发冲突问题．\n",
    "- 常见的锁类型\n",
    "    - 读锁\n",
    "    - 写锁\n",
    "- 锁粒度\n",
    "    - 表级锁\n",
    "    - 行级锁\n"
   ]
  },
  {
   "cell_type": "markdown",
   "metadata": {
    "collapsed": true
   },
   "source": [
    "# 调优\n",
    "---\n",
    "1. 引擎优化innodb, myisam\n",
    "2. sql语句优化\n",
    "    - 避免全表扫描\n",
    "        - 关键字段建立index\n",
    "        - where条件判断避免使用`!=`\n",
    "        - 避免`null`值判断，表结构设计时避免使用默认值`null`\n",
    "        - 避免使用`or`条件判断，用`union all`连接多条查询语句\n",
    "        - 模糊查询时，避免使用前置`%`\n",
    "        - 避免使用`in` and `not in`,如果可以用`between ... and ..`代替\n",
    "        - 避免使用 `select *`,用具体字段名"
   ]
  },
  {
   "cell_type": "markdown",
   "metadata": {
    "collapsed": true
   },
   "source": []
  },
  {
   "cell_type": "code",
   "execution_count": 1,
   "metadata": {
    "collapsed": true
   },
   "outputs": [],
   "source": [
    "import pymysql"
   ]
  },
  {
   "cell_type": "code",
   "execution_count": 6,
   "metadata": {},
   "outputs": [],
   "source": [
    "conn = pymysql.connect(host='localhost', user='root',port=3306,password='123456')"
   ]
  },
  {
   "cell_type": "code",
   "execution_count": 7,
   "metadata": {
    "collapsed": true
   },
   "outputs": [],
   "source": [
    "cur = conn.cursor()"
   ]
  },
  {
   "cell_type": "code",
   "execution_count": 9,
   "metadata": {},
   "outputs": [],
   "source": [
    "cur.execute?"
   ]
  },
  {
   "cell_type": "code",
   "execution_count": null,
   "metadata": {
    "collapsed": true
   },
   "outputs": [],
   "source": []
  }
 ],
 "metadata": {
  "kernelspec": {
   "display_name": "Python [default]",
   "language": "python",
   "name": "python3"
  },
  "language_info": {
   "codemirror_mode": {
    "name": "ipython",
    "version": 3
   },
   "file_extension": ".py",
   "mimetype": "text/x-python",
   "name": "python",
   "nbconvert_exporter": "python",
   "pygments_lexer": "ipython3",
   "version": "3.6.1"
  }
 },
 "nbformat": 4,
 "nbformat_minor": 2
}
