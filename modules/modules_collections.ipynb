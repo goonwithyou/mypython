{
 "cells": [
  {
   "cell_type": "markdown",
   "metadata": {},
   "source": [
    "<center><h1>collections</h1></center>"
   ]
  },
  {
   "cell_type": "markdown",
   "metadata": {},
   "source": [
    "该模块的主要功能是对集合，列表，字典，容器类数据结构功能的高级包装，方法比较简单，但是比较实用。\n",
    "\n",
    "```python\n",
    "import collections\n",
    "\n",
    "namedtuple() # factory function for creating tuple subclasses with named fields.\n",
    "\n",
    "deque # list-like container with fast appends and pops on either end.\n",
    "\n",
    "ChainMap # dict-like class for creating a single view of multiple mappings.\n",
    "\n",
    "Counter # dict subclass for counting hashable objects.\n",
    "\n",
    "OrderedDict # dict subclass that remembers the order entries were added.\n",
    "\n",
    "defaultdict # dict subclass that call a factory function to supply missing values.\n",
    "\n",
    "UserDict # wrapper around dictionary objects for easier dict subclassing.\n",
    "\n",
    "UserList # wrapper around list objects for easier list subclassing.\n",
    "\n",
    "UserString # wrapper around string objects for easier string subclassing.\n",
    "```"
   ]
  },
  {
   "cell_type": "markdown",
   "metadata": {},
   "source": [
    "# 1 ChainMap objects\n",
    "---\n",
    "链接多个dict对象，成为一个新的对象，比字典update速度更快。\n",
    "\n",
    "```python\n",
    "maps\n",
    "\n",
    "new_child(m=None) # 把m加到链表中，并生成新的对象。\n",
    "\n",
    "parents # 返回一个新的chainmap不包含第一项\n",
    "```"
   ]
  },
  {
   "cell_type": "markdown",
   "metadata": {},
   "source": [
    "# 2 Counter objects\n",
    "---\n",
    "1. 是一个字典子类，用于统计可hash（即不可变）的对象。\n",
    "2. 是一个无序的字典，key保存对象，value用于计数\n",
    "\n",
    "```python\n",
    "# 创建counter对象，参数为任何可迭代的对象或map\n",
    "collections.Counter([iterable-or-mapping])\n",
    "\n",
    "# 返回一个记录所有个数对象的迭代器,或略个数为0或复数的对象\n",
    "elements()\n",
    "\n",
    "# 返回n个最多的对象,如果个数相同则任意返回\n",
    "most_common([n])\n",
    "\n",
    "# 用于两个counter个数相减\n",
    "subtract()\n",
    "\n",
    "fromkeys()\n",
    "\n",
    "update()\n",
    "```"
   ]
  },
  {
   "cell_type": "markdown",
   "metadata": {},
   "source": [
    "# 3 deque objects\n",
    "---\n",
    "生成一个队列对象，有双向队列的功能，方便的实现了两边进出的函数。执行效率比list更好。\n",
    "\n",
    "**`collections.deque([iterable[, maxlen]])`**\n",
    "```python\n",
    "append(x)\n",
    "\n",
    "appendleft(x)\n",
    "\n",
    "clear()\n",
    "\n",
    "copy() # 浅拷贝\n",
    "\n",
    "count(x)\n",
    "\n",
    "extend(iterable)\n",
    "\n",
    "extendleft(iterable)\n",
    "\n",
    "index(x[, start[, stop]])\n",
    "\n",
    "insert(i, x)\n",
    "\n",
    "pop()\n",
    "\n",
    "popleft()\n",
    "\n",
    "remove(value) # remove第一个出现的值\n",
    "\n",
    "reverse()\n",
    "\n",
    "rotate(n=1) # 正值为把值从右侧取出，放到左侧。负值则相反。\n",
    "\n",
    "maxlen()\n",
    "```"
   ]
  },
  {
   "cell_type": "markdown",
   "metadata": {},
   "source": [
    "# 4 defaultdict objects\n",
    "---\n",
    "`defaultdict([default_factory])`类重写了`dict`，可以通过default_factory(可调用)来指定dict创建时的默认value类型。\n",
    "```python\n",
    "d = defaultdict(list)\n",
    "\n",
    "d = defaultdict(int)\n",
    "\n",
    "d = defaultdict(set)\n",
    "```"
   ]
  },
  {
   "cell_type": "markdown",
   "metadata": {},
   "source": [
    "# 5 namedtuple()\n",
    "---\n",
    "带命名空间的tuple。\n",
    "```python\n",
    "collections.namedtuple(typename, field_names, *, verbose=False, rename=False, module=None)\n",
    "```"
   ]
  },
  {
   "cell_type": "code",
   "execution_count": 19,
   "metadata": {},
   "outputs": [
    {
     "name": "stdout",
     "output_type": "stream",
     "text": [
      "count--> 1\n",
      "index--> 2\n",
      "x--> 2\n",
      "y--> 4\n",
      "z--> 6\n"
     ]
    }
   ],
   "source": [
    "import collections\n",
    "\n",
    "# 定义一个point类\n",
    "point = collections.namedtuple('Point', ['x', 'y', 'z'])\n",
    "\n",
    "# 创建一个实例\n",
    "p = point(2,4,6)\n",
    "\n",
    "print('count-->', p.count(2))\n",
    "print('index-->', p.index(6))\n",
    "print('x-->', p.x)\n",
    "print('y-->', p.y)\n",
    "print('z-->', p.z)"
   ]
  },
  {
   "cell_type": "code",
   "execution_count": 21,
   "metadata": {},
   "outputs": [
    {
     "data": {
      "text/plain": [
       "Point(x='a', y='b', z='c')"
      ]
     },
     "execution_count": 21,
     "metadata": {},
     "output_type": "execute_result"
    }
   ],
   "source": [
    "p._make(['a', 'b', 'c'])"
   ]
  },
  {
   "cell_type": "code",
   "execution_count": 23,
   "metadata": {},
   "outputs": [
    {
     "data": {
      "text/plain": [
       "OrderedDict([('x', 2), ('y', 4), ('z', 6)])"
      ]
     },
     "execution_count": 23,
     "metadata": {},
     "output_type": "execute_result"
    }
   ],
   "source": [
    "p._asdict()"
   ]
  },
  {
   "cell_type": "code",
   "execution_count": 24,
   "metadata": {},
   "outputs": [
    {
     "data": {
      "text/plain": [
       "Point(x='code', y=4, z=6)"
      ]
     },
     "execution_count": 24,
     "metadata": {},
     "output_type": "execute_result"
    }
   ],
   "source": [
    "p._replace(x='code')"
   ]
  },
  {
   "cell_type": "code",
   "execution_count": 28,
   "metadata": {},
   "outputs": [
    {
     "data": {
      "text/plain": [
       "('x', 'y', 'z')"
      ]
     },
     "execution_count": 28,
     "metadata": {},
     "output_type": "execute_result"
    }
   ],
   "source": [
    "p._fields"
   ]
  },
  {
   "cell_type": "markdown",
   "metadata": {},
   "source": [
    "# 6 OrderedDict objects\n",
    "---\n",
    "有序的字典\n",
    "```python\n",
    "class collections.OrderedDict([items])\n",
    "```"
   ]
  },
  {
   "cell_type": "code",
   "execution_count": 36,
   "metadata": {},
   "outputs": [
    {
     "name": "stdout",
     "output_type": "stream",
     "text": [
      "('c', 3)\n",
      "('a', 1)\n"
     ]
    }
   ],
   "source": [
    "import collections\n",
    "\n",
    "od = collections.OrderedDict({'a':1, 'b':2, 'c':3})\n",
    "\n",
    "# popitem(last=True) 弹出最后一个，last=False则弹出第一个\n",
    "print(od.popitem(last=True))\n",
    "print(od.popitem(last=False))"
   ]
  },
  {
   "cell_type": "code",
   "execution_count": 41,
   "metadata": {},
   "outputs": [
    {
     "name": "stdout",
     "output_type": "stream",
     "text": [
      "OrderedDict([('a', 1), ('c', 3), ('b', 2)])\n",
      "OrderedDict([('b', 2), ('a', 1), ('c', 3)])\n"
     ]
    }
   ],
   "source": [
    "import collections\n",
    "\n",
    "od = collections.OrderedDict({'a':1, 'b':2, 'c':3})\n",
    "\n",
    "# move_to_end(key, last=True) # 把其中一个key值移到最后或开始\n",
    "od.move_to_end('b', last=True)\n",
    "print(od)\n",
    "\n",
    "od = collections.OrderedDict({'a':1, 'b':2, 'c':3})\n",
    "od.move_to_end('b', last=False)\n",
    "print(od)"
   ]
  },
  {
   "cell_type": "markdown",
   "metadata": {},
   "source": [
    "# 7 User\n",
    "---\n",
    "```python\n",
    "class collections.UserDict([initialdata])\n",
    "class collections.UserList([list])\n",
    "class collections.UserString([sequence])\n",
    "```\n",
    "创建dict,list,string对象，更加的方便继承和重写原有的方法。而不会影响原有的dict，list，str"
   ]
  }
 ],
 "metadata": {
  "kernelspec": {
   "display_name": "Python [conda root]",
   "language": "python",
   "name": "conda-root-py"
  },
  "language_info": {
   "codemirror_mode": {
    "name": "ipython",
    "version": 3
   },
   "file_extension": ".py",
   "mimetype": "text/x-python",
   "name": "python",
   "nbconvert_exporter": "python",
   "pygments_lexer": "ipython3",
   "version": "3.6.1"
  }
 },
 "nbformat": 4,
 "nbformat_minor": 2
}
