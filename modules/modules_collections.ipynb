{
 "cells": [
  {
   "cell_type": "markdown",
   "metadata": {},
   "source": [
    "<center><h1>collections</h1></center>"
   ]
  },
  {
   "cell_type": "markdown",
   "metadata": {},
   "source": [
    "```python\n",
    "import collections\n",
    "\n",
    "namedtuple() # factory function for creating tuple subclasses with named fields.\n",
    "\n",
    "deque # list-like container with fast appends and pops on either end.\n",
    "\n",
    "ChainMap # dict-like class for creating a single view of multiple mappings.\n",
    "\n",
    "Counter # dict subclass for counting hashable objects.\n",
    "\n",
    "OrderedDict # dict subclass that remembers the order entries were added.\n",
    "\n",
    "defaultdict # dict subclass that call a factory function to supply missing values.\n",
    "\n",
    "UserDict # wrapper around dictionary objects for easier dict subclassing.\n",
    "\n",
    "UserList # wrapper around list objects for easier list subclassing.\n",
    "\n",
    "UserString # wrapper around string objects for easier string subclassing.\n",
    "```"
   ]
  },
  {
   "cell_type": "markdown",
   "metadata": {},
   "source": [
    "# 1 ChainMap objects\n",
    "---\n",
    "链接多个dict对象，成为一个新的对象，比字典update速度更快。\n",
    "\n",
    "```python\n",
    "maps\n",
    "\n",
    "new_child(m=None) # 把m加到链表中，并生成新的对象。\n",
    "\n",
    "parents # 返回一个新的chainmap不包含第一项\n",
    "```"
   ]
  },
  {
   "cell_type": "markdown",
   "metadata": {},
   "source": [
    "# 2 Counter objects\n",
    "---\n",
    "1. 是一个字典子类，用于统计可hash（即不可变）的对象。\n",
    "2. 是一个无序的字典，key保存对象，value用于计数\n",
    "\n",
    "```python\n",
    "# 创建counter对象，参数为任何可迭代的对象或map\n",
    "collections.Counter([iterable-or-mapping])\n",
    "\n",
    "# 返回一个记录所有个数对象的迭代器,或略个数为0或复数的对象\n",
    "elements()\n",
    "\n",
    "# 返回n个最多的对象,如果个数相同则任意返回\n",
    "most_common([n])\n",
    "\n",
    "# 用于两个counter个数相减\n",
    "subtract()\n",
    "\n",
    "fromkeys()\n",
    "\n",
    "update()\n",
    "```"
   ]
  },
  {
   "cell_type": "code",
   "execution_count": 1,
   "metadata": {},
   "outputs": [],
   "source": [
    "import collections"
   ]
  },
  {
   "cell_type": "code",
   "execution_count": null,
   "metadata": {},
   "outputs": [],
   "source": []
  },
  {
   "cell_type": "code",
   "execution_count": null,
   "metadata": {},
   "outputs": [],
   "source": []
  },
  {
   "cell_type": "code",
   "execution_count": null,
   "metadata": {},
   "outputs": [],
   "source": []
  },
  {
   "cell_type": "code",
   "execution_count": null,
   "metadata": {},
   "outputs": [],
   "source": []
  },
  {
   "cell_type": "code",
   "execution_count": null,
   "metadata": {},
   "outputs": [],
   "source": []
  },
  {
   "cell_type": "code",
   "execution_count": null,
   "metadata": {},
   "outputs": [],
   "source": []
  }
 ],
 "metadata": {
  "kernelspec": {
   "display_name": "Python [conda root]",
   "language": "python",
   "name": "conda-root-py"
  },
  "language_info": {
   "codemirror_mode": {
    "name": "ipython",
    "version": 3
   },
   "file_extension": ".py",
   "mimetype": "text/x-python",
   "name": "python",
   "nbconvert_exporter": "python",
   "pygments_lexer": "ipython3",
   "version": "3.6.1"
  }
 },
 "nbformat": 4,
 "nbformat_minor": 2
}
