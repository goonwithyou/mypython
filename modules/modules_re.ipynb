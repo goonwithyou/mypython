{
 "cells": [
  {
   "cell_type": "markdown",
   "metadata": {},
   "source": [
    "# python中的正则表达式"
   ]
  },
  {
   "cell_type": "markdown",
   "metadata": {},
   "source": [
    "# 正则表达式\n",
    "1. 特点\n",
    "    - 方便进行检索修改的文本操作。\n",
    "    - 支持语言众多\n",
    "    - 使用灵活多样"
   ]
  },
  {
   "cell_type": "markdown",
   "metadata": {},
   "source": [
    "> python中的正则表达式的操作主要在(re)模块内，下面介绍正则表达式的常用格式，以及re包的具体使用．"
   ]
  },
  {
   "cell_type": "markdown",
   "metadata": {},
   "source": [
    "- `.`     : 匹配任意字符\n",
    "- `^`     : 指明从头开始匹配，如果是多行模式，将从每行的头部开始匹配\n",
    "- `$`     : 指明匹配内容的结束格式，也适用于多行\n",
    "- `*`     : 匹配0个或多个\n",
    "- `+`     : 匹配1个或多个\n",
    "- `?`     : 匹配0个或1个\n",
    "- `{m}`   : 指定匹配次数，a{3},匹配3个a\n",
    "- `{m,n}` : 指定匹配个数区间，a{3,5},匹配3-5个a\n",
    "- `[]`    : 匹配字符集合\n",
    "- `|`     : 或\n",
    "\n",
    "- `()`    : 用于组匹配，\n",
    "- `(?aiLmsux)`：用于re模块的flags标识。\n",
    "    - re.A : 只匹配ascii\n",
    "    - re.I : 忽略大小写\n",
    "    - re.L : local dependent\n",
    "    - re.M : 多行模式\n",
    "    - re.S : 点匹配适用于多行 re.DOTALL\n",
    "    - re.U : unicode匹配\n",
    "    - re.X : 优化表达式的书写方式，可以添加注释和换行及空格 re.VERBOSE\n",
    "\n",
    "- `\\A` : 匹配字符串开始\n",
    "- `\\b` : 匹配（非）单词边界位置\n",
    "- `\\B` : \n",
    "- `\\d` : [0-9]\n",
    "- `\\D` : [^0-9]\n",
    "- `\\s` : [ \\t\\n\\r\\f\\v]\n",
    "- `\\S` : [^ \\t\\n\\r\\f\\v]\n",
    "- `\\w` : [a-zA-Z0-9]\n",
    "- `\\W` : [^a-zA-Z0-9]\n",
    "- `\\Z` : 匹配字符串结尾\n",
    "\n",
    "> 在匹配的过程，默认都是贪婪匹配，即尽可能多的匹配符合要求的结果．比如`*`有多个的情况下匹配多个，`+`有多个的情况下会匹配多个，`?`有一个的情况下会匹配一个，`{m,n}`有ｎ个则匹配ｎ个．\n",
    "\n",
    "> 如果想采用非贪婪匹配，只需在匹配量词后加上`?`,\n",
    "\n",
    "> 贪婪模式：贪婪模式的量词包括：`?`,`*`,`+`,`{m,n}`\n",
    "\n",
    "> 非贪婪模式(懒惰模式)：只需在匹配优先量词后加上?，如：`??`,`*?`,`+?`,`{m,n}?`\n"
   ]
  },
  {
   "cell_type": "markdown",
   "metadata": {},
   "source": [
    "## 小结\n",
    "- 用r来标识字符串，可以使字符串内的转意字符失效．r'\\n'\n",
    "- 匹配单个字符：`. \\d \\D \\w \\W \\s \\S [...] [^...]`\n",
    "- 匹配重复性：`* ? {N} {m, n}`\n",
    "- 匹配位置：`^ $ \\A \\Z \\b \\B`\n",
    "- 其他：`| () \\`"
   ]
  },
  {
   "cell_type": "markdown",
   "metadata": {
    "collapsed": true
   },
   "source": [
    "# re\n",
    "---\n"
   ]
  },
  {
   "cell_type": "markdown",
   "metadata": {},
   "source": [
    "```python\n",
    "regex = compile(pattern, flags=0) # 生成正则表达式对象\n",
    "\n",
    "escape(pattern) # 将所有非字母数字变成转义格式\n",
    "findall(pattern, string, flags=0)# 查找正则表达式匹配的内容，以列表的形式返回。\n",
    "finditer(pattern, string, flags=0) # 返回一个匹配内容的迭代器\n",
    "fullmatch() # 绝对匹配\n",
    "\n",
    "match(pattern, string, flags=0) # 从头开始位置匹配\n",
    "purge() # 清除缓存\n",
    "search(pattern, string, flags=0) # 匹配符合条件的结果\n",
    "split(pattern, string, maxsplit=0, flags=0) # 用匹配内容，分割字符串\n",
    "\n",
    "sub(pattern, repl, string, count=0, flags=0) # 匹配并替换 \n",
    "subn(pattern, repl, string, count=0, flags=0) # 同sub，不同的是返回格式为(new_string, number)\n",
    "template()\n",
    "```"
   ]
  }
 ],
 "metadata": {
  "kernelspec": {
   "display_name": "Python [default]",
   "language": "python",
   "name": "python3"
  },
  "language_info": {
   "codemirror_mode": {
    "name": "ipython",
    "version": 3
   },
   "file_extension": ".py",
   "mimetype": "text/x-python",
   "name": "python",
   "nbconvert_exporter": "python",
   "pygments_lexer": "ipython3",
   "version": "3.6.1"
  }
 },
 "nbformat": 4,
 "nbformat_minor": 2
}
