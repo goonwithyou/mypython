{
 "cells": [
  {
   "cell_type": "markdown",
   "metadata": {},
   "source": [
    "# python中的正则表达式(待补充)"
   ]
  },
  {
   "cell_type": "markdown",
   "metadata": {},
   "source": [
    "> python中的正则表达式的操作主要在(re)模块内，下面介绍正则表达式的常用格式，以及re包的具体使用．"
   ]
  },
  {
   "cell_type": "markdown",
   "metadata": {},
   "source": [
    "- `.`     : 匹配任意字符\n",
    "- `^`     : 指明从头开始匹配，如果是多行模式，将从每行的头部开始匹配\n",
    "- `$`     : 指明匹配内容的结束格式，也适用于多行\n",
    "- `*`     : 匹配0个或多个\n",
    "- `+`     : 匹配1个或多个\n",
    "- `?`     : 匹配0个或1个\n",
    "- `{m}`   : 指定匹配次数，a{3},匹配3个a\n",
    "- `{m,n}` : 指定匹配个数区间，a{3,5},匹配3-5个a\n",
    "- `[]`    : \n",
    "- `|`     : 或\n",
    "\n",
    "- `()`    : 用于组匹配，\n",
    "- `(?aiLmsux)`\n",
    "    - re.A : 只匹配ascii\n",
    "    - re.I : 忽略大小写\n",
    "    - re.L : local dependent\n",
    "    - re.M : 多行模式\n",
    "    - re.S : 点匹配适用于多行 re.DOTALL\n",
    "    - re.U : unicode匹配\n",
    "    - re.X : 优化表达式的书写方式，可以添加注释和换行及空格 re.VERBOSE\n",
    "\n",
    "- `\\A` : 匹配字符串开始\n",
    "- `\\b` : 匹配空字符，只匹配单词两端\n",
    "- `\\B` : \n",
    "- `\\d` : [0-9]\n",
    "- `\\D` : [^0-9]\n",
    "- `\\s` : [ \\t\\n\\r\\f\\v]\n",
    "- `\\S` : [^ \\t\\n\\r\\f\\v]\n",
    "- `\\w` : [a-zA-Z0-9]\n",
    "- `\\W` : [^a-zA-Z0-9]\n",
    "- `\\Z` : 匹配字符串结尾\n",
    "\n",
    "> 在匹配的过程，默认都是贪婪匹配，即尽可能多的匹配符合要求的结果．比如`*`有多个的情况下匹配多个，`+`有多个的情况下会匹配多个，`?`有一个的情况下会匹配一个，`{m,n}`有ｎ个则匹配ｎ个．\n",
    "\n",
    "> 如果想采用非贪婪匹配，只需在匹配量词后加上`?`,\n",
    "\n",
    "> 贪婪模式：贪婪模式的量词包括：`?`,`*`,`+`,`{m,n}`\n",
    "\n",
    "> 非贪婪模式(懒惰模式)：只需在匹配优先量词后加上?，如：`??`,`*?`,`+?`,`{m,n}?`\n"
   ]
  },
  {
   "cell_type": "markdown",
   "metadata": {},
   "source": [
    "## 小结\n",
    "- 用r来标识字符串，可以使字符串内的转意字符失效．r'\\n'\n",
    "- "
   ]
  },
  {
   "cell_type": "code",
   "execution_count": null,
   "metadata": {
    "collapsed": true
   },
   "outputs": [],
   "source": []
  }
 ],
 "metadata": {
  "kernelspec": {
   "display_name": "Python 3",
   "language": "python",
   "name": "python3"
  },
  "language_info": {
   "codemirror_mode": {
    "name": "ipython",
    "version": 3
   },
   "file_extension": ".py",
   "mimetype": "text/x-python",
   "name": "python",
   "nbconvert_exporter": "python",
   "pygments_lexer": "ipython3",
   "version": "3.6.1"
  }
 },
 "nbformat": 4,
 "nbformat_minor": 2
}
