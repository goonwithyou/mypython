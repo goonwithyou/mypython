{
 "cells": [
  {
   "cell_type": "markdown",
   "metadata": {},
   "source": [
    "### @staticmethod @classmethod "
   ]
  },
  {
   "cell_type": "code",
   "execution_count": 4,
   "metadata": {
    "collapsed": true
   },
   "outputs": [],
   "source": [
    "class A:\n",
    "    def foo(self, x):\n",
    "        print('foo')\n",
    "        \n",
    "    @classmethod\n",
    "    def class_foo(cls, x):\n",
    "        print('class_foo')\n",
    "        \n",
    "    @staticmethod\n",
    "    def static_foo(x):\n",
    "        print('static')"
   ]
  },
  {
   "cell_type": "code",
   "execution_count": 3,
   "metadata": {},
   "outputs": [
    {
     "name": "stdout",
     "output_type": "stream",
     "text": [
      "class_foo\n"
     ]
    }
   ],
   "source": [
    "A.class_foo(3)"
   ]
  },
  {
   "cell_type": "markdown",
   "metadata": {},
   "source": [
    "### 单下划线和双下划线"
   ]
  },
  {
   "cell_type": "code",
   "execution_count": 19,
   "metadata": {
    "collapsed": true
   },
   "outputs": [],
   "source": [
    "class myclass():\n",
    "    def __init__(self):\n",
    "        self.__superprivate = 'hello'\n",
    "        self._private = 'world'\n",
    "        \n",
    "    def getpri(self):\n",
    "        print(self._private)\n",
    "        print(self.__superprivate)\n",
    " \n",
    "\n",
    "mc = myclass()"
   ]
  },
  {
   "cell_type": "code",
   "execution_count": 20,
   "metadata": {},
   "outputs": [
    {
     "ename": "AttributeError",
     "evalue": "'myclass' object has no attribute '__superprivate'",
     "output_type": "error",
     "traceback": [
      "\u001b[0;31m---------------------------------------------------------------------------\u001b[0m",
      "\u001b[0;31mAttributeError\u001b[0m                            Traceback (most recent call last)",
      "\u001b[0;32m<ipython-input-20-a2763bdb0118>\u001b[0m in \u001b[0;36m<module>\u001b[0;34m()\u001b[0m\n\u001b[0;32m----> 1\u001b[0;31m \u001b[0mprint\u001b[0m\u001b[0;34m(\u001b[0m\u001b[0mmc\u001b[0m\u001b[0;34m.\u001b[0m\u001b[0m__superprivate\u001b[0m\u001b[0;34m)\u001b[0m\u001b[0;34m\u001b[0m\u001b[0m\n\u001b[0m",
      "\u001b[0;31mAttributeError\u001b[0m: 'myclass' object has no attribute '__superprivate'"
     ]
    }
   ],
   "source": [
    "print(mc.__superprivate)"
   ]
  },
  {
   "cell_type": "code",
   "execution_count": 21,
   "metadata": {},
   "outputs": [
    {
     "name": "stdout",
     "output_type": "stream",
     "text": [
      "world\n"
     ]
    }
   ],
   "source": [
    "print(mc._private)"
   ]
  },
  {
   "cell_type": "code",
   "execution_count": 22,
   "metadata": {
    "scrolled": true
   },
   "outputs": [
    {
     "name": "stdout",
     "output_type": "stream",
     "text": [
      "{'_myclass__superprivate': 'hello', '_private': 'world'}\n"
     ]
    }
   ],
   "source": [
    "print(mc.__dict__)"
   ]
  },
  {
   "cell_type": "code",
   "execution_count": 23,
   "metadata": {},
   "outputs": [
    {
     "name": "stdout",
     "output_type": "stream",
     "text": [
      "hello\n"
     ]
    }
   ],
   "source": [
    "print(mc._myclass__superprivate)"
   ]
  },
  {
   "cell_type": "code",
   "execution_count": 24,
   "metadata": {},
   "outputs": [
    {
     "name": "stdout",
     "output_type": "stream",
     "text": [
      "world\n",
      "hello\n"
     ]
    }
   ],
   "source": [
    "mc.getpri()"
   ]
  },
  {
   "cell_type": "markdown",
   "metadata": {},
   "source": [
    "单下划线实例变量（`_variable`）和普通实例变量一样，实例也可以调用．\n",
    "\n",
    "双下划线开头的实例变量(`__variable`),实例不能直接调用，通过`mc.__dict__`输出可以发现，`__variable`被转换成`_classname__variable`的形式，虽然不能通过`mc.__variable`直接调用，但是可以采用`mc._classname__variable`来调用私有变量．"
   ]
  },
  {
   "cell_type": "markdown",
   "metadata": {},
   "source": [
    "## .format与格式化输出"
   ]
  },
  {
   "cell_type": "markdown",
   "metadata": {},
   "source": [
    "### str.format(\\*args, \\*\\*kwargs)"
   ]
  },
  {
   "cell_type": "code",
   "execution_count": 53,
   "metadata": {},
   "outputs": [
    {
     "data": {
      "text/plain": [
       "'the sub of 3 - 1 = 2'"
      ]
     },
     "execution_count": 53,
     "metadata": {},
     "output_type": "execute_result"
    }
   ],
   "source": [
    "'the sub of 3 - 1 = {}'.format(3 - 1) # 'the sub of 3 - 1 = 2'"
   ]
  },
  {
   "cell_type": "code",
   "execution_count": 36,
   "metadata": {},
   "outputs": [
    {
     "data": {
      "text/plain": [
       "'the first arg 100, second arg man'"
      ]
     },
     "execution_count": 36,
     "metadata": {},
     "output_type": "execute_result"
    }
   ],
   "source": [
    "'the first arg {0}, second arg {1}'.format(100, 'man')"
   ]
  },
  {
   "cell_type": "code",
   "execution_count": 37,
   "metadata": {},
   "outputs": [
    {
     "data": {
      "text/plain": [
       "'the first arg man, second arg 100'"
      ]
     },
     "execution_count": 37,
     "metadata": {},
     "output_type": "execute_result"
    }
   ],
   "source": [
    "'the first arg {1}, second arg {0}'.format(100, 'man')"
   ]
  },
  {
   "cell_type": "markdown",
   "metadata": {},
   "source": [
    "`注`：`{}`内的数字用于表示位置传参的第几个参数．"
   ]
  },
  {
   "cell_type": "code",
   "execution_count": 43,
   "metadata": {},
   "outputs": [
    {
     "data": {
      "text/plain": [
       "'the key1 = value1, key2 = value2, arg = 100'"
      ]
     },
     "execution_count": 43,
     "metadata": {},
     "output_type": "execute_result"
    }
   ],
   "source": [
    "dic = {'key1':'value1', 'key2':'value2'}\n",
    "'the key1 = {key1}, key2 = {key2}, arg = {0}'.format(100, **dic)"
   ]
  },
  {
   "cell_type": "markdown",
   "metadata": {},
   "source": [
    "`注`:`{key}`关键字传参的key"
   ]
  },
  {
   "cell_type": "markdown",
   "metadata": {},
   "source": []
  },
  {
   "cell_type": "code",
   "execution_count": 12,
   "metadata": {},
   "outputs": [
    {
     "name": "stdout",
     "output_type": "stream",
     "text": [
      "this is str\n",
      "this is repr人\n",
      "this is repr\\u4eba\n"
     ]
    }
   ],
   "source": [
    "class pri():\n",
    "    def __str__(self):\n",
    "        return 'this is str'\n",
    "    \n",
    "    def __repr__(self):\n",
    "        return 'this is repr\\u4eba'\n",
    "    \n",
    "\n",
    "st = ('{!s}').format(pri())\n",
    "re = ('{!r}').format(pri())\n",
    "asc = ('{!a}').format(pri())\n",
    "print(st) # this is str\n",
    "print(re) # this is repr\n",
    "# !a会调用ascii(object),如果repr()中有unicode码，则将会输出不转意格式\n",
    "print(asc) # this is repr\\u4eba"
   ]
  },
  {
   "cell_type": "code",
   "execution_count": 46,
   "metadata": {},
   "outputs": [
    {
     "name": "stdout",
     "output_type": "stream",
     "text": [
      "value\n"
     ]
    }
   ],
   "source": [
    "s = '%(key)s' % ({'key':'value'})\n",
    "print(s)"
   ]
  },
  {
   "cell_type": "markdown",
   "metadata": {},
   "source": [
    "## 格式化输出"
   ]
  },
  {
   "cell_type": "markdown",
   "metadata": {},
   "source": [
    "### 标准格式化的格式(general form of a standard format specifier)"
   ]
  },
  {
   "cell_type": "markdown",
   "metadata": {},
   "source": [
    "```\n",
    "format_spec     ::=  [[fill]align][sign][#][0][width][grouping_option][.precision][type]\n",
    "fill            ::=  <any character>\n",
    "align           ::=  \"<\" | \">\" | \"=\" | \"^\"\n",
    "sign            ::=  \"+\" | \"-\" | \" \"\n",
    "width           ::=  digit+\n",
    "grouping_option ::=  \"_\" | \",\"\n",
    "precision       ::=  digit+\n",
    "type            ::=  \"b\" | \"c\" | \"d\" | \"e\" | \"E\" | \"f\" | \"F\" | \"g\" | \"G\" | \"n\" | \"o\" | \"s\" | \"x\" | \"X\" | \"%\"\n",
    "```"
   ]
  },
  {
   "cell_type": "markdown",
   "metadata": {},
   "source": [
    "`注`：使用方式`'{:format_spec}'.format()`"
   ]
  },
  {
   "cell_type": "markdown",
   "metadata": {},
   "source": [
    "链接地址：library/string.html#format-specification-mini-language"
   ]
  },
  {
   "cell_type": "markdown",
   "metadata": {},
   "source": [
    "### 参数说明"
   ]
  },
  {
   "cell_type": "markdown",
   "metadata": {},
   "source": [
    "```\n",
    "fill            : 填充值，可以是任意字符（需要配合width使用）\n",
    "align           : 对齐方式\n",
    "sign            : '+''-'正负号\n",
    "width           : 输出长度\n",
    "grouping_option : 用于数字输出的分割符\n",
    "precision       : 小数点后位数\n",
    "type            : 输出格式\n",
    "    \n",
    "```"
   ]
  },
  {
   "cell_type": "code",
   "execution_count": 112,
   "metadata": {},
   "outputs": [
    {
     "data": {
      "text/plain": [
       "'&&&&&hello'"
      ]
     },
     "execution_count": 112,
     "metadata": {},
     "output_type": "execute_result"
    }
   ],
   "source": [
    "# 对第一个参数进行格式化输出，输出格式为：\n",
    "# ＆填充，右对齐，１０个字符长度的字符串类型\n",
    "'{0:&>10s}'.format('hello','world')"
   ]
  },
  {
   "cell_type": "code",
   "execution_count": 113,
   "metadata": {},
   "outputs": [
    {
     "data": {
      "text/plain": [
       "'@@@123,456,789.12@@@'"
      ]
     },
     "execution_count": 113,
     "metadata": {},
     "output_type": "execute_result"
    }
   ],
   "source": [
    "# 对第二个参数进行格式化输出，输出格式为：\n",
    "# ＠填充，居中对齐，２０的字符长度，数字用','隔开分组显示，小数点后两位的浮点型数字\n",
    "'{1:@^20,.2f}'.format('hello', 123456789.1234)"
   ]
  },
  {
   "cell_type": "code",
   "execution_count": 110,
   "metadata": {},
   "outputs": [
    {
     "data": {
      "text/plain": [
       "'+000000000000123.560'"
      ]
     },
     "execution_count": 110,
     "metadata": {},
     "output_type": "execute_result"
    }
   ],
   "source": [
    "# 如果想要输出类似'+0000123.560'的样式，则用'='\n",
    "'{:0=+20.3f}'.format(123.56)"
   ]
  },
  {
   "cell_type": "code",
   "execution_count": 125,
   "metadata": {},
   "outputs": [
    {
     "data": {
      "text/plain": [
       "'+000000000000123.560'"
      ]
     },
     "execution_count": 125,
     "metadata": {},
     "output_type": "execute_result"
    }
   ],
   "source": [
    "# 关键字传参\n",
    "'{key1:0=+20.3f}'.format(**{'key1':123.56})"
   ]
  },
  {
   "cell_type": "markdown",
   "metadata": {},
   "source": [
    "## print格式化输出(printf-sytle String Formatting)"
   ]
  },
  {
   "cell_type": "markdown",
   "metadata": {},
   "source": [
    "```python\n",
    "%[key][flags][width][.precision] typecode\n",
    "\n",
    "key 　　　　 : 用于关键字传参，获取相应key值　\n",
    "flags       : '+','-','0','#',' '.转换标志,\n",
    "              '-'指左对齐(默认右对齐)，'+':数值类型带正负号,'0'用于数值类型填充,\n",
    "              '#'用于添加进制标识符`0x``0o`\n",
    "width       : 指定输出字符宽度\n",
    ".precision  : 小数点后位数\n",
    "typecode    : 转换类型\n",
    "```"
   ]
  },
  {
   "cell_type": "code",
   "execution_count": 156,
   "metadata": {},
   "outputs": [
    {
     "name": "stdout",
     "output_type": "stream",
     "text": [
      "00000000000000000123\n"
     ]
    }
   ],
   "source": [
    "# 对key值进行格式化输出（右对齐，20个字符长度，0填充，整数型）\n",
    "print('%(key)020d' % {'key':123})"
   ]
  },
  {
   "cell_type": "code",
   "execution_count": 163,
   "metadata": {},
   "outputs": [
    {
     "name": "stdout",
     "output_type": "stream",
     "text": [
      "abc       |       def\n"
     ]
    }
   ],
   "source": [
    "# 'abc'宽度:10,左对齐．'def'宽度10,右对齐\n",
    "print('%-10s|%10s' % ('abc', 'def'))"
   ]
  },
  {
   "cell_type": "code",
   "execution_count": 167,
   "metadata": {},
   "outputs": [
    {
     "name": "stdout",
     "output_type": "stream",
     "text": [
      "name      name\n"
     ]
    }
   ],
   "source": [
    "# 在参数列指定字符宽度，用'*'占位\n",
    "print('%s%*s' % ('name', 10, 'name'))"
   ]
  },
  {
   "cell_type": "markdown",
   "metadata": {},
   "source": [
    "### typecode"
   ]
  },
  {
   "cell_type": "markdown",
   "metadata": {},
   "source": [
    "```\n",
    "'d'\t　　整数类型（十进制）.\t \n",
    "'i'\t　　同'd'.\t \n",
    "'o'\t　　八进制\n",
    "'u'\t　　不带符号的十进制\n",
    "'x'\t　　小写十六进制\n",
    "'X'\t　　大写十六进制\n",
    "'e'\t　　指数型浮点数（小写）\n",
    "'E'\t　　指数型浮点数（大写）\n",
    "'f'\t　　浮点型\n",
    "'F'\t　　浮点型\n",
    "\n",
    "'c'\t　　单字符（接收整数或单字符） \n",
    "'r'\t　　字符串，repr()返回值\n",
    "'s'\t　　字符串，str()返回值\n",
    "'a'\t　　字符串，ascii()返回值\n",
    "'%%'    等同于一个%\t\n",
    "\n",
    "```"
   ]
  },
  {
   "cell_type": "code",
   "execution_count": null,
   "metadata": {
    "collapsed": true
   },
   "outputs": [],
   "source": []
  },
  {
   "cell_type": "markdown",
   "metadata": {},
   "source": [
    "## 参数"
   ]
  },
  {
   "cell_type": "markdown",
   "metadata": {},
   "source": [
    "顺序传参，序列传参，关键字传参"
   ]
  },
  {
   "cell_type": "markdown",
   "metadata": {},
   "source": [
    "> 位置形参，星号元祖形参，命名关键字形参，双星号字典形参\n",
    "\n",
    "`def func(a, b, *args, c, **kwargs)`\n",
    "\n"
   ]
  },
  {
   "cell_type": "markdown",
   "metadata": {},
   "source": [
    "## `__metaclass__`, `__new__` ,`__init__`"
   ]
  },
  {
   "cell_type": "markdown",
   "metadata": {},
   "source": [
    "```python\n",
    "\n",
    "__metaclass__   # 类创建\n",
    "\n",
    "__new__(cls[, ...])     　 　# 实例创建\n",
    "# __new__执行时，会调用super().__new__(cls[, ...]),返回一个新的实例．\n",
    "# 如果__new__返回的是cls实例，那么会继续执行__init__方法进行实例初始化\n",
    "# 如果__new__没有返回cls实例，__init__方法不会执行\n",
    "\n",
    "__init__     　  #  实例初始化\n",
    "```"
   ]
  },
  {
   "cell_type": "markdown",
   "metadata": {},
   "source": [
    "> `__metaclass__`"
   ]
  },
  {
   "cell_type": "markdown",
   "metadata": {},
   "source": [
    "# 单例模式"
   ]
  },
  {
   "cell_type": "markdown",
   "metadata": {},
   "source": [
    "## 1 `__new__`实现单例"
   ]
  },
  {
   "cell_type": "code",
   "execution_count": 222,
   "metadata": {},
   "outputs": [
    {
     "name": "stdout",
     "output_type": "stream",
     "text": [
      "cls._instance <__main__.Singleton object at 0x7f87400e2898>\n",
      "single init 1\n",
      "single init 2\n",
      "<__main__.Singleton object at 0x7f87400e2898>\n",
      "<__main__.Singleton object at 0x7f87400e2898>\n"
     ]
    }
   ],
   "source": [
    "class Singleton(object):\n",
    "    def __init__(self,a):\n",
    "        self.a = a\n",
    "        print('single init', a)\n",
    "        \n",
    "    def __new__(cls, *args, **kwargs):\n",
    "        if not hasattr(cls, '_instance'):\n",
    "#             print('cls---->', cls)\n",
    "            orig = super()\n",
    "#     orig是object?\n",
    "#             print('orig---->', orig)\n",
    "            cls._instance = orig.__new__(cls)\n",
    "            print('cls._instance', cls._instance)\n",
    "        return cls._instance\n",
    "\n",
    "        \n",
    "c = Singleton(1)\n",
    "d = Singleton(2)\n",
    "print(c)\n",
    "print(d)"
   ]
  },
  {
   "cell_type": "markdown",
   "metadata": {},
   "source": [
    "## 2 共享属性实现单例(未完)"
   ]
  },
  {
   "cell_type": "code",
   "execution_count": 228,
   "metadata": {},
   "outputs": [
    {
     "name": "stdout",
     "output_type": "stream",
     "text": [
      "<__main__.single object at 0x7f87400e2fd0>\n",
      "<__main__.single object at 0x7f87400e2550>\n"
     ]
    }
   ],
   "source": [
    "class single():\n",
    "    _state = {}\n",
    "    def __new__(cls, *args, **kwargs):\n",
    "        obj = super().__new__(cls, *args, **kwargs)\n",
    "        obj.__dict__ = cls._state\n",
    "        return obj\n",
    "    \n",
    "\n",
    "a = single()\n",
    "b = single()\n",
    "print(a)\n",
    "print(b)"
   ]
  },
  {
   "cell_type": "markdown",
   "metadata": {},
   "source": [
    "## 3装饰器实现单例"
   ]
  },
  {
   "cell_type": "code",
   "execution_count": 220,
   "metadata": {},
   "outputs": [
    {
     "name": "stdout",
     "output_type": "stream",
     "text": [
      "<__main__.myclass object at 0x7f874014fcc0>\n",
      "<__main__.myclass object at 0x7f874014fcc0>\n"
     ]
    }
   ],
   "source": [
    "def singleton(cls, *args, **kwargs):\n",
    "    instances = {}\n",
    "    def getinstance():\n",
    "        if cls not in instances:\n",
    "            instances[cls] = cls(*args, **kwargs)\n",
    "        return instances[cls]\n",
    "    return getinstance\n",
    "\n",
    "@singleton\n",
    "class myclass():\n",
    "    pass\n",
    "\n",
    "a = myclass()\n",
    "b = myclass()\n",
    "print(a)\n",
    "print(b)"
   ]
  },
  {
   "cell_type": "markdown",
   "metadata": {},
   "source": [
    "## 4 import实现单例"
   ]
  },
  {
   "cell_type": "markdown",
   "metadata": {},
   "source": [
    "python模块就是单例模式"
   ]
  },
  {
   "cell_type": "markdown",
   "metadata": {},
   "source": [
    "```python\n",
    "# mysingle.py\n",
    "class mysingle(object):\n",
    "    def foo(self):\n",
    "        pass\n",
    "    \n",
    "\n",
    "MySingle = mysingle()\n",
    "\n",
    "# to use\n",
    "from mysingle import MySingle\n",
    "\n",
    "\n",
    "MySingle.foo()\n",
    "```"
   ]
  },
  {
   "cell_type": "code",
   "execution_count": null,
   "metadata": {
    "collapsed": true
   },
   "outputs": [],
   "source": []
  },
  {
   "cell_type": "markdown",
   "metadata": {},
   "source": [
    "## python是如何进行内存管理的(转)"
   ]
  },
  {
   "cell_type": "markdown",
   "metadata": {},
   "source": [
    "> 一　对象的引用计数机制\n",
    "\n",
    "    python内部使用引用计数，来保持追踪内存中的对象，所有对象都有引用计数．\n",
    "    引用计数增加的情况：\n",
    "    - 一个对象分配一个新的名称\n",
    "    - 将其放入一个容器中（如列表，元组，字典）\n",
    "    引用计数减少的情况：\n",
    "    - 使用del语句对对象别名显示的销毁\n",
    "    - 引用超出作用域或被重新赋值\n",
    "    sys.getrefcount()可以获得对象的当前引用数．\n",
    "    对于不可变数据，解释器会在程序的不同部分共享内存，以便节约内存．\n",
    "    \n",
    "> 二　垃圾回收\n",
    "\n",
    "    1. 当一个对象的引用计数为零时，它将被垃圾收集机制处理．\n",
    "    2. 当两个对象a 和b相互引用时，del语句可以减少a 和b的引用计数，并销毁用于引用底层对象的名称．然而由于每个对象都包含一个对其他对象的应用，因此引用计数不会归零，对象也不会被销毁．（会引起内存泄漏）为解决这一问题，解释器会定期的执行一个循环检测器，搜索不可访问对象的循环并删除它们．\n",
    "    \n",
    "> 三　内存池机制\n",
    "    \n",
    "    python提供了对内存的垃圾收集机制，但是它将不用的内存放到内存池而不是返回给操作系统．\n",
    "    1. Pymalloc机制．为了加速python的执行效率，python引入了一个内存池机制，用于管理对小块内存的申请和释放．\n",
    "    2. python中所有小于256个字节的对象都使用pymalloc实现的分配器，而大的对象则使用系统的malloc.\n",
    "    3. 对于python对象，如整数，浮点数和list，都有其独立的私有内存池，对象间不共享它们的内存池．也就是说如果你分配又释放类大量的整数，用于缓存这些整数的内存就不能再分配给浮点数．"
   ]
  },
  {
   "cell_type": "markdown",
   "metadata": {},
   "source": [
    "## 杂记"
   ]
  },
  {
   "cell_type": "markdown",
   "metadata": {},
   "source": [
    "### 习题"
   ]
  },
  {
   "cell_type": "code",
   "execution_count": 256,
   "metadata": {},
   "outputs": [
    {
     "name": "stdout",
     "output_type": "stream",
     "text": [
      "[0, 1]\n",
      "[3, 2, 1, 0, 1, 4]\n",
      "[0, 1, 0, 1, 4]\n"
     ]
    }
   ],
   "source": [
    "def fa(x, l=[]):\n",
    "    for i in range(x):\n",
    "        l.append(i*i)\n",
    "    print(l)\n",
    "    \n",
    "\n",
    "fa(2)\n",
    "fa(3, [3,2,1])\n",
    "fa(3)"
   ]
  },
  {
   "cell_type": "markdown",
   "metadata": {},
   "source": [
    "### python 和多线程"
   ]
  },
  {
   "cell_type": "markdown",
   "metadata": {},
   "source": [
    "Python并不支持真正意义上的多线程。Python中提供了多线程包，但是如果你想通过多线程提高代码的速度，使用多线程包并不是个好主意。Python中有一个被称为Global Interpreter Lock（GIL）的东西，它会确保任何时候你的多个线程中，只有一个被执行。线程的执行速度非常之快，会让你误以为线程是并行执行的，但是实际上都是轮流执行。经过GIL这一道关卡处理，会增加执行的开销。这意味着，如果你想提高代码的运行速度，使用threading包并不是一个很好的方法。 \n",
    "\n",
    "不过还是有很多理由促使我们使用threading包的。如果你想同时执行一些任务，而且不考虑效率问题，那么使用这个包是完全没问题的，而且也很方便。但是大部分情况下，并不是这么一回事，你会希望把多线程的部分外包给操作系统完成（通过开启多个进程），或者是某些调用你的Python代码的外部程序（例如Spark或Hadoop），又或者是你的Python代码调用的其他代码（例如，你可以在Python中调用C函数，用于处理开销较大的多线程工作）。"
   ]
  },
  {
   "cell_type": "markdown",
   "metadata": {},
   "source": [
    "### 猴子补丁monkey patching"
   ]
  },
  {
   "cell_type": "markdown",
   "metadata": {},
   "source": [
    "### 函数式编程"
   ]
  },
  {
   "cell_type": "markdown",
   "metadata": {},
   "source": [
    "### python作用域\n",
    "> LEGB Local, Enclosing locals, Global, Build-in"
   ]
  },
  {
   "cell_type": "markdown",
   "metadata": {},
   "source": [
    "### 新式类，旧式类\n",
    "> python3中都是新式类"
   ]
  },
  {
   "cell_type": "markdown",
   "metadata": {},
   "source": [
    "### with statement"
   ]
  },
  {
   "cell_type": "markdown",
   "metadata": {},
   "source": [
    "### pickling, unpickling\n",
    "> `import pickle`"
   ]
  },
  {
   "cell_type": "markdown",
   "metadata": {},
   "source": [
    "### 标记清除机制"
   ]
  },
  {
   "cell_type": "markdown",
   "metadata": {},
   "source": [
    "### GIL\n",
    "> 线程全局锁(Global Interpreter Lock),即Python为了保证线程安全而采取的独立线程运行的限制,说白了就是一个核只能在同一时间运行一个线程."
   ]
  },
  {
   "cell_type": "markdown",
   "metadata": {},
   "source": [
    "### 协程\n",
    "> 简单点说协程是进程和线程的升级版,进程和线程都面临着内核态和用户态的切换问题而耗费许多切换时间,而协程就是用户自己控制切换的时机,不再需要陷入系统的内核态."
   ]
  },
  {
   "cell_type": "markdown",
   "metadata": {},
   "source": [
    "### select, poll, epoll\n",
    "> 其实所有的I/O都是轮询的方法,只不过实现的层面不同罢了. 这个问题可能有点深入了,但相信能回答出这个问题是对I/O多路复用有很好的了解了.其中tornado使用的就是epoll的. selec,poll和epoll区别总结 \n",
    "\n",
    "> 基本上select有3个缺点: \n",
    "- 连接数受限 \n",
    "- 查找配对速度慢 \n",
    "- 数据由内核拷贝到用户态 \n",
    "\n",
    "1. poll改善了第一个缺点 \n",
    "2. epoll改了三个缺点."
   ]
  },
  {
   "cell_type": "markdown",
   "metadata": {},
   "source": [
    "### 调度算法\n",
    "```\n",
    "先来先服务(FCFS, First Come First Serve) \n",
    "短作业优先(SJF, Shortest Job First) \n",
    "最高优先权调度(Priority Scheduling) \n",
    "时间片轮转(RR, Round Robin) \n",
    "多级反馈队列调度(multilevel feedback queue scheduling) \n",
    "\n",
    "实时调度算法: \n",
    "最早截至时间优先 EDF \n",
    "最低松弛度优先 LLF\n",
    "```"
   ]
  },
  {
   "cell_type": "markdown",
   "metadata": {},
   "source": [
    "### 数据库\n",
    "> 事物，索引，redis,MVCC(multi-version concurrency control),MyISAM,InnoDB,"
   ]
  },
  {
   "cell_type": "markdown",
   "metadata": {},
   "source": [
    "### cProfile\n",
    "```\n",
    "import cProfile\n",
    "cProfile.run('func_name()')\n",
    "```"
   ]
  },
  {
   "cell_type": "markdown",
   "metadata": {},
   "source": [
    "### 网络相关\n",
    "    三次握手\n",
    "    四次挥手\n",
    "    ARP协议\n",
    "    urllib, urllib2\n",
    "    post, get\n",
    "    cookie, session\n",
    "    http, https\n",
    "    RPC -> SOAP -> RESTful\n",
    "    c10k\n",
    "    socket = ip address + TCP/UDP + port\n",
    "    Ajaxs"
   ]
  },
  {
   "cell_type": "markdown",
   "metadata": {},
   "source": [
    "## 保存在python内建命名空间的常量有哪些"
   ]
  },
  {
   "cell_type": "markdown",
   "metadata": {},
   "source": [
    "    False\n",
    "    True\n",
    "    None\n",
    "    __dubug__"
   ]
  },
  {
   "cell_type": "markdown",
   "metadata": {},
   "source": [
    "## Build-in Types"
   ]
  },
  {
   "cell_type": "markdown",
   "metadata": {},
   "source": [
    "> ### 被认为false的对象有"
   ]
  },
  {
   "cell_type": "markdown",
   "metadata": {},
   "source": [
    "    - None, False \n",
    "    # 被定义为false的常量\n",
    "    \n",
    "    - 0, 0.0, 0j, Decimal(0), Fraction(0, 1) \n",
    "    # 任何为零的数值类型\n",
    "    \n",
    "    - '', (), [], {}, set(), range(0) \n",
    "    # 空序列或集合"
   ]
  },
  {
   "cell_type": "markdown",
   "metadata": {},
   "source": [
    "> ### 布尔操作符 "
   ]
  },
  {
   "cell_type": "markdown",
   "metadata": {},
   "source": [
    "    and\n",
    "    or\n",
    "    not"
   ]
  },
  {
   "cell_type": "markdown",
   "metadata": {},
   "source": [
    "> ### 比较操作"
   ]
  },
  {
   "cell_type": "markdown",
   "metadata": {},
   "source": [
    "python中共有８个比较操作符\n",
    "\n",
    "    <         # 对应的调用方法为：`__lt__()`\n",
    "    <=        # 对应的调用方法为：`__le__()`\n",
    "    >         # 对应的调用方法为：`__gt__()`\n",
    "    >=        # 对应的调用方法为：`__te__()`\n",
    "    ==        # 对应的调用方法为：`__eq__()`\n",
    "    !=        # 对应的调用方法为：`__ne__()`\n",
    "    is\n",
    "    is not"
   ]
  },
  {
   "cell_type": "markdown",
   "metadata": {},
   "source": [
    "> ### 数值类型 int, float, complex"
   ]
  },
  {
   "cell_type": "markdown",
   "metadata": {},
   "source": [
    "     +, -, *, /    　               # 加，减，乘，除\n",
    "     //, %, -, + 　                 # 取整，取余，负号，正号\n",
    "     abs(x)                         # 绝对值\n",
    "     int(x), float(x)　             # 创建整数，浮点数\n",
    "     complex(re, im), c.conjugate() # 复数操作\n",
    "     divmod(x, y)                   # 返回元组(x // y, x % y)\n",
    "     pow(x, y), x ** y              # 求幂，x的y次方"
   ]
  },
  {
   "cell_type": "markdown",
   "metadata": {},
   "source": [
    "> ### 位操作"
   ]
  },
  {
   "cell_type": "markdown",
   "metadata": {},
   "source": [
    "    x | y     # 按位或\n",
    "    x ^ y     # 按位异或\n",
    "    x & y     # 按位与\n",
    "    x << n    # 左移\n",
    "    x >> n    # 右移\n",
    "    ~x        # 按位取反"
   ]
  },
  {
   "cell_type": "markdown",
   "metadata": {},
   "source": [
    "> ### 序列类型－ list, tuple, range"
   ]
  },
  {
   "cell_type": "markdown",
   "metadata": {},
   "source": [
    "    # 通用的方法有\n",
    "    x in s               # 如果x在s中，则返回True,否则False\n",
    "    x not in s           # 如果x不再s中，则返回True，否则False\n",
    "    s + t                # 两个序列连接\n",
    "    s * n                # s复制n次，组成新的序列\n",
    "    s[i]                 # s的第i个值，从0开始\n",
    "    s[i:j]               # 切片操作，取出s中从i到j的值，不包括第j个值\n",
    "    s[i:j:k]             # 切片操作，按照步长为k,取出s中从i到j的值，不包括第j个值\n",
    "    len(s)               # s的长度\n",
    "    min(s)               # s中的最小值\n",
    "    max(s)               # s中的最大值\n",
    "    s.index(x[, i[, j]]) # x在s中的第一个索引位置（或者指定搜索位置，i后，j前）\n",
    "    s.count(x)           # x在s中出现的次数\n",
    "    \n",
    "    # 可变序列操作\n",
    "    s[i] = x             # \n",
    "    s[i:j] = t           # \n",
    "    del s[i:j]           # \n",
    "    s[i:j:k] = t         # \n",
    "    del s[i:j:k]         # \n",
    "    s.append(x)          # 等同于s[len(s):len(s)] = x\n",
    "    s.clear()            # 等同于 del s[:]\n",
    "    s.copy()             # 复制，浅拷贝\n",
    "    s.extend(t)          # 等同于s[len(s):len(s)] = t\n",
    "    s *= n               # \n",
    "    s.inset(i, x)        # 等同于 s[i:i] = [x]\n",
    "    s.pop([i])           # \n",
    "    s.remove(x)          # \n",
    "    s.reverse()          # 反转"
   ]
  },
  {
   "cell_type": "markdown",
   "metadata": {},
   "source": [
    "## 字符串(str)方法(待整理)"
   ]
  },
  {
   "cell_type": "markdown",
   "metadata": {},
   "source": [
    "    'capitalize'      #      -->    \n",
    "    'casefold'        #      -->    \n",
    "    'center'          #      -->    \n",
    "    'count'           #      -->    \n",
    "    'encode'          #      -->    \n",
    "    'endswith'        #      -->    \n",
    "    'expandtabs'      #      -->    \n",
    "    'find'            #      -->    \n",
    "    'format'          #      -->    \n",
    "    'format_map'      #      -->    \n",
    "    'index'           #      -->    \n",
    "    'isalnum'         #      -->    \n",
    "    'isalpha'         #      -->    \n",
    "    'isdecimal'       #      -->    \n",
    "    'isdigit'         #      -->    \n",
    "    'isidentifier'    #      -->    \n",
    "    'islower'         #      -->    \n",
    "    'isnumeric'       #      -->    \n",
    "    'isprintable'     #      -->    \n",
    "    'isspace'         #      -->    \n",
    "    'istitle'         #      -->    \n",
    "    'isupper'         #      -->    \n",
    "    'join'            #      -->    \n",
    "    'ljust'           #      -->    \n",
    "    'lower'           #      -->    \n",
    "    'lstrip'          #      -->    \n",
    "    'maketrans'       #      -->    \n",
    "    'partition'       #      -->    \n",
    "    'replace'         #      -->    \n",
    "    'rfind'           #      -->    \n",
    "    'rindex'          #      -->    \n",
    "    'rjust'           #      -->    \n",
    "    'rpartition'      #      -->    \n",
    "    'rsplit'          #      -->    \n",
    "    'rstrip'          #      -->    \n",
    "    'split'           #      -->    \n",
    "    'splitlines'      #      -->    \n",
    "    'startswith'      #      -->    \n",
    "    'strip'           #      -->    \n",
    "    'swapcase'        #      -->    \n",
    "    'title'           #      -->    \n",
    "    'translate'       #      -->    \n",
    "    'upper'           #      -->    \n",
    "    'zfill            #      -->    "
   ]
  },
  {
   "cell_type": "markdown",
   "metadata": {},
   "source": [
    "## 异常 Exception"
   ]
  },
  {
   "cell_type": "markdown",
   "metadata": {},
   "source": [
    "在python中所有的异常都是`BaseException`的实例．"
   ]
  },
  {
   "cell_type": "markdown",
   "metadata": {},
   "source": [
    "> python中定义的异常有\n",
    "```\n",
    "- BaseException                     # 所有异常的父类\n",
    "    - SystemExit                     # 由sys.exit()抛出的异常\n",
    "    - KeyBoardInterrupt              # 通常由ctrl+c或者Delete抛出的异常\n",
    "    - GeneratorExit                  # 当生成器被关闭时抛出的异常\n",
    "    - Exception                      # \n",
    "        - StopIteration              # 迭代结束异常\n",
    "        - StopAsyncIteration         # 由异步迭代的`__anext__()`抛出的异常\n",
    "        - ArithmeticError            # 各种算数错误引起的异常\n",
    "            - FloatingPointError     # 浮点数操作错误\n",
    "            - OverflowError          # 结果超出范围\n",
    "            - ZeroDivisionError      # ０为除数异常\n",
    "    - AssertionError                 # assert错误异常\n",
    "    - AttributeError                 # 属性引用异常\n",
    "    - BufferError                    # 缓存错误\n",
    "    - EOFError                       # 读不到数据\n",
    "    - ImportError                    # import错误\n",
    "        - ModuleNotFoundError        # 找不多模块\n",
    "    - LookupError                    # 由索引和key值引起的异常\n",
    "        - IndexError                 # 索引错误\n",
    "        - KeyError                   # 字典key值错误\n",
    "    - MemortError                    # 内存溢出异常\n",
    "    - NameError                      # 本地和全局找不到变量名\n",
    "        - UnboundLocalError          # 局部变量没有赋值\n",
    "    - OSError                        # system错误\n",
    "        - BlockingIOError            # 调用阻塞异常错误\n",
    "        - ChildProcessError          # 子进程\n",
    "        - ConnectionError            # 连接\n",
    "            - BrokenPipeError        # 管道读写异常\n",
    "            - ConnectionAbortedError # 连接失败\n",
    "            - ConnectionRefusedError # 连接拒绝\n",
    "            - ConnectionResetError   # 连接重置\n",
    "        - FileExistsError            # 创建文件和文件夹错误\n",
    "        - FileNotFoundError          # 文件未找到\n",
    "        - InterruptedError           # 中断错误\n",
    "        - IsADirectoryError          # 文件操作用在文件夹上\n",
    "        - NotADirectoryError         # 不是文件夹\n",
    "        - PermissionError            # 权限\n",
    "        - ProcessLookupError         # 进程不存在\n",
    "        - TimeoutError               # 超时\n",
    "    - ReferenceError                 # 引用异常\n",
    "    - RuntimeError                   # \n",
    "        - NotImplementedError        # 运行抽象方法\n",
    "        - RecursionError             # 超出最大递归深度\n",
    "    - SyntaxError                    # 语法错误\n",
    "        - IndentationError           # 缩进错误\n",
    "            - TabError               # tab错误\n",
    "    - SystemError                    # 解释器中断\n",
    "    - TypeError                      # 类型错误\n",
    "    - ValueError                     # 赋值错误\n",
    "        - UnicodeError               # \n",
    "            - UnicodeEncodeError     # unicode编码错误\n",
    "            - UnicodeDecodeError     # unicode解码错误\n",
    "            - UnicodeTranslateError  # unicode转换错误\n",
    "    - Warning                        # \n",
    "        - DeprecationWarning         # 操作不赞成警告\n",
    "        - PendingDeprecationWarning  # 表明此操作将来会被弃用\n",
    "        - UserWarning                # 用于用户生成警告\n",
    "        - SyntaxWarning              # 语法可疑警告\n",
    "        - RuntimeWarning             # 运行警告\n",
    "        - FutureWarning              # 将会改变警告\n",
    "        - ImportWarning              # 导入警告\n",
    "        - UnicodeWarning             # unicode相关警告\n",
    "        - BytesWarning               # 字节相关警告\n",
    "        - ResourceWarning            # 资源使用情况警告\n",
    "```"
   ]
  },
  {
   "cell_type": "markdown",
   "metadata": {},
   "source": [
    "## python中的关键词"
   ]
  },
  {
   "cell_type": "markdown",
   "metadata": {},
   "source": [
    "> import keyword"
   ]
  },
  {
   "cell_type": "markdown",
   "metadata": {},
   "source": [
    "## 待整理"
   ]
  },
  {
   "cell_type": "markdown",
   "metadata": {},
   "source": [
    "1. 在python中容器类一般具有可迭代性，这一功能主要是因为`__iter__()`和`__next__()`两个方法．`__iter__()`会自动返回一个可迭代对象，用于`for`and`in`表达式调用．由`__next__()`来获取容器下一值，如果没有值将会引起`StopIteration`异常．`注：`迭代不可逆．\n",
    "2. "
   ]
  },
  {
   "cell_type": "markdown",
   "metadata": {},
   "source": [
    "# 草稿箱"
   ]
  },
  {
   "cell_type": "markdown",
   "metadata": {},
   "source": [
    "- __init__没有返回值，修改类装饰器的表述\n",
    "- staticmethod在内存中生成一个，每个实例共用一个静态方法？？\n",
    "- 广度优先，深度优先\n",
    "- AOP\n",
    "- 单例模式\n"
   ]
  },
  {
   "cell_type": "code",
   "execution_count": null,
   "metadata": {
    "collapsed": true
   },
   "outputs": [],
   "source": []
  }
 ],
 "metadata": {
  "kernelspec": {
   "display_name": "Python 3",
   "language": "python",
   "name": "python3"
  },
  "language_info": {
   "codemirror_mode": {
    "name": "ipython",
    "version": 3
   },
   "file_extension": ".py",
   "mimetype": "text/x-python",
   "name": "python",
   "nbconvert_exporter": "python",
   "pygments_lexer": "ipython3",
   "version": "3.6.1"
  }
 },
 "nbformat": 4,
 "nbformat_minor": 2
}
