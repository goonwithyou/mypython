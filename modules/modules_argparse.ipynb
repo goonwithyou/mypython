{
 "cells": [
  {
   "cell_type": "code",
   "execution_count": 2,
   "metadata": {},
   "outputs": [
    {
     "name": "stdout",
     "output_type": "stream",
     "text": [
      "this is default data\n",
      "10\n"
     ]
    }
   ],
   "source": [
    "import argparse\n",
    "\n",
    "class myArgs(argparse.ArgumentParser):\n",
    "    def __init__(self):\n",
    "        super(myArgs, self).__init__()\n",
    "        \n",
    "        self.add_argument('--data', type=str, default='this is default data', help=\"\"\"this is data help\"\"\")\n",
    "        self.add_argument('--label', type=int, default=10, help=\"\"\"this is label help\"\"\")\n",
    "        \n",
    "\n",
    "def main():\n",
    "    print(FLAGS.data)\n",
    "    print(FLAGS.label)\n",
    "    \n",
    "\n",
    "if __name__ == '__main__':\n",
    "    parse = myArgs()\n",
    "    FLAGS, _ = parse.parse_known_args()\n",
    "    main()"
   ]
  },
  {
   "cell_type": "code",
   "execution_count": null,
   "metadata": {},
   "outputs": [],
   "source": []
  }
 ],
 "metadata": {
  "kernelspec": {
   "display_name": "Python [conda root]",
   "language": "python",
   "name": "conda-root-py"
  },
  "language_info": {
   "codemirror_mode": {
    "name": "ipython",
    "version": 3
   },
   "file_extension": ".py",
   "mimetype": "text/x-python",
   "name": "python",
   "nbconvert_exporter": "python",
   "pygments_lexer": "ipython3",
   "version": "3.6.1"
  }
 },
 "nbformat": 4,
 "nbformat_minor": 2
}
