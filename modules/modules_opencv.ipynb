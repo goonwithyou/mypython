{
 "cells": [
  {
   "cell_type": "code",
   "execution_count": 32,
   "metadata": {
    "scrolled": true
   },
   "outputs": [
    {
     "data": {
      "text/plain": [
       "'3.4.0'"
      ]
     },
     "execution_count": 32,
     "metadata": {},
     "output_type": "execute_result"
    }
   ],
   "source": [
    "import cv2 as cv\n",
    "# opencv-python + contrib\n",
    "cv.__version__"
   ]
  },
  {
   "cell_type": "markdown",
   "metadata": {},
   "source": [
    "# 1 Gui Features in Opencv\n",
    "\n",
    "## 1.1 Getting Start with Images"
   ]
  },
  {
   "cell_type": "code",
   "execution_count": 30,
   "metadata": {},
   "outputs": [],
   "source": [
    "import cv2 as cv\n",
    "\n",
    "# 读取图片文件，第二个参数flags可选项为：\n",
    "# 1:  cv.IMREAD_COLOR\n",
    "# 0:  cv.IMREAD_GRAYSCALE\n",
    "# -1: cv.IMREAD_UNCHANGED\n",
    "img = cv.imread('C:\\\\Users\\\\Cap\\\\Pictures\\\\2.jpeg', 1)\n",
    "\n",
    "# cv.WINDOW_AUTOSIZE\n",
    "# cv.WINDOW_NORMAL 窗口可调整\n",
    "cv.namedWindow('A Girl', cv.WINDOW_NORMAL)\n",
    "\n",
    "# 显示图片，并设定显示图片的标题，类似title\n",
    "cv.imshow('A Girl', img)\n",
    "\n",
    "# 键盘绑定事件，如果值设为3000则表示3秒后关闭图片显示窗口，如果为0则按任意键退出，\n",
    "# 并返回键盘值ascii码\n",
    "k = cv.waitKey(0) & 0xFF # 64位系统需要加& 0xFF\n",
    "\n",
    "if k == 27:# ESC键\n",
    "    # 关闭创建的窗口\n",
    "    cv.destroyAllWindows()\n",
    "elif k == ord('s'):#如果按s则保存图片到指定路径\n",
    "    cv.imwrite('C:\\\\Users\\\\Cap\\\\Pictures\\\\2_copy.png', img)\n",
    "    cv.destroyAllWindows()"
   ]
  },
  {
   "cell_type": "markdown",
   "metadata": {},
   "source": [
    "## 1.2 Gatting start with video"
   ]
  },
  {
   "cell_type": "code",
   "execution_count": 52,
   "metadata": {},
   "outputs": [],
   "source": [
    "# 从摄像头捕捉,或视频文件VideoCapture(path)\n",
    "cap = cv.VideoCapture(0)\n",
    "\n",
    "# 设定cap的相关属性\n",
    "#     cap.set(key, value)\n",
    "#     cap.get(key)\n",
    "while(cap.isOpened()):\n",
    "    ret, frame = cap.read()\n",
    "    cv.imshow('capture', frame)\n",
    "    if cv.waitKey(10) & 0xFF == ord('q'):\n",
    "        break\n",
    "cap.release()\n",
    "cv.destroyAllWindows()"
   ]
  },
  {
   "cell_type": "markdown",
   "metadata": {},
   "source": [
    "保存视频"
   ]
  },
  {
   "cell_type": "code",
   "execution_count": 51,
   "metadata": {},
   "outputs": [
    {
     "name": "stdout",
     "output_type": "stream",
     "text": [
      "-1\n"
     ]
    }
   ],
   "source": [
    "print(cv.waitKey(3))"
   ]
  },
  {
   "cell_type": "code",
   "execution_count": 57,
   "metadata": {},
   "outputs": [],
   "source": [
    "# 捕捉并保存\n",
    "import cv2 as cv\n",
    "\n",
    "cap = cv.VideoCapture(0)\n",
    "\n",
    "# AVI格式\n",
    "fourcc = cv.VideoWriter_fourcc(*'DIVX')\n",
    "\n",
    "# 视频路径，格式，帧数，width*height\n",
    "out = cv.VideoWriter('C:\\\\Users\\\\Cap\\\\Pictures\\\\out.avi', fourcc, 20.0, (640, 480))\n",
    "\n",
    "while(cap.isOpened()):\n",
    "    ret, frame = cap.read()\n",
    "    if ret == True:\n",
    "        \n",
    "        # 将图像进行翻转正值：沿y轴，0：沿x轴，负值：两个轴翻转\n",
    "        frame = cv.flip(frame, 1)\n",
    "        \n",
    "        # 将数据写入\n",
    "        out.write(frame)\n",
    "        \n",
    "        # 显示摄像头捕捉视频\n",
    "        cv.imshow('frame', frame)\n",
    "        if cv.waitKey(1) % 0xff == ord('q'):\n",
    "            break\n",
    "    else:\n",
    "        break\n",
    "        \n",
    "cap.release()\n",
    "out.release()\n",
    "cv.destroyAllWindows()"
   ]
  },
  {
   "cell_type": "markdown",
   "metadata": {},
   "source": [
    "## 1.3 Drawing Functions in OpenCV\n",
    "\n",
    "```python\n",
    "cv.line()\n",
    "cv.circle()\n",
    "cv.rectangle()\n",
    "cv.ellipse()\n",
    "cv.putText()\n",
    "```"
   ]
  },
  {
   "cell_type": "code",
   "execution_count": 84,
   "metadata": {},
   "outputs": [],
   "source": [
    "import numpy as np\n",
    "import cv2 as cv\n",
    "\n",
    "img = np.zeros((512, 512, 3), np.uint8)\n",
    "\n",
    "# 线\n",
    "line_img = cv.line(img, (50,50), (300, 300), (255,0,0),10)\n",
    "# cv.imshow('line_img', line_img)\n",
    "\n",
    "# 方形\n",
    "rect_img = cv.rectangle(img, (50,0),(300, 300), (0,255,0),3)\n",
    "\n",
    "# 圆\n",
    "cir_img = cv.circle(img, (50,50), 50, (0,0,255), 1)\n",
    "\n",
    "# 椭圆\n",
    "# ellipse(img, center, axes, angle, startAngle, endAngle, color[, thickness])\n",
    "elli_img = cv.ellipse(img,(300,300),(100,50),0,0,270,(0,0,255),-1)\n",
    "\n",
    "# 折线\n",
    "pts = np.array([[200,100],[250,200],[300,200],[250,50]], np.int32)\n",
    "pts = pts.reshape((-1,1,2))\n",
    "cv.polylines(img,[pts],True,(0,255,255))\n",
    "\n",
    "# 字体\n",
    "font = cv.FONT_HERSHEY_SIMPLEX\n",
    "cv.putText(img, 'BEAUTIFUL', (50, 400), font, 2, (255, 255, 255),2,cv.LINE_AA)\n",
    "\n",
    "cv.imshow('img', img)\n",
    "cv.waitKey(0)\n",
    "cv.destroyAllWindows()"
   ]
  },
  {
   "cell_type": "markdown",
   "metadata": {},
   "source": [
    "## 1.4 Mouse as a Paint-Brush\n",
    "\n",
    "`cv.setMouseCallback()`"
   ]
  },
  {
   "cell_type": "code",
   "execution_count": 95,
   "metadata": {},
   "outputs": [],
   "source": [
    "import numpy as np\n",
    "import cv2 as cv\n",
    "\n",
    "drawing = False\n",
    "mode = True\n",
    "ix, iy = -1, -1\n",
    "\n",
    "def draw(event, x, y, flags, param):\n",
    "    global ix, iy, drawing, mode\n",
    "    \n",
    "    if event == cv.EVENT_LBUTTONDOWN:\n",
    "        drawing = True\n",
    "        ix, iy = x, y\n",
    "#     elif event == cv.EVENT_MOUSEMOVE:\n",
    "#         if drawing == True:\n",
    "#             if mode == True:\n",
    "#                 cv.rectangle(img, (ix, iy), (x, y), (0,255,0), 1)\n",
    "#             else:\n",
    "#                 cv.circle(img, (x, y), 5, (0,0,255), -1)\n",
    "    elif event == cv.EVENT_LBUTTONUP:\n",
    "        drawing = False\n",
    "        if mode == True:\n",
    "            cv.rectangle(img, (ix, iy), (x, y), (0,255,0), 1)\n",
    "        else:\n",
    "            cv.circle(img, (ix, iy), int(((y-iy)**2+(x-ix)**2)**0.5), (0,0,255), -1)\n",
    "\n",
    "img = np.zeros((512, 512, 3), np.uint8)\n",
    "cv.namedWindow('image')\n",
    "\n",
    "cv.setMouseCallback('image', draw)\n",
    "\n",
    "while True:\n",
    "    cv.imshow('image', img)\n",
    "    k = cv.waitKey(20) & 0xff\n",
    "    if k == ord('m'):\n",
    "        mode = not mode\n",
    "    elif k == 27:\n",
    "        break\n",
    "cv.destroyAllWindows()"
   ]
  },
  {
   "cell_type": "markdown",
   "metadata": {},
   "source": [
    "## 1.5 Trackbar as the Color Palette\n",
    "\n",
    "`cv.getTrackbarPos()`, `cv.createTrackbar()`"
   ]
  },
  {
   "cell_type": "code",
   "execution_count": 99,
   "metadata": {},
   "outputs": [],
   "source": [
    "import numpy as np\n",
    "import cv2 as cv\n",
    "\n",
    "def nothing(x):\n",
    "    pass\n",
    "\n",
    "img = np.zeros((300, 512, 3), np.uint8)\n",
    "cv.namedWindow('image')\n",
    "\n",
    "# createTrackbar(trackbarName, windowName, value, count, onChange)\n",
    "cv.createTrackbar('R', 'image', 0, 255, nothing)\n",
    "cv.createTrackbar('G', 'image', 0, 255, nothing)\n",
    "cv.createTrackbar('B', 'image', 0, 255, nothing)\n",
    "\n",
    "switch = '0 : OFF \\n1 : ON'\n",
    "cv.createTrackbar(switch, 'image', 0, 1, nothing)\n",
    "\n",
    "while True:\n",
    "    cv.imshow('image', img)\n",
    "    k = cv.waitKey(1) & 0xff\n",
    "    if k == 27:\n",
    "        break\n",
    "    \n",
    "    r = cv.getTrackbarPos('R', 'image')\n",
    "    g = cv.getTrackbarPos('G', 'image')\n",
    "    b = cv.getTrackbarPos('B', 'image')\n",
    "    s = cv.getTrackbarPos(switch, 'image')\n",
    "    \n",
    "    if s == 0:\n",
    "        img[:] = 0\n",
    "    else:\n",
    "        img[:] = [b,g,r]\n",
    "cv.destroyAllWindows()"
   ]
  },
  {
   "cell_type": "markdown",
   "metadata": {},
   "source": [
    "# 2 Core Operations\n",
    "\n",
    "## 2.1 Basic Operations on Images\n",
    "\n",
    "- cv.BORDER_REFLECT:"
   ]
  },
  {
   "cell_type": "code",
   "execution_count": 12,
   "metadata": {},
   "outputs": [
    {
     "data": {
      "image/png": "[encoded data removed]",
      "text/plain": [
       "<matplotlib.figure.Figure at 0x2a72f57cfd0>"
      ]
     },
     "metadata": {},
     "output_type": "display_data"
    }
   ],
   "source": [
    "# 镜像\n",
    "import cv2 as cv\n",
    "import matplotlib.pyplot as plt\n",
    "\n",
    "BLUE = [0, 0, 255]\n",
    "\n",
    "image = cv.imread('C:\\\\Users\\\\Cap\\\\Pictures\\\\aaa.png')\n",
    "\n",
    "replicate = cv.copyMakeBorder(image, 30, 30, 30, 30, cv.BORDER_REFLECT)\n",
    "reflect = cv.copyMakeBorder(image, 30, 30, 30, 30, cv.BORDER_REFLECT)\n",
    "reflect101 = cv.copyMakeBorder(image, 30, 30, 30, 30, cv.BORDER_REFLECT_101)\n",
    "wrap = cv.copyMakeBorder(image, 30, 30, 30, 30, cv.BORDER_WRAP)\n",
    "constant = cv.copyMakeBorder(image, 30, 30, 30, 30, cv.BORDER_CONSTANT, value=BLUE)\n",
    "\n",
    "plt.subplot(231),plt.imshow(image,'gray'),plt.title('ORIGINAL')\n",
    "plt.subplot(232),plt.imshow(replicate,'gray'),plt.title('REPLICATE')\n",
    "plt.subplot(233),plt.imshow(reflect,'gray'),plt.title('REFLECT')\n",
    "plt.subplot(234),plt.imshow(reflect101,'gray'),plt.title('REFLECT_101')\n",
    "plt.subplot(235),plt.imshow(wrap,'gray'),plt.title('WRAP')\n",
    "plt.subplot(236),plt.imshow(constant,'gray'),plt.title('CONSTANT')\n",
    "plt.tight_layout()\n",
    "plt.show()"
   ]
  },
  {
   "cell_type": "markdown",
   "metadata": {},
   "source": [
    "## Arithmetic Operations on Images"
   ]
  },
  {
   "cell_type": "code",
   "execution_count": null,
   "metadata": {},
   "outputs": [],
   "source": []
  },
  {
   "cell_type": "code",
   "execution_count": 98,
   "metadata": {},
   "outputs": [],
   "source": [
    "cv.namedWindow?"
   ]
  },
  {
   "cell_type": "code",
   "execution_count": 103,
   "metadata": {},
   "outputs": [],
   "source": [
    "mp.imshow?"
   ]
  },
  {
   "cell_type": "code",
   "execution_count": 49,
   "metadata": {},
   "outputs": [],
   "source": [
    "cv.destroyAllWindows()"
   ]
  }
 ],
 "metadata": {
  "kernelspec": {
   "display_name": "Python [conda root]",
   "language": "python",
   "name": "conda-root-py"
  },
  "language_info": {
   "codemirror_mode": {
    "name": "ipython",
    "version": 3
   },
   "file_extension": ".py",
   "mimetype": "text/x-python",
   "name": "python",
   "nbconvert_exporter": "python",
   "pygments_lexer": "ipython3",
   "version": "3.6.1"
  }
 },
 "nbformat": 4,
 "nbformat_minor": 2
}
