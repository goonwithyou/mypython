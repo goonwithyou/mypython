{
 "cells": [
  {
   "cell_type": "code",
   "execution_count": 32,
   "metadata": {
    "scrolled": true
   },
   "outputs": [
    {
     "data": {
      "text/plain": [
       "'3.4.0'"
      ]
     },
     "execution_count": 32,
     "metadata": {},
     "output_type": "execute_result"
    }
   ],
   "source": [
    "import cv2 as cv\n",
    "# opencv-python + contrib\n",
    "cv.__version__"
   ]
  },
  {
   "cell_type": "markdown",
   "metadata": {},
   "source": [
    "## Getting Start with Images"
   ]
  },
  {
   "cell_type": "code",
   "execution_count": 30,
   "metadata": {},
   "outputs": [],
   "source": [
    "import cv2 as cv\n",
    "\n",
    "# 读取图片文件，第二个参数flags可选项为：\n",
    "# 1:  cv.IMREAD_COLOR\n",
    "# 0:  cv.IMREAD_GRAYSCALE\n",
    "# -1: cv.IMREAD_UNCHANGED\n",
    "img = cv.imread('C:\\\\Users\\\\Cap\\\\Pictures\\\\2.jpeg', 1)\n",
    "\n",
    "# cv.WINDOW_AUTOSIZE\n",
    "# cv.WINDOW_NORMAL 窗口可调整\n",
    "cv.namedWindow('A Girl', cv.WINDOW_NORMAL)\n",
    "\n",
    "# 显示图片，并设定显示图片的标题，类似title\n",
    "cv.imshow('A Girl', img)\n",
    "\n",
    "# 键盘绑定事件，如果值设为3000则表示3秒后关闭图片显示窗口，如果为0则按任意键退出，\n",
    "# 并返回键盘值ascii码\n",
    "k = cv.waitKey(0) & 0xFF # 64位系统需要加& 0xFF\n",
    "\n",
    "if k == 27:# ESC键\n",
    "    # 关闭创建的窗口\n",
    "    cv.destroyAllWindows()\n",
    "elif k == ord('s'):#如果按s则保存图片到指定路径\n",
    "    cv.imwrite('C:\\\\Users\\\\Cap\\\\Pictures\\\\2_copy.png', img)\n",
    "    cv.destroyAllWindows()"
   ]
  },
  {
   "cell_type": "markdown",
   "metadata": {},
   "source": [
    "## Gatting start with video"
   ]
  },
  {
   "cell_type": "code",
   "execution_count": 52,
   "metadata": {},
   "outputs": [],
   "source": [
    "# 从摄像头捕捉,或视频文件VideoCapture(path)\n",
    "cap = cv.VideoCapture(0)\n",
    "\n",
    "# 设定cap的相关属性\n",
    "#     cap.set(key, value)\n",
    "#     cap.get(key)\n",
    "while(cap.isOpened()):\n",
    "    ret, frame = cap.read()\n",
    "    cv.imshow('capture', frame)\n",
    "    if cv.waitKey(10) & 0xFF == ord('q'):\n",
    "        break\n",
    "cap.release()\n",
    "cv.destroyAllWindows()"
   ]
  },
  {
   "cell_type": "markdown",
   "metadata": {},
   "source": [
    "保存视频"
   ]
  },
  {
   "cell_type": "code",
   "execution_count": 57,
   "metadata": {},
   "outputs": [],
   "source": [
    "# 捕捉并保存\n",
    "import cv2 as cv\n",
    "\n",
    "cap = cv.VideoCapture(0)\n",
    "\n",
    "# AVI格式\n",
    "fourcc = cv.VideoWriter_fourcc(*'DIVX')\n",
    "\n",
    "# 视频路径，格式，帧数，width*height\n",
    "out = cv.VideoWriter('C:\\\\Users\\\\Cap\\\\Pictures\\\\out.avi', fourcc, 20.0, (640, 480))\n",
    "\n",
    "while(cap.isOpened()):\n",
    "    ret, frame = cap.read()\n",
    "    if ret == True:\n",
    "        \n",
    "        # 将图像进行翻转正值：沿y轴，0：沿x轴，负值：两个轴翻转\n",
    "        frame = cv.flip(frame, 1)\n",
    "        \n",
    "        # 将数据写入\n",
    "        out.write(frame)\n",
    "        \n",
    "        # 显示摄像头捕捉视频\n",
    "        cv.imshow('frame', frame)\n",
    "        if cv.waitKey(1) % 0xff == ord('q'):\n",
    "            break\n",
    "    else:\n",
    "        break\n",
    "        \n",
    "cap.release()\n",
    "out.release()\n",
    "cv.destroyAllWindows()"
   ]
  }
 ],
 "metadata": {
  "kernelspec": {
   "display_name": "Python [conda root]",
   "language": "python",
   "name": "conda-root-py"
  },
  "language_info": {
   "codemirror_mode": {
    "name": "ipython",
    "version": 3
   },
   "file_extension": ".py",
   "mimetype": "text/x-python",
   "name": "python",
   "nbconvert_exporter": "python",
   "pygments_lexer": "ipython3",
   "version": "3.6.1"
  }
 },
 "nbformat": 4,
 "nbformat_minor": 2
}
