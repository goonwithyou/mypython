{
 "cells": [
  {
   "cell_type": "markdown",
   "metadata": {},
   "source": [
    "<center><h1>multiprocessing</h1></center>"
   ]
  },
  {
   "cell_type": "markdown",
   "metadata": {},
   "source": [
    "1. 需要将要做的事件进行封装函数\n",
    "2. 使用`multiprocessing`提供的类`Process`创建进程对象。\n",
    "3. 通过对象和`Process`的初始化函数对进程进行设置以及绑定要执行的事件。\n",
    "4. 启动进程，会自动的执行函数代表的时间。\n",
    "5. 完成进程的回收。"
   ]
  },
  {
   "cell_type": "code",
   "execution_count": 1,
   "metadata": {},
   "outputs": [],
   "source": [
    "import multiprocessing as mp"
   ]
  },
  {
   "cell_type": "markdown",
   "metadata": {},
   "source": [
    "> help(mp.Process)\n",
    "\n",
    "```python\n",
    "Process(group=None, target=None, name=None, args=(), kwargs={}, *, daemon=None)\n",
    "```\n",
    "- name: 给创建的进程定义名字，默认为Process-1...\n",
    "- target: 绑定的函数\n",
    "- args: 元组， target函数的位参\n",
    "- kwargs: 关键字传参\n",
    "\n",
    "```python\n",
    "p.start()\n",
    "```\n",
    "- 启动进程， 进程被创建，自动运行对应的函数。\n",
    "\n",
    "```python\n",
    "p.join([timeout])\n",
    "```\n",
    "- 阻塞等待对应子进程退出，回收子进程。\n",
    "\n",
    "- 案例:简单的单个进程创建。 `process.py`\n",
    "- <span style=\"color:red\">进程线程相关的代码不要直接在notebook上执行！输出会有异常。</span>"
   ]
  },
  {
   "cell_type": "markdown",
   "metadata": {},
   "source": [
    "> 注意\n",
    "- 如果不使用`join()`则子进程会成为**僵尸进程**。\n",
    "- 在使用`multiprocessing`创建进程中，一般父进程功能就是创建子进程等待回收，不做其他的功能。"
   ]
  },
  {
   "cell_type": "code",
   "execution_count": 8,
   "metadata": {},
   "outputs": [
    {
     "name": "stdout",
     "output_type": "stream",
     "text": [
      "Object `p.join` not found.\n"
     ]
    }
   ],
   "source": []
  },
  {
   "cell_type": "code",
   "execution_count": null,
   "metadata": {},
   "outputs": [],
   "source": []
  }
 ],
 "metadata": {
  "kernelspec": {
   "display_name": "Python [conda root]",
   "language": "python",
   "name": "conda-root-py"
  },
  "language_info": {
   "codemirror_mode": {
    "name": "ipython",
    "version": 3
   },
   "file_extension": ".py",
   "mimetype": "text/x-python",
   "name": "python",
   "nbconvert_exporter": "python",
   "pygments_lexer": "ipython3",
   "version": "3.6.1"
  }
 },
 "nbformat": 4,
 "nbformat_minor": 2
}
