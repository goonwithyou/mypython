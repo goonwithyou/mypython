{
 "cells": [
  {
   "cell_type": "markdown",
   "metadata": {},
   "source": [
    "# LSTM\n",
    "---\n",
    "[LSTM参考资料](https://colah.github.io/posts/2015-08-Understanding-LSTMs/)\n",
    "\n",
    "LSTM主要包含三个门结构**输入门，遗忘门，输出门**，这三个门对应三个sigmoid层结构。**遗忘门**的作用主要是用于确定有哪些信息需要从状态中遗忘，即删除掉。这个遗忘门是一个sigmoid层结构，它首先依据上一层的输出和当前层的输入，两者具有相同的行维度，可以组成一个新的输入矩阵，与遗忘门的权重值进行点乘，在加上偏置项，最后进行sigmoid操作，使输出为一个0-1之间的数值，越接近1表示越重要，接近0表示不重要，会被遗忘。**遗忘门**的主要作用就是生成一个能表示价值分布的矩阵。遗忘门的输出会与上一层的状态进行相乘(遗忘门输出矩阵为1的部分保留，为0的部分会置为0)，而**输入门**的作用是将当前层的主要属性加入到状态中，输入门也是一层**sigmoid层结构**，输入门主要作用是确定哪些值需要加入到state中，还有一个tanh层，用于处理上一层的输出和当前层的输入。当前层的状态输出主要包含两个部分，第一个部分是上一层的状态输出与当前层的遗忘门输出进行相乘，来遗忘掉不重要的部分，第二部分为输入门的输出和tanh层输出的乘积，来确定加入到状态中的部分。这两部分的相加就是当前层的状态输出。**输出门**也是一层sigmoid结构，当前层的输出也有两个结构层确定，sigmoid和tanh，sigmoid就是输出门，也是对当前层的输入和上一层的输出进行操作，tanh是对当前层的状态输出进行操作，将两个层的输出进行相乘就是当前层的输出，当前层的输出会有两个去向，一个就是直接输出，一个是输出到下一层中。\n",
    "\n",
    "\n",
    "\n",
    "1. **遗忘门操作**当前层输入 $x_t$ 和上一层输出 $h_{t-1}$ 连接成一个大的输入值，进行以下操作 \n",
    "$$f_t = \\sigma(W_f\\cdot[h_{t-1}, x_t] + b_f)$$\n",
    "2. **输入门和tanh**确定有哪些信息需要加入到state中。\n",
    "    - 一个sigmoid层，也就是“输入门”来决定哪个值将要被update.\n",
    "    - 一个tanh层创建一个新的状态向量 $\\widetilde{C_t}$，用于加入到state\n",
    "    - 将上述两个输出结合\n",
    "    $$i_t = \\sigma(W_i\\cdot[h_{t-1}, x_t] + b_i)$$\n",
    "    $$\\widetilde{C_t} = tanh(W_C \\cdot [h_{t-1}, x_t] + b_C)$$\n",
    "3. **输出状态**更新旧的状态 $C_{t-1}$，生成新的输出状态 $C_t$，见以下公式，前一项为遗忘后的状态值，后一项为要新加入的值。\n",
    "$$C_t = f_t * C_{t-1} + i_t * \\widetilde{C_t}$$\n",
    "\n",
    "4. **输出门和tanh**输出值首先需要经过一个sigmoid确定哪些值需要被输出\n",
    "$$o_t = \\sigma(W_o [ h_{t-1}, x_t] + b_o)$$\n",
    "$$h_t = o_t * tanh(C_t)$$"
   ]
  }
 ],
 "metadata": {
  "kernelspec": {
   "display_name": "Python [default]",
   "language": "python",
   "name": "python3"
  },
  "language_info": {
   "codemirror_mode": {
    "name": "ipython",
    "version": 3
   },
   "file_extension": ".py",
   "mimetype": "text/x-python",
   "name": "python",
   "nbconvert_exporter": "python",
   "pygments_lexer": "ipython3",
   "version": "3.6.1"
  }
 },
 "nbformat": 4,
 "nbformat_minor": 2
}
