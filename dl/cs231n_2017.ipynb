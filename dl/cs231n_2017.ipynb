{
 "cells": [
  {
   "cell_type": "markdown",
   "metadata": {},
   "source": [
    "# CNN\n",
    "\n",
    "## Fancier optimization\n",
    "- SGD:存在较大陷入局部最小的风险\n",
    "$$x_{t+1} = x_t - \\alpha\\nabla{f(x_t)}$$\n",
    "```python\n",
    "while True:\n",
    "    dx = compute_gradient(x)\n",
    "    x += learning_rate * dx\n",
    "```\n",
    "- SGD + Momentum:添加衰减项，使之滑动的长度加长，滑出局部最小点(添加一个速度向量)\n",
    "$$v_{t+1} = \\rho v_t + \\nabla f(x_t) , \\rho=0.9 or 0.99$$\n",
    "$$x_{t+1} = x_t - \\alpha v_{t+1}$$\n",
    "```python\n",
    "vx = 0 # 速度初始值设为0\n",
    "while True:\n",
    "    dx = compute_gradient(x)\n",
    "    vx = rho * vx + dx\n",
    "    x += learning_rate * vx\n",
    "```\n",
    "- Nesterov Momentum\n",
    "\n",
    "$$v_{t+1} = \\rho v_t - \\alpha \\nabla f(x_t)$$\n",
    "$$x_{t+1} = x_t - \\rho v_t + (1+\\rho)v_{t+1})$$\n",
    "```python\n",
    "dx = compute_gradient(x)\n",
    "old_v = v\n",
    "v = rho * v - learning_rate * dx\n",
    "x += -rho * old_v + (1 + rho) * v \n",
    "```\n",
    "- AdaGrad:添加梯度平方项，并在迭代的过程中除去添加的项，应用于凸函数，且存在学习慢的情形。\n",
    "\n",
    "```python\n",
    "grad_squared = 0\n",
    "while True:\n",
    "    dx = compute_gradient(x)\n",
    "    grad_squared += dx * dx\n",
    "    x -= learning_rate * dx / (np.sqrt(grad_squared) + 1e-7)\n",
    "```\n",
    "- RMSProp：对AdaGrad进行优化\n",
    "\n",
    "```python\n",
    "grad_squared = 0\n",
    "while True:\n",
    "    dx = compute_gradient(x)\n",
    "    grad_squared = decay_rate * grad_squared + (1 - decay_rate) * dx * dx\n",
    "    x -= learning_rate * dx / (np.sqrt(grad_squared) + 1e-7)\n",
    "```\n",
    "- Adam:给RMSProp添加moment,**默认首选**\n",
    "\n",
    "```python\n",
    "first_moment = 0\n",
    "second_moment = 0\n",
    "for t in range(num_iterations):\n",
    "    dx = compute_gradient(x)\n",
    "    # beta1=0.9, beta2=0.999, learning_rate=1e-3 or 5e-4\n",
    "    first_moment = beta1 * first_moment + (1 - beta1) * dx\n",
    "    second_moment = beta2 * second_moment + (1 - beta2) * dx * dx\n",
    "    first_unbias = first_moment / (1 - beta1 ** t)\n",
    "    second_unbias = second_moment / (1 - beta2 ** t)\n",
    "    x -= learning_rate * first_unbias / (np.sqrt(second_unbias) + 1e-7)\n",
    "```\n",
    "## Regulation\n",
    "- L1, L2, L1 + L2\n",
    "- dropout:应用较多\n",
    "- batch normalization\n",
    "- data Augmentation\n",
    "- dropConnect\n",
    "- stochatic depth:训练时随机丢掉一些层\n",
    "\n",
    "*在选择使用中，优先使用BN，如果还出现过拟合的现象，再添加dropout(常用于FC层)*\n",
    "\n",
    "## Transfer Learning\n",
    "在数据集相似的情形下可以修改最后一层(训练集少)，最后多层(训练集多)来进行迁移学习。"
   ]
  },
  {
   "cell_type": "markdown",
   "metadata": {},
   "source": [
    "## CPU vs GPU\n",
    "\n",
    "## Deep Learning Framework\n",
    "- caffe, caffe2\n",
    "- touch, pytouch\n",
    "- tensorflow\n",
    "- mxnet\n"
   ]
  },
  {
   "cell_type": "markdown",
   "metadata": {},
   "source": [
    "## 9 CNN Architectures\n",
    "- Case Studies\n",
    "    - AlexNet\n",
    "    - VGG\n",
    "    - GoogLenet\n",
    "    - ResNet\n",
    "- Also\n",
    "    - NiN\n",
    "    - Wide ResNet\n",
    "    - ResNeXT\n",
    "    - Stochastic Depth\n",
    "    - DenseNet\n",
    "    - FractalNet\n",
    "    - SqueezeNet"
   ]
  },
  {
   "cell_type": "markdown",
   "metadata": {},
   "source": [
    "## 10 RNN\n"
   ]
  },
  {
   "cell_type": "markdown",
   "metadata": {},
   "source": [
    "## 11 \n",
    "dataset: COCO\n",
    "\n",
    "- Semantic Segmentation\n",
    "- Classification Localization\n",
    "- Object Detection\n",
    "    - R-CNN\n",
    "    - Fast-R-CNN\n",
    "- Instance Segmentation\n",
    "    - Mask R-CNN\n",
    "**HyperQuest**"
   ]
  },
  {
   "cell_type": "markdown",
   "metadata": {},
   "source": [
    "Dimensionality Reduction\n",
    "- PCA\n",
    "- t-SNE"
   ]
  },
  {
   "cell_type": "markdown",
   "metadata": {},
   "source": [
    "## 12 deep dream\n",
    "- Activations\n",
    "    - Nearest neighbors\n",
    "    - Dimensionality reduction\n",
    "    - maximal patches\n",
    "    - occlusion\n",
    "- Gradients\n",
    "    - Saliency maps\n",
    "    - class visualization\n",
    "    - fooling images\n",
    "    - feature inversion\n",
    "- Fun\n",
    "    - DeepDream\n",
    "    - Style Transfer"
   ]
  },
  {
   "cell_type": "markdown",
   "metadata": {},
   "source": [
    "## 13 Generative\n",
    "- Supervised Learning\n",
    "    - Classfacation\n",
    "    - Regression\n",
    "    - Object Detection\n",
    "    - semantic segmentation\n",
    "    - image captioning\n",
    "- Unsupervised Learning\n",
    "    - Clustering\n",
    "    - dimensionality reduction\n",
    "    - feature learning\n",
    "    - density estimation\n",
    "\n",
    "- Generative Models\n",
    "    - PixelRNN and PixelCNN\n",
    "    - Variational Autoencoders(VAE)\n",
    "    - Generative Adversarial Networks(GANs)\n",
    "\n",
    "pix2pix"
   ]
  },
  {
   "cell_type": "markdown",
   "metadata": {},
   "source": [
    "## 14 reinforcement learning\n",
    "- Policy gradients\n",
    "- Q-learning"
   ]
  },
  {
   "cell_type": "markdown",
   "metadata": {},
   "source": [
    "## 15 \n",
    "\n",
    "- Algorithms for Efficient Inference\n",
    "    - Pruning\n",
    "    - Weight Sharing\n",
    "    - Quantization\n",
    "    - Low Rank Approximation\n",
    "    - Binary/ Ternary Net\n",
    "    - Winograd Transformation\n",
    "- Algorithms for Efficient Training\n",
    "    - Parallelization:(params and models)\n",
    "    - Mixed Precision with FP16 and FP32\n",
    "    - Model Distillation\n",
    "    - DSD:Dense-Sparse-Dense Training\n",
    "- Hardware for Efficient Inference\n",
    "- Hardware for Efficient Training"
   ]
  },
  {
   "cell_type": "markdown",
   "metadata": {},
   "source": [
    "## 16 adversarial"
   ]
  }
 ],
 "metadata": {
  "kernelspec": {
   "display_name": "Python [conda env:tensorflow]",
   "language": "python",
   "name": "conda-env-tensorflow-py"
  },
  "language_info": {
   "codemirror_mode": {
    "name": "ipython",
    "version": 3
   },
   "file_extension": ".py",
   "mimetype": "text/x-python",
   "name": "python",
   "nbconvert_exporter": "python",
   "pygments_lexer": "ipython3",
   "version": "3.6.2"
  }
 },
 "nbformat": 4,
 "nbformat_minor": 2
}
