{
 "cells": [
  {
   "cell_type": "markdown",
   "metadata": {},
   "source": [
    "# 1 model\n",
    "---\n",
    "经验数据 `-->` 规律发现 `-->` 验证数据 `-->` 实践规律 `-->` 完善提高\n",
    "\n",
    "`|<--         model           -->|`\n",
    "- build\n",
    "- train\n",
    "- validation\n",
    "- test\n",
    "- application"
   ]
  },
  {
   "cell_type": "markdown",
   "metadata": {},
   "source": [
    "# 2 Application\n",
    "---\n",
    "1. regression predict\n",
    "2. classify\n",
    "    - non-supervision(cluster)\n",
    "    - supervision\n",
    "3. recommend engine\n",
    "4. natural language\n",
    "5. video,image recognition\n",
    "6. face or fingerprient recognition\n",
    "7. neural network\n"
   ]
  },
  {
   "cell_type": "markdown",
   "metadata": {},
   "source": [
    "# 3 pre-process of data(for column value)\n",
    "---\n",
    "## 3.1 remove average `import sklearn.preprocessing as sp`\n",
    "- $\\sqrt{\\frac{(x_1-\\bar{x})^2+\\dots+(x_n-\\bar{x})^2}{n}}$\n",
    "- `col = col - mean`\n",
    "- `col /= col_std `\n"
   ]
  },
  {
   "cell_type": "markdown",
   "metadata": {},
   "source": [
    "## 3.2 range scaling (mmx.py)\n",
    "- %%%%\n",
    "- `A x = b`\n",
    "- `np.linalg.lstsq(A, b)`"
   ]
  },
  {
   "cell_type": "code",
   "execution_count": 15,
   "metadata": {},
   "outputs": [
    {
     "name": "stdout",
     "output_type": "stream",
     "text": [
      "[[ 3.  -1.5  2.  -5.4]\n",
      " [ 0.   4.  -0.3  2.1]\n",
      " [ 1.   3.3 -1.9 -4.3]]\n",
      "[[  1.00000000e+00  -2.77555756e-16   1.00000000e+00  -2.22044605e-16]\n",
      " [  1.85037171e-17   1.00000000e+00   4.10256410e-01   1.00000000e+00]\n",
      " [  3.33333333e-01   8.72727273e-01  -2.22044605e-16   1.46666667e-01]]\n",
      "[[ 1.          0.          1.          0.        ]\n",
      " [ 0.          1.          0.41025641  1.        ]\n",
      " [ 0.33333333  0.87272727  0.          0.14666667]]\n"
     ]
    }
   ],
   "source": [
    "## mmx.py\n",
    "import numpy as np\n",
    "\n",
    "def mmx_scale(raw_samples, bmin, bmax):\n",
    "    nor_samples = raw_samples.copy()\n",
    "    cols =nor_samples.shape[1]\n",
    "    for col in range(cols):\n",
    "        col_samples = nor_samples[:, col]\n",
    "        col_min = col_samples.min()\n",
    "        col_max = col_samples.max()\n",
    "        # 线性缩放。把最大值和最小值缩到指定范围的最大最小值，那么中间值则也在范围之内。\n",
    "        # col_min * k + b = bmin\n",
    "        # col_max * k + b = bmax\n",
    "        k, b = np.linalg.lstsq(\n",
    "            np.array([[col_min,1],[col_max,1]]),\n",
    "            np.array([bmin, bmax])\n",
    "        )[0]\n",
    "        col_samples *= k\n",
    "        col_samples += b\n",
    "    return nor_samples\n",
    "\n",
    "def main():\n",
    "    raw_samples = np.array([\n",
    "        [3, -1.5, 2, -5.4],\n",
    "        [0, 4, -0.3, 2.1],\n",
    "        [1, 3.3, -1.9, -4.3]\n",
    "    ])\n",
    "    print(raw_samples)\n",
    "    mmx_samples = mmx_scale(raw_samples, 0, 1)\n",
    "    print(mmx_samples)\n",
    "    \n",
    "    # use sp\n",
    "    # create scaler\n",
    "    mmx = sp.MinMaxScaler(feature_range=(0, 1))\n",
    "    mmx_samples = mmx.fit_transform(raw_samples)\n",
    "    print(mmx_samples)\n",
    "\n",
    "if __name__ == '__main__':\n",
    "    main()"
   ]
  },
  {
   "cell_type": "markdown",
   "metadata": {},
   "source": [
    "## 3.3 normalization (for row value of sample)(norm.py)\n",
    "- scaling the feature values of every sample to the range of `[0, 1]`,and the sum of absolute value is 1.\n"
   ]
  },
  {
   "cell_type": "code",
   "execution_count": 12,
   "metadata": {},
   "outputs": [
    {
     "name": "stdout",
     "output_type": "stream",
     "text": [
      "[[ 3.  -1.5  2.  -5.4]\n",
      " [ 0.   4.  -0.3  2.1]\n",
      " [ 1.   3.3 -1.9 -4.3]]\n",
      "[[ 0.25210084 -0.12605042  0.16806723 -0.45378151]\n",
      " [ 0.          0.625      -0.046875    0.328125  ]\n",
      " [ 0.0952381   0.31428571 -0.18095238 -0.40952381]]\n",
      "1.0\n",
      "1.0\n",
      "1.0\n",
      "[[ 0.25210084 -0.12605042  0.16806723 -0.45378151]\n",
      " [ 0.          0.625      -0.046875    0.328125  ]\n",
      " [ 0.0952381   0.31428571 -0.18095238 -0.40952381]]\n",
      "1.0\n",
      "1.0\n",
      "1.0\n"
     ]
    }
   ],
   "source": [
    "## norm.py\n",
    "import numpy as np\n",
    "import sklearn.preprocessing as sp\n",
    "\n",
    "def normalize(raw_samples):\n",
    "    nor_samples = raw_samples.copy()\n",
    "    rows =nor_samples.shape[0]\n",
    "    for row in range(rows):\n",
    "        row_samples = nor_samples[row]\n",
    "        row_abs = abs(row_samples)\n",
    "        row_abs_sum = row_abs.sum()\n",
    "        row_samples /= row_abs_sum\n",
    "    return nor_samples\n",
    "\n",
    "def main():\n",
    "    raw_samples = np.array([\n",
    "        [3, -1.5, 2, -5.4],\n",
    "        [0, 4, -0.3, 2.1],\n",
    "        [1, 3.3, -1.9, -4.3]\n",
    "    ])\n",
    "    print(raw_samples)\n",
    "    nor = normalize(raw_samples)\n",
    "    print(nor)\n",
    "    for row in range(nor.shape[0]):\n",
    "        row_sample = nor[row]\n",
    "        abs_sample = abs(row_sample)\n",
    "        sum_sample = abs_sample.sum()\n",
    "        print(sum_sample)\n",
    "        \n",
    "    # sp\n",
    "    nor2 = sp.normalize(raw_samples, norm='l1')\n",
    "    print(nor2)\n",
    "    for row in range(nor2.shape[0]):\n",
    "        row_sample = nor2[row]\n",
    "        abs_sample = abs(row_sample)\n",
    "        sum_sample = abs_sample.sum()\n",
    "        print(sum_sample)\n",
    "\n",
    "if __name__ == '__main__':\n",
    "    main()"
   ]
  },
  {
   "cell_type": "markdown",
   "metadata": {},
   "source": [
    "## 3.4 二值化(bin.py)\n",
    "- 根据一个预先设定的阈值，小于等于阈值的为0，大于的为1."
   ]
  },
  {
   "cell_type": "code",
   "execution_count": 14,
   "metadata": {},
   "outputs": [
    {
     "name": "stdout",
     "output_type": "stream",
     "text": [
      "[[ 3.  -1.5  2.  -5.4]\n",
      " [ 0.   4.  -0.3  2.1]\n",
      " [ 1.   3.3 -1.9 -4.3]]\n",
      "[[ 1.  0.  1.  0.]\n",
      " [ 0.  1.  0.  1.]\n",
      " [ 0.  1.  0.  0.]]\n",
      "[[ 1.  0.  1.  0.]\n",
      " [ 0.  1.  0.  1.]\n",
      " [ 0.  1.  0.  0.]]\n"
     ]
    }
   ],
   "source": [
    "## bin.py\n",
    "import numpy as np\n",
    "import sklearn.preprocessing as sp\n",
    "\n",
    "def binarize(raw_samples, threshold):\n",
    "    bin_samples = raw_samples.copy()\n",
    "    bin_samples[bin_samples <= threshold] = 0\n",
    "    bin_samples[bin_samples > threshold] = 1\n",
    "    return bin_samples\n",
    "\n",
    "def main():\n",
    "    raw_samples = np.array([\n",
    "        [3, -1.5, 2, -5.4],\n",
    "        [0, 4, -0.3, 2.1],\n",
    "        [1, 3.3, -1.9, -4.3]\n",
    "    ])\n",
    "    print(raw_samples)\n",
    "    bina = binarize(raw_samples, 1.4)\n",
    "    print(bina)\n",
    "    \n",
    "    # use sp\n",
    "    bin = sp.Binarizer(threshold=1.4)\n",
    "    bina2 = bin.transform(raw_samples)\n",
    "    print(bina2)\n",
    "\n",
    "if __name__ == '__main__':\n",
    "    main()"
   ]
  },
  {
   "cell_type": "markdown",
   "metadata": {},
   "source": [
    "## 3.5 独热编码\n",
    "---\n",
    "```\n",
    "    0       0        3\n",
    "    1       1        0\n",
    "    0       2        1\n",
    "    1       0        2\n",
    "    ------------  -----\n",
    "    0 -10   0-100    0- 1000\n",
    "    1 -01   1-010    1- 0100\n",
    "            2-001    2- 0010\n",
    "                     3- 0001\n",
    "\n",
    "    --------------------------\n",
    "    101000001\n",
    "    010101000\n",
    "    100010010\n",
    "    011000010\n",
    "    \n",
    "```    \n",
    "    "
   ]
  },
  {
   "cell_type": "code",
   "execution_count": 5,
   "metadata": {},
   "outputs": [
    {
     "name": "stdout",
     "output_type": "stream",
     "text": [
      "[[0 0 3]\n",
      " [1 1 0]\n",
      " [0 2 1]\n",
      " [1 0 2]]\n",
      "[[1 0 1 0 0 0 0 0 1]\n",
      " [0 1 0 1 0 1 0 0 0]\n",
      " [1 0 0 0 1 0 1 0 0]\n",
      " [0 1 1 0 0 0 0 1 0]]\n",
      "--------------\n",
      "[[1 0 1 0 0 0 0 0 1]\n",
      " [0 1 0 1 0 1 0 0 0]\n",
      " [1 0 0 0 1 0 1 0 0]\n",
      " [0 1 1 0 0 0 0 1 0]]\n"
     ]
    }
   ],
   "source": [
    "# ohe.py\n",
    "import numpy as np\n",
    "import sklearn.preprocessing as sp\n",
    "\n",
    "def onehotencode(raw_samples):\n",
    "    code_tables = []\n",
    "    for column in raw_samples.T:\n",
    "        code_table = {}\n",
    "        for value in column:\n",
    "            code_table[value] = None\n",
    "        code_tables.append(code_table)\n",
    "        \n",
    "    for code_table in code_tables:\n",
    "        size = len(code_table)\n",
    "        for one, key in enumerate(sorted(code_table.keys())):\n",
    "            code_table[key] = np.zeros(shape=size, dtype=int)\n",
    "            code_table[key][one] = 1\n",
    "    \n",
    "    ohe_samples = []\n",
    "    for raw_sample in raw_samples:\n",
    "        ohe_sample = np.array([], dtype=int)\n",
    "        for column, feature in enumerate(raw_sample):\n",
    "            ohe_sample = np.hstack((ohe_sample, code_tables[column][feature]))\n",
    "        ohe_samples.append(ohe_sample)\n",
    "    return np.array(ohe_samples)\n",
    "\n",
    "\n",
    "def main():\n",
    "    raw_samples = np.array([\n",
    "        [0, 0, 3],\n",
    "        [1, 1, 0],\n",
    "        [0, 2, 1],\n",
    "        [1, 0, 2]\n",
    "    ])\n",
    "    print(raw_samples)\n",
    "    ohe_sample = onehotencode(raw_samples)\n",
    "    print(ohe_sample)\n",
    "    print('--------------')\n",
    "    # use sp\n",
    "    ohe = sp.OneHotEncoder(sparse=False, dtype=int)\n",
    "    new = ohe.fit_transform(raw_samples)\n",
    "    print(new)\n",
    "    \n",
    "if __name__ == '__main__':\n",
    "    main()"
   ]
  },
  {
   "cell_type": "markdown",
   "metadata": {},
   "source": [
    "## 3.6 标记编码(label encode)\n",
    "---\n",
    " 样本的特征值如果已经是数字，则直接使用它们，如果是字符串，则可以通过标记编码得到与之对应的唯一数字，以方便后续处理。\n",
    " "
   ]
  },
  {
   "cell_type": "code",
   "execution_count": 16,
   "metadata": {},
   "outputs": [
    {
     "name": "stdout",
     "output_type": "stream",
     "text": [
      "[0, 'baoma', 'benchi', 3, 'dazhong', 'fute', 'kayan', 'mading', 'falali']\n",
      "[0 2 3 1 4 6 7 8 5]\n",
      "['0' 'baoma' 'benchi' '3' 'dazhong' 'fute' 'kayan' 'mading' 'falali']\n"
     ]
    }
   ],
   "source": [
    "# labels.py\n",
    "from sklearn import preprocessing as sp\n",
    "import numpy as np\n",
    "\n",
    "\n",
    "def main():\n",
    "    label_samples = [0,'baoma', 'benchi',3, 'dazhong', 'fute', 'kayan', 'mading', 'falali']\n",
    "    print(label_samples)\n",
    "    labeler = sp.LabelEncoder()\n",
    "    en_label = labeler.fit_transform(label_samples)\n",
    "    print(en_label)\n",
    "    de_label = labeler.inverse_transform(en_label)\n",
    "    print(de_label)\n",
    "    \n",
    "    \n",
    "if __name__ == '__main__':\n",
    "    main()"
   ]
  },
  {
   "cell_type": "markdown",
   "metadata": {},
   "source": [
    "# 4 linear regression\n",
    "---\n",
    "1. 回归是估计输入数据与输出数据\n",
    "\n",
    "- mylinear.py\n",
    "- ./data/single.txt\n",
    "\n"
   ]
  },
  {
   "cell_type": "code",
   "execution_count": 81,
   "metadata": {},
   "outputs": [
    {
     "name": "stdout",
     "output_type": "stream",
     "text": [
      "0.55 0.45 0.5 0.74 0.74\n",
      "0.54 0.38 0.54 0.68 0.68\n"
     ]
    },
    {
     "data": {
      "image/png": "[encoded data removed]",
      "text/plain": [
       "<matplotlib.figure.Figure at 0x1f1ac0abe10>"
      ]
     },
     "metadata": {},
     "output_type": "display_data"
    }
   ],
   "source": [
    "# mylinear.py\n",
    "import pickle\n",
    "import numpy as np\n",
    "import sklearn.linear_model as sl\n",
    "import sklearn.metrics as sm\n",
    "import matplotlib.pyplot as mp\n",
    "import matplotlib.patches as mc\n",
    "import pandas as pd\n",
    "\n",
    "\n",
    "def read_data(path):\n",
    "    x, y = [], []\n",
    "    data = np.loadtxt(path, delimiter=',')\n",
    "    for raw in data:\n",
    "        x.append(raw[0])\n",
    "        y.append(raw[1])\n",
    "    return np.array(x), np.array(y)\n",
    "\n",
    "def train_model(train_x, train_y):\n",
    "    model = sl.LinearRegression()\n",
    "    model.fit(train_x, train_y)\n",
    "    return model\n",
    "    \n",
    "\n",
    "def pred(model, x):\n",
    "    return model.predict(x)\n",
    "    \n",
    "    \n",
    "def eval_model(y, pred_y):\n",
    "    mae = sm.mean_absolute_error(y, pred_y)\n",
    "    mse = sm.mean_squared_error(y, pred_y)\n",
    "    mda = sm.median_absolute_error(y, pred_y)\n",
    "    evs = sm.explained_variance_score(y, pred_y)\n",
    "    r2s = sm.r2_score(y, pred_y)\n",
    "    print(round(mae, 2),\n",
    "         round(mse, 2),\n",
    "         round(mda, 2),\n",
    "         round(evs, 2),\n",
    "         round(r2s, 2))\n",
    "\n",
    "\n",
    "def save_model(model, filename):\n",
    "    with open(filename, 'wb') as f:\n",
    "        pickle.dump(model, f)\n",
    "    \n",
    "\n",
    "def init_chart():\n",
    "    mp.gcf().set_facecolor(np.ones(3)*240/255)\n",
    "    mp.title('Linear Regression', fontsize=20)\n",
    "    mp.xlabel('x', fontsize=14)\n",
    "    mp.ylabel('y', fontsize=14)\n",
    "    mp.tick_params(which='both', top=True, right=True, labelright=True, labelsize=10)\n",
    "    mp.grid(linestyle=':')\n",
    "    \n",
    "    \n",
    "def draw_train(x, y, pred_y):\n",
    "    mp.plot(x, y, 's', label='Traing', color='red')\n",
    "    sorted_indices = x.T[0].argsort()\n",
    "    mp.plot(x.T[0][sorted_indices], pred_y[sorted_indices], '--',color='blue', label='Predict')\n",
    "    mp.legend()\n",
    "\n",
    "    \n",
    "def draw_test(x, y, pred_y):\n",
    "    mp.plot(x, y, 's', color='green', label='Testing')\n",
    "    mp.plot(x, pred_y, 'o', color='orange', label='Test Predict')\n",
    "    \n",
    "    for x_i, pred_y_i, y_i in zip(x, pred_y, y):\n",
    "        mp.gca().add_patch(mc.Arrow(x_i, pred_y_i, 0, y_i-pred_y_i, \n",
    "                                    width=0.2, ec='none', fc='black'))\n",
    "    mp.legend()\n",
    "    \n",
    "    \n",
    "def show_chart():\n",
    "    mp.show()\n",
    "    \n",
    "    \n",
    "def main():\n",
    "    x, y = read_data('./data/single.txt')\n",
    "    train_size = int(len(x) * 0.8)\n",
    "    train_x = x[:train_size].reshape(-1, 1)\n",
    "    train_y = y[:train_size]\n",
    "    \n",
    "    model = train_model(train_x, train_y)\n",
    "    pred_y = pred(model, train_x)\n",
    "    eval_model(train_y, pred_y)\n",
    "    \n",
    "    test_x = x[train_size:].reshape(-1, 1)\n",
    "    test_y = y[train_size:]\n",
    "    pred_test_y = pred(model, test_x)\n",
    "    eval_model(test_y, pred_test_y)\n",
    "    \n",
    "#     save_model(model, './mymodel/my_single_model.mod')\n",
    "    \n",
    "    init_chart()\n",
    "    draw_train(train_x, train_y, pred_y)\n",
    "    draw_test(test_x, test_y, pred_test_y)\n",
    "    show_chart()\n",
    "    \n",
    "if __name__ == '__main__':\n",
    "    main()"
   ]
  },
  {
   "cell_type": "markdown",
   "metadata": {},
   "source": [
    "> use my_single_model.mod，直接使用我们之前保存的训练好的model\n",
    "- load_mySingleModel.py"
   ]
  },
  {
   "cell_type": "markdown",
   "metadata": {},
   "source": [
    "# 5 岭回归\n",
    "---\n",
    "线性回归的主要问题是对异常值过于敏感。在真实世界的数据收集的过程中，经常会遇到错误的度量结果，而线性回归使用普通的最小二乘法，其目标是使每个样本的误差平方最小。这时， 由于异常值误差的绝对值通常较大，会引起回归模型的质量下降，为了避免这个问题，可以引入包含正则化系数`α`的岭回归模型，通过阈值和权重来有选择的削弱异常样本对回归效果的影响。\n",
    "\n",
    "- 附件\n",
    "    - `ridge.py`"
   ]
  },
  {
   "cell_type": "markdown",
   "metadata": {},
   "source": [
    "# 6 多项式回归(polynomial regression)\n",
    "---\n",
    "$$y = k_1x_1 + k_2x_2^2 + k_3x_3^3 + \\dots + b$$\n"
   ]
  },
  {
   "cell_type": "markdown",
   "metadata": {},
   "source": [
    "sp.PolynomialFeatures 管理多个线性回归器的容器\n",
    "si.make_pipeline"
   ]
  },
  {
   "cell_type": "markdown",
   "metadata": {},
   "source": [
    "# 7 决策树回归和自适应增强决策树回归\n",
    "---\n",
    "1. 决策树模型和自适应增强决策树模型的比较\n",
    "    - `housing.py`\n",
    "2. 特征的相对重要性\n",
    "    - 在一个特定的回归模型中，影响最终输出的诸特性所作出的贡献并不相同，评估其贡献大小有助于排除影响较小的因素，简化后续数据的处理过程。\n",
    "    - `myimp.py`\n",
    "3. 数据的时间周期对特征重要性的影响。\n",
    "    - `bike.py`"
   ]
  },
  {
   "cell_type": "markdown",
   "metadata": {},
   "source": [
    "# 8 简单分类器\n",
    "---\n",
    "分类规则已知，直接通过代码对数据做分类。\n",
    "\n",
    "- `mySimple.py`"
   ]
  },
  {
   "cell_type": "markdown",
   "metadata": {},
   "source": [
    "# 9 逻辑回归分类器\n",
    "---\n",
    "\n",
    "```python\n",
    "import sklearn.linear_model as sl\n",
    "\n",
    "model = sl.LogisticRegression()\n",
    "```\n",
    "- `myLogistic.py`"
   ]
  },
  {
   "cell_type": "markdown",
   "metadata": {},
   "source": [
    "# 10 朴素贝叶斯分类器\n",
    "---\n",
    "```python\n",
    "import sklearn.naive_bayes as nb\n",
    "\n",
    "model = no.GaussianNB()\n",
    "```\n",
    "- `myNaiveBayes.py`"
   ]
  },
  {
   "cell_type": "markdown",
   "metadata": {},
   "source": [
    "# 11 划分训练集和测试集\n",
    "---\n",
    "\n",
    "```python\n",
    "import sklearn.model_selection as ms\n",
    "    \n",
    "train_x, test_x, train_y, test_y = \\\n",
    "    ms.train_test_split(x, y, test_size=0.2, random_state=10)\n",
    "```\n",
    "- `myTrainTest.py`"
   ]
  },
  {
   "cell_type": "markdown",
   "metadata": {},
   "source": [
    "# 12 用交叉验证检验模型的准确性\n",
    "---\n",
    "```python\n",
    "import sklearn.model_selection as ms\n",
    "\n",
    "pc = ms.cross_val_score(model, x, y, cv=10, scoring='precision_weighted')\n",
    "rc = ms.cross_val_score(model, x, y, cv=10, scoring='recall_weighted')\n",
    "f1 = ms.cross_val_score(model, x, y, cv=10, scoring='f1_weighted')\n",
    "ac = ms.cross_val_score(model, x, y, cv=10, scoring='accuracy')\n",
    "print(round(pc.mean(), 2), round(rc.mean(), 2),\n",
    "      round(f1.mean(), 2), round(ac.mean(), 2))\n",
    "```\n",
    "\n",
    "- `myCrossValidation.py`"
   ]
  },
  {
   "cell_type": "markdown",
   "metadata": {},
   "source": [
    "# 13 混淆矩阵\n",
    "---\n",
    "```python\n",
    "import sklearn.metrics as sm\n",
    "sm.confusion_matrix()\n",
    "```\n",
    "- `myConfusionMatrix.py`"
   ]
  },
  {
   "cell_type": "markdown",
   "metadata": {},
   "source": [
    "# 14 性能报告\n",
    "---\n",
    "```python\n",
    "import sklearn.metrics as sm\n",
    "sm.classification_report()\n",
    "```\n",
    "- `myReport.py`"
   ]
  },
  {
   "cell_type": "markdown",
   "metadata": {},
   "source": [
    "# 15 汽车质量评估\n",
    "---\n",
    "```python\n",
    "import sklearn.preprocessing as sp # 数据预处理\n",
    "import sklearn.ensemble as se # \n",
    "import sklearn.model_selection as sm\n",
    "\n",
    "encoder = sp.LabelEncoder() # 把所有数据转成数字编码格式\n",
    "model = se.RandomForestClassifier() # \n",
    "```\n",
    "车的属性有：\n",
    "1. 价格(buying)\n",
    "    - 昂贵(vhigh)\n",
    "    - 贵(high)\n",
    "    - 便宜(med)\n",
    "    - 廉价(low)\n",
    "2. 门数\n",
    "    - 2，3，4，5\n",
    "3. 人数\n",
    "    - 2，4....\n",
    "\n",
    "- data:'/data/car.txt'\n",
    "- `myCarReport.py`"
   ]
  },
  {
   "cell_type": "markdown",
   "metadata": {},
   "source": [
    "# 16 验证曲线\n",
    "---\n",
    "用于模型参数的选择\n",
    "```python\n",
    "import sklearn.model_selection as sm\n",
    "sm.validation_curve() # 用于超参数的选择\n",
    "```\n",
    "- `myVerifyCurve.py`"
   ]
  },
  {
   "cell_type": "markdown",
   "metadata": {},
   "source": [
    "# 17 学习曲线\n",
    "---\n",
    "选择训练集的大小\n",
    "```python\n",
    "import sklearn.model_selection as sm\n",
    "\n",
    "sm.learning_curve() # 用于确定训练集的大小\n",
    "```\n",
    "- `myLearnCurve.py`"
   ]
  },
  {
   "cell_type": "markdown",
   "metadata": {},
   "source": [
    "# 18 完整的分类学习过程\n",
    "---\n",
    "- 数据收集 `read_data`\n",
    "- 训练测试划分 `sm.train_test_split()`\n",
    "- 模型训练 `predict_model(train_x)`\n",
    "- 交叉验证 `sm.cross_val_score()`\n",
    "- 模型测试 `predict_model(test_x)`\n",
    "- 评估精度 `eval_ac`\n",
    "- 模型应用 \n",
    "\n",
    "```python\n",
    "import sklearn.naive_bayes as nb\n",
    "import sklearn.model_selection as sm\n",
    "\n",
    "model = nb.GaussianNB()\n",
    "\n",
    "# 训练集，测试集划分\n",
    "train_x, test_x, train_y, test_y = sm.train_test_split(x, y, test_size, random_state)\n",
    "```\n",
    "- `myDefineEncoder.py`"
   ]
  },
  {
   "cell_type": "markdown",
   "metadata": {},
   "source": [
    "# 19 SVM(支持向量机)线性分类器\n",
    "---\n",
    "```python\n",
    "import sklearn.svm as svm\n",
    "\n",
    "svm.SVC(kernel='linear')\n",
    "```\n",
    "- `mySVMLinear.py`"
   ]
  },
  {
   "cell_type": "markdown",
   "metadata": {},
   "source": [
    "# 20 SVM多项式非线性分类器\n",
    "---\n",
    "```python\n",
    "import sklearn.svm as svm\n",
    "\n",
    "svm.SVC(kernel='poly', degree=3)\n",
    "```\n",
    "- `mySVMPoly.py`"
   ]
  },
  {
   "cell_type": "markdown",
   "metadata": {},
   "source": [
    "# 21 SVM径向基函数(RBF)非线性分类器\n",
    "---\n",
    "```python\n",
    "import sklearn.svm as svm\n",
    "\n",
    "svm.SVC(kernel='rbf', C=600, gamma=0.01)\n",
    "```\n",
    "- `mySVMRBF.py`"
   ]
  },
  {
   "cell_type": "markdown",
   "metadata": {},
   "source": [
    "# 22 解决类型数量不平衡问题\n",
    "---\n",
    "某一个类型的数据量可能比其他类型多很多，这种条件下训练的分类器可\n",
    "能会存在较大的偏差，边界线不能反映出数据的真实特性，因此需要考虑修正样本的比例，\n",
    "或者想办法调和。\n",
    "```python\n",
    "import sklearn.svm as svm\n",
    "\n",
    "svm.SVC(kernel='linear', class_weight='balanced')\n",
    "```\n",
    "- `mySCMImbalance.py`"
   ]
  },
  {
   "cell_type": "markdown",
   "metadata": {},
   "source": [
    "# 23 置信度\n",
    "---\n",
    "```python\n",
    "import sklearn.svm as svm\n",
    "\n",
    "model = svm.SVC(kernel='rbf', C=600, gamma=0.01, probability=True) # probability=True\n",
    "\n",
    "cp = model.predict_proba(x) # 预测点各分类比率\n",
    "```\n",
    "- `mySVMConfidence.py`"
   ]
  },
  {
   "cell_type": "markdown",
   "metadata": {},
   "source": [
    "# 24 最优超参数\n",
    "---\n",
    "在16 验证曲线的测试中，我们是通过设置超参数区间，得到结果分布，然后人为选择参数值。\n",
    "\n",
    "如何自动获取最优超参数值？\n",
    "```python\n",
    "import sklearn.model_selection as ms\n",
    "import sklearn.svm as svm\n",
    "\n",
    "def train_model(x, y):\n",
    "    params = [\n",
    "        {'kernel': ['linear'], 'C': [1, 10, 100, 1000]},\n",
    "        {'kernel': ['poly'], 'C': [1], 'degree': [2, 3]},\n",
    "        {'kernel': ['rbf'], 'C': [1, 10, 100, 1000], 'gamma': [1, 0.1, 0.01, 0.001]}]\n",
    "    \n",
    "    model = ms.GridSearchCV(svm.SVC(probability=True), params, cv=5)\n",
    "    model.fit(x, y)\n",
    "    for i, param in enumerate(model.cv_results_['params']):\n",
    "        print(param, model.cv_results_['mean_test_score'][i])\n",
    "    print('best param:', model.best_params_)\n",
    "    return model # 返回的是测试最优参数\n",
    "```\n",
    "- `mySVMHyper.py`"
   ]
  },
  {
   "cell_type": "markdown",
   "metadata": {},
   "source": [
    "# 25 事件预测\n",
    "---\n",
    "先对时间进行分类，然后根据给定测试样本预测所属类别\n",
    "\n",
    "- `myEventPredict.py`"
   ]
  },
  {
   "cell_type": "markdown",
   "metadata": {},
   "source": [
    "# 26 估算交通流量\n",
    "---\n",
    "- `myTrafficPredict.py`"
   ]
  },
  {
   "cell_type": "markdown",
   "metadata": {},
   "source": [
    "# 27 k-means聚类\n",
    "---\n",
    "针对数据样本间距离的分类方法\n",
    "\n",
    "`myKmean.py`"
   ]
  },
  {
   "cell_type": "markdown",
   "metadata": {},
   "source": [
    "# 28 利用聚类实现矢量量化\n",
    "---\n",
    "`myKmeanVector.py` 通过图片压缩"
   ]
  },
  {
   "cell_type": "markdown",
   "metadata": {},
   "source": [
    "# 29 均值漂移聚类\n",
    "---\n",
    "利用不同的概率密度匹配数据样本的分布模式，自动计算出类的个数。\n",
    "\n",
    "`myKmeanShift.py`通过带宽去划分聚类，通过大密度点(概率密度曲线确定)向稀疏扩散。"
   ]
  },
  {
   "cell_type": "markdown",
   "metadata": {},
   "source": [
    "# 30 凝聚层次聚类\n",
    "---\n",
    "和均值漂移方法相反，先确定稀疏点的范围，再向大密度点收缩\n",
    "\n",
    "- `myAggloCluster.py`\n",
    "\n",
    "对比有无连结性\n",
    "\n",
    "- `mySpiral.py`"
   ]
  },
  {
   "cell_type": "markdown",
   "metadata": {},
   "source": [
    "# 31 评价聚类算法的效果，择优而用\n",
    "---\n",
    "度量聚类效果的重要指标(人为指定集群范围，计算每个可选值的模型得分)\n",
    "- 轮廓系数：轮廓系数用于表示集群是不是被划分的合理，每个集群是否足够密集。\n",
    "- `myPerf.py`"
   ]
  },
  {
   "cell_type": "markdown",
   "metadata": {},
   "source": [
    "# 32 用DBSCAN算法自动估算最优的集群数量\n",
    "---\n",
    "Density Based Spatial Clustering of Applications with Noise\n",
    "\n",
    "带噪声的基于密度的聚类方法\n",
    "- 核心样本：类属确定\n",
    "- 边缘样本：类属不明确\n",
    "- 带外样本：不属于任何集群\n",
    "- `myDbscan.py`"
   ]
  },
  {
   "cell_type": "markdown",
   "metadata": {},
   "source": [
    "# 33 客户购买习惯的划分\n",
    "---\n",
    "- `mySales.py`"
   ]
  },
  {
   "cell_type": "markdown",
   "metadata": {},
   "source": [
    "# 34 语音识别(ing)\n",
    "---\n",
    "```python\n",
    "import numpy.fft as nf # 用于处理傅里叶的频率转换\n",
    "import scipy.io.wavfile as wf # 读取wav\n",
    "\n",
    "freqs = nf.fftfreq(len(sigs), d=1/sample_rate) # 依据采样点长度和采样频率，生成等差频率数组 \n",
    "ffts = nf.fft(sigs) # 把采样点强度转成对应freqs的强度分布数组\n",
    "\n",
    "sample_rate, sigs = wf.read(filename) # 返回采样频率和采样点强度\n",
    "\n",
    "sigs = nf.ifft(ffts)\n",
    "```\n",
    "1. 读取和绘制**时间域**音频数据\n",
    "    - 波形文件：.wav， 时间和强度\n",
    "    - `mySignal.py`\n",
    "2. 基于傅里叶变换的**频率域**音频数据（ing）\n",
    "    - 声音的特征是由频率（强度）表现的\n",
    "    - 声音有基音和泛音，基音指频率，之所以听着相同基音的声音不同是因为泛音的存在。\n",
    "    - 傅里叶变换可以把**时间（波音）**转成**频率**\n",
    "    - 时间域转成频率域\n",
    "    - `myFreq.py`\n",
    "3. 基于傅里叶变换的**频率域滤波**\n",
    "    - `myFilter.py\n",
    "4. 音频合成\n",
    "5. 音频特征值\n",
    "    - `myFeature.py`"
   ]
  },
  {
   "cell_type": "markdown",
   "metadata": {},
   "source": [
    "# 35 推荐引擎(ing)d6\n",
    "---\n",
    "- 机器学习流水线\n",
    "- 寻找最近邻\n",
    "- 基于knn算法的分类\n",
    "- 基于knn算法的回归\n",
    "- 计算欧氏距离分数\n",
    "- 皮氏分数\n",
    "- 寻找相似用户\n",
    "- 电影推荐"
   ]
  },
  {
   "cell_type": "markdown",
   "metadata": {},
   "source": [
    "# 36 图像识别\n",
    "---\n"
   ]
  },
  {
   "cell_type": "markdown",
   "metadata": {},
   "source": [
    "## 36.1 opencv-python basic\n",
    "- `myOpencvBasic.py`\n",
    "\n",
    "```python\n",
    "import cv2 as cv\n",
    "import numpy as np\n",
    "\n",
    "image = cv.imread('./data/forest.jpg')\n",
    "# 显示读取的图片\n",
    "print(image.shape)\n",
    "# print(image)\n",
    "cv.imshow('Origimal', image)\n",
    "\n",
    "# 对图片进行裁剪\n",
    "h, w = image.shape[: 2]\n",
    "l, t = int(w/4), int(h/4)\n",
    "r, b = int(w*3/4), int(h*3/4)\n",
    "cropped = image[t:b, l:r]\n",
    "cv.imshow('cropped', cropped)\n",
    "\n",
    "# 对三个颜色的通道进行拆分\n",
    "blue = np.zeros_like(cropped)\n",
    "blue[..., 0] = cropped[..., 0]\n",
    "cv.imshow('blue', blue)\n",
    "\n",
    "green = np.zeros_like(cropped)\n",
    "green[..., 1] = cropped[..., 1]\n",
    "cv.imshow('green', green)\n",
    "\n",
    "red = np.zeros_like(cropped)\n",
    "red[..., 2] = cropped[..., 2]\n",
    "cv.imshow('red', red)\n",
    "\n",
    "# 图片缩放\n",
    "scaled = cv.resize(cropped, (w, h), interpolation=cv.INTER_LINEAR)\n",
    "cv.imshow('scaled', scaled)\n",
    "\n",
    "deformed = cv.resize(cropped, None, fx=2, fy=0.5, interpolation=cv.INTER_LINEAR)\n",
    "cv.imshow('deformed', deformed)\n",
    "\n",
    "# exit 按键盘任意键退出\n",
    "cv.waitKey()\n",
    "```"
   ]
  },
  {
   "cell_type": "markdown",
   "metadata": {},
   "source": [
    "## 36.2 边缘检测\n",
    "- `myOpencvEdge.py`\n",
    "\n",
    "\n",
    "1. `cv.Sobel(src, ddepth, dx, dy, ksize)`\n",
    "2. `cv.Laplacian(src, ddepth)`\n",
    "3. `cv.Canny(image, threshold1, threshold2)`"
   ]
  },
  {
   "cell_type": "markdown",
   "metadata": {},
   "source": [
    "## 36.3 均衡化\n",
    "\n",
    "- `myOpencvEqualize.py`\n",
    "\n",
    "\n",
    "1. `cv.cvtColor(src, code)` # 转成其他颜色格式\n",
    "2. `cv.equalizeHist(src)` # 进行均衡化处理"
   ]
  },
  {
   "cell_type": "markdown",
   "metadata": {},
   "source": [
    "## 36.4 棱角检测\n",
    "- `myOpencvCorner.py`\n",
    "\n",
    "\n",
    "1. `cv.cornerHarris(src, blocksize, ksize, k)`"
   ]
  },
  {
   "cell_type": "markdown",
   "metadata": {},
   "source": [
    "## 36.5 star特征检测器\n",
    "- `myOpencvStar.py`\n",
    "\n",
    "```python\n",
    "dectector = cv.xfeatures2d.StarDetector_create()\n",
    "keypoints = dectector.detect(gray)\n",
    "cv.drawKeypoints(image, keypoints, image, flags=cv.DRAW_MATCHES_FLAGS_DRAW_RICH_KEYPOINTS)\n",
    "```"
   ]
  },
  {
   "cell_type": "markdown",
   "metadata": {},
   "source": [
    "## 36.6 SIFT特征检测器\n",
    "- `myOpencvSIFT.py`\n",
    "\n",
    "```python\n",
    "dectector = cv.xfeatures2d.SIFT_create()\n",
    "keypoints = dectector.detect(gray)\n",
    "cv.drawKeypoints(image, keypoints, image, flags=cv.DRAW_MATCHES_FLAGS_DRAW_RICH_KEYPOINTS)\n",
    "```"
   ]
  },
  {
   "cell_type": "markdown",
   "metadata": {},
   "source": [
    "## 36.7 图像特征值\n",
    "- `myOpencvFeature.py`\n",
    "\n",
    "```python\n",
    "star = cv.xfeatures2d.StarDetector_create()\n",
    "keypoints = star.detect(image)\n",
    "# 用SIFT提取边缘等特征\n",
    "sift = cv.xfeatures2d.SIFT_create()\n",
    "gray = cv.cvtColor(image, cv.COLOR_BGR2GRAY)\n",
    "# 对两个特征值进行整合\n",
    "keypoints, desc = sift.compute(gray, keypoints)\n",
    "```"
   ]
  },
  {
   "cell_type": "markdown",
   "metadata": {},
   "source": [
    "## 36.8 图像识别\n",
    "先对图像的特征进行提取，然后使用隐马尔科夫模型对数据进行训练。\n",
    "- `myOpencvRecog.py`"
   ]
  },
  {
   "cell_type": "markdown",
   "metadata": {},
   "source": [
    "# 37 人脸识别\n",
    "> ### 1 视频捕捉\n",
    "\n",
    "```python\n",
    "cap = cv.VideoCapture(0)\n",
    "while True:\n",
    "    image = cap.read()[1]\n",
    "    image = cv.resize(image, None, fx=0.75, fy=0.75, interpolation=cv.INTER_AREA)\n",
    "    cv.imshow('video', image)\n",
    "    if cv.waitKey(33) == 27:\n",
    "        break\n",
    "cap.release()\n",
    "cv.destroyAllWindows()\n",
    "```\n",
    "- `myOpencvFace.py`\n",
    "\n",
    "> ### 2 面部定位\n",
    "\n",
    "```python\n",
    "face_detector = cv.CascadeClassifier('./data/haar/face.xml')\n",
    "eye_detector = cv.CascadeClassifier('./data/haar/eye.xml')\n",
    "nose_detector = cv.CascadeClassifier('./data/haar/nose.xml')\n",
    "cap = cv.VideoCapture(0)\n",
    "while True:\n",
    "    image = cap.read()[1]\n",
    "    image = cv.resize(image, None, fx=0.75, fy=0.75, interpolation=cv.INTER_AREA)\n",
    "    faces = face_detector.detectMultiScale(image, 1.3, 5)\n",
    "    eye = eye_detector.detectMultiScale(image, 1.3, 5)\n",
    "    nose = nose_detector.detectMultiScale(image, 1.3, 5)\n",
    "    for l, t, w, h in faces:\n",
    "        a, b = int(w / 2), int(h / 2)\n",
    "        cv.ellipse(image, (l + a, t + b), (a, b), 0, 0, 360, (255, 0, 255), 2)\n",
    "    for l, t, w, h in eye:\n",
    "        a, b = int(w / 2), int(h / 2)\n",
    "        cv.ellipse(image, (l + a, t + b), (a, b), 0, 0, 360, (255, 255, 0), 2)\n",
    "    for l, t, w, h in nose:\n",
    "        a, b = int(w / 2), int(h / 2)\n",
    "        cv.ellipse(image, (l + a, t + b), (a, b), 0, 0, 360, (0, 255, 255), 2)\n",
    "\n",
    "    cv.imshow('video', image)\n",
    "    if cv.waitKey(33) == 27:\n",
    "        break\n",
    "cap.release()\n",
    "cv.destroyAllWindows()\n",
    "```\n",
    "- `myOpencvFace.py`\n",
    "    \n",
    "> ### 3 主成分分析(Principal Components Analysis, PCA):降维\n",
    "\n",
    "```python\n",
    "import sklearn.decomposition as dc\n",
    "model = dc.PCA()\n",
    "x = model.fit_transform(x)\n",
    "```\n",
    "- PCA识别数据中的重要部分，并将其按照重要程度排序。当需要处理很大维度的特征值时，利用PCA降维，可以在不损失数据重要特征的同时，降低其处理的复杂度。\n",
    "- **主要用于线性分析**\n",
    "- `myOpencvPCA.py`\n",
    "\n",
    "> ### 4 核主成分分析(KPCA)\n",
    "\n",
    "```python\n",
    "import sklearn.decomposition as dc\n",
    "model = dc.KernelPCA(Kernel='rbf', fit_inverse_transform=True, gamma=10)\n",
    "x = model.fit_transform(x)\n",
    "```\n",
    "- **主要用于非线性分析，数据分割，逆向转换**\n",
    "- `myOpencvKPCA.py`\n",
    "\n",
    "> ### 5 独立成分分析(ICA)\n",
    "\n",
    "```python\n",
    "import sklearn.decomposition as dc\n",
    "model = dc.FastICA()\n",
    "```\n",
    "- `myOpencvICA.py`\n",
    "\n",
    "> ### 6 人脸识别\n",
    "\n",
    "- `myOpencvFaceRecog.py`\n",
    "\n",
    "```python\n",
    "# 要用cv的contrib版本\n",
    "model = cv.face.LBPHFaceRecognizer_create()\n",
    "```"
   ]
  },
  {
   "cell_type": "markdown",
   "metadata": {},
   "source": [
    "# 38 自然语言\n",
    "---\n"
   ]
  },
  {
   "cell_type": "code",
   "execution_count": 1,
   "metadata": {},
   "outputs": [],
   "source": [
    "import cv2 as cv"
   ]
  },
  {
   "cell_type": "code",
   "execution_count": 3,
   "metadata": {},
   "outputs": [],
   "source": [
    "cv.face.LBPHFaceRecognizer_create"
   ]
  },
  {
   "cell_type": "code",
   "execution_count": 4,
   "metadata": {},
   "outputs": [],
   "source": [
    "face_detector = cv.CascadeClassifier('./data/haar/face.xml')"
   ]
  },
  {
   "cell_type": "code",
   "execution_count": 5,
   "metadata": {},
   "outputs": [],
   "source": [
    "face_detector.detectMultiScale?"
   ]
  },
  {
   "cell_type": "code",
   "execution_count": null,
   "metadata": {},
   "outputs": [],
   "source": [
    "cv.cvtColor"
   ]
  },
  {
   "cell_type": "code",
   "execution_count": null,
   "metadata": {},
   "outputs": [],
   "source": []
  },
  {
   "cell_type": "code",
   "execution_count": null,
   "metadata": {},
   "outputs": [],
   "source": []
  },
  {
   "cell_type": "code",
   "execution_count": 5,
   "metadata": {},
   "outputs": [],
   "source": [
    "import sklearn.model_selection as ms\n",
    "ms.train_test_split?"
   ]
  }
 ],
 "metadata": {
  "kernelspec": {
   "display_name": "Python [conda root]",
   "language": "python",
   "name": "conda-root-py"
  },
  "language_info": {
   "codemirror_mode": {
    "name": "ipython",
    "version": 3
   },
   "file_extension": ".py",
   "mimetype": "text/x-python",
   "name": "python",
   "nbconvert_exporter": "python",
   "pygments_lexer": "ipython3",
   "version": "3.6.1"
  }
 },
 "nbformat": 4,
 "nbformat_minor": 2
}
