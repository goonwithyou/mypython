{
 "cells": [
  {
   "cell_type": "markdown",
   "metadata": {},
   "source": [
    "# 1 install"
   ]
  },
  {
   "cell_type": "markdown",
   "metadata": {},
   "source": [
    "> numpy + mkl(intel math kernel library)"
   ]
  },
  {
   "cell_type": "markdown",
   "metadata": {},
   "source": [
    "# 2 start"
   ]
  },
  {
   "cell_type": "markdown",
   "metadata": {},
   "source": [
    "## 2.1 numpy核心－多维数组"
   ]
  },
  {
   "cell_type": "code",
   "execution_count": 7,
   "metadata": {},
   "outputs": [
    {
     "name": "stdout",
     "output_type": "stream",
     "text": [
      "py--> 102560\n",
      "np--> 1614\n"
     ]
    }
   ],
   "source": [
    "import datetime as dt\n",
    "import numpy as np\n",
    "\n",
    "\n",
    "def py_sum(n):\n",
    "    L1 = [i ** 2 for i in range(n)]\n",
    "    L2 = [i ** 3 for i in range(n)]\n",
    "    L3 = []\n",
    "    for i in range(n):\n",
    "        L3.append(L1[i] + L2[i])\n",
    "    return L3\n",
    "\n",
    "\n",
    "def np_sum(n):\n",
    "    return np.arange(n) ** 2 + np.arange(n) ** 3\n",
    "\n",
    "\n",
    "def main():\n",
    "    start1 = dt.datetime.now()\n",
    "    py_sum(100000)\n",
    "    end1 = dt.datetime.now()\n",
    "    print('py-->', (end1 - start1).microseconds)\n",
    "\n",
    "    start2 = dt.datetime.now()\n",
    "    np_sum(100000)\n",
    "    end2 = dt.datetime.now()\n",
    "    print('np-->', (end2 - start2).microseconds)\n",
    "\n",
    "\n",
    "main()\n"
   ]
  },
  {
   "cell_type": "markdown",
   "metadata": {},
   "source": [
    "## 2.2 numpy基础"
   ]
  },
  {
   "cell_type": "markdown",
   "metadata": {},
   "source": [
    "### 2.2.1 数组对象\n",
    "\n",
    "- `numpy`的数组是`numpy.ndarray`类型的对象，其中包括**实际数据**，以及描述这些数据的**元数据**，大部分针对数组的操作实际上仅仅是对其**元数据**的操作，以此提升性能．\n",
    "- `numpy`数组的元素必须是同质的，即**类型**完全一致．\n",
    "- `numpy`数组对象的`dtype`属性表示元素的**数据类型**．\n",
    "- `numpy`数组对象的`shape`属性表示数组的**维度**,return tuple．\n"
   ]
  },
  {
   "cell_type": "markdown",
   "metadata": {},
   "source": [
    "> `arange([start, ]stop[, step,], dtype=None)`"
   ]
  },
  {
   "cell_type": "code",
   "execution_count": 12,
   "metadata": {},
   "outputs": [
    {
     "name": "stdout",
     "output_type": "stream",
     "text": [
      "[1 2 3 4]\n",
      "<class 'numpy.ndarray'>\n",
      "int64\n",
      "(4,)\n"
     ]
    }
   ],
   "source": [
    "# 一维\n",
    "one_dim = np.arange(1, 5)\n",
    "print(one_dim)\n",
    "print(type(one_dim))\n",
    "print(one_dim.dtype)\n",
    "print(one_dim.shape)"
   ]
  },
  {
   "cell_type": "code",
   "execution_count": 17,
   "metadata": {},
   "outputs": [
    {
     "name": "stdout",
     "output_type": "stream",
     "text": [
      "[[1 2 3 4]\n",
      " [6 7 8 9]]\n",
      "<class 'numpy.ndarray'>\n",
      "int64\n",
      "(2, 4)\n"
     ]
    }
   ],
   "source": [
    "# 二维\n",
    "two_dim = np.array(\n",
    "    [np.arange(1, 5),\n",
    "    np.arange(6, 10)]\n",
    ")\n",
    "print(two_dim)\n",
    "print(type(two_dim))\n",
    "print(two_dim.dtype)\n",
    "print(two_dim.shape)"
   ]
  },
  {
   "cell_type": "code",
   "execution_count": 25,
   "metadata": {},
   "outputs": [
    {
     "name": "stdout",
     "output_type": "stream",
     "text": [
      "[[[  1.   2.   3.   4.]\n",
      "  [  5.   6.   7.   8.]\n",
      "  [  9.  10.  11.  12.]]\n",
      "\n",
      " [[ 13.  14.  15.  16.]\n",
      "  [ 17.  18.  19.  20.]\n",
      "  [ 21.  22.  23.  24.]]]\n",
      "<class 'numpy.ndarray'>\n",
      "float64\n",
      "(2, 3, 4)\n"
     ]
    }
   ],
   "source": [
    "# 三维\n",
    "# three_dim = np.array([\n",
    "#     [\n",
    "#         np.arange(1, 5),\n",
    "#         np.arange(6, 10),\n",
    "#         np.arange(11, 15)\n",
    "#     ],\n",
    "#     [\n",
    "#         np.arange(16, 20),\n",
    "#         np.arange(21, 25),\n",
    "#         np.arange(26, 30)\n",
    "#     ]\n",
    "# ])\n",
    "\n",
    "# three_dim = np.arange(1,25, dtype=float).reshape(2, 3, 4)\n",
    "\n",
    "three_dim = np.arange(1,25).reshape(2, 3, 4).astype(float)\n",
    "print(three_dim)\n",
    "print(type(three_dim))\n",
    "print(three_dim.dtype)\n",
    "print(three_dim.shape)"
   ]
  },
  {
   "cell_type": "markdown",
   "metadata": {},
   "source": [
    "### 2.2.2 下标访问\n",
    "\n",
    "- dim[x, y, z, ...]"
   ]
  },
  {
   "cell_type": "code",
   "execution_count": 29,
   "metadata": {},
   "outputs": [
    {
     "name": "stdout",
     "output_type": "stream",
     "text": [
      " 1.0  2.0  3.0  4.0 \n",
      " 5.0  6.0  7.0  8.0 \n",
      " 9.0 10.0 11.0 12.0 \n",
      "\n",
      "13.0 14.0 15.0 16.0 \n",
      "17.0 18.0 19.0 20.0 \n",
      "21.0 22.0 23.0 24.0 \n",
      "\n"
     ]
    }
   ],
   "source": [
    "# 读取多维数组\n",
    "\n",
    "three_dim = np.arange(1,25).reshape(2, 3, 4).astype(float)\n",
    "sh = three_dim.shape\n",
    "for i in range(sh[0]):\n",
    "    for j in range(sh[1]):\n",
    "        for k in range(sh[2]):\n",
    "            print('{:4}'.format(three_dim[i, j, k]), end=' ')\n",
    "        print()\n",
    "    print()"
   ]
  },
  {
   "cell_type": "markdown",
   "metadata": {},
   "source": [
    "### 2.2.3 数据类型\n",
    "\n",
    "1. python内置类型\n",
    "2. numpy内置类型\n",
    "    - `bool_`\n",
    "    - `int8/int16/int32/int64      **eg: int16:[-32768, 32768]**`\n",
    "    - `uint8/uint16/uint32/uint64  **eg:  uint16:[0, 65535]**`\n",
    "    - `float16/float32/float64`\n",
    "    - `complex64/complex128`\n",
    "    - `str_`\n",
    "3. 自定义类型（numpy.dtype）\n",
    "    - `t = numpy.dtype(T)`\n",
    "        - **T**:\n",
    "            1. python或numpy的内置类型\n",
    "                - `t = numpy.dtype(int)` **or** `t = numpy.dtype(numpy.int32)`\n",
    "            2. 类型字符串\n",
    "                - `t = numpy.dtype('int')` **or** `t = numpy.dtype('int32')`\n",
    "            3. 类型字符编码（dtype.str）\n",
    "                - `t = numpy.dtype('>(2,3)4i4')`\n",
    "                    - `>     : 大端字节序`\n",
    "                    - `(2, 3): 维度`\n",
    "                    - `4     : 分量数`\n",
    "                    - `i     : 分量类型`\n",
    "                    - `4     : 分量字节数`\n",
    "            4. (变长类型, 长度)\n",
    "                - `t = numpy.dtype((numpy.str_, 14))`\n",
    "            5. (定长类型, 维度)\n",
    "                - `t = numpy.dtype((int, 5))`\n",
    "                - `t = numpy.dtype((int, 3), 2)`\n",
    "            6. 逗号分隔的多个类型字符串\n",
    "                - `t = numpy.dtype('U14', i4)`\n",
    "            7. [(名称，类型，维度),(),...]\n",
    "                - `t = numpy.dtype([('name'), ()])`\n",
    "    - byteorder\n",
    "        - `=` : native\n",
    "        - `<` : little-endin\n",
    "        - `>` : big-endin\n",
    "        - `|` : not applicable\n",
    "    - kind\n",
    "        - b : boolean\n",
    "        - i : signed integer\n",
    "        - u : unsigned integer\n",
    "        - f : floating-point\n",
    "        - c : complex floating-point\n",
    "        - m : timedelta\n",
    "        - M : datetime\n",
    "        - O : object\n",
    "        - S : (byte-)string\n",
    "        - U : Unicode\n",
    "        - V : void\n",
    "4. 切片\n",
    "5. 改变维度（元数据，描述性数据）\n",
    "    - 视图变维\n",
    "        - `reshape()`, `ravel()`\n",
    "    - 复制变维\n",
    "        - `flatten() # 会复制数据`\n",
    "    - 就地变维\n",
    "        - `a.shape = (x, x) # 直接对属性赋值`\n",
    "        - `a.resize((x, y))`\n",
    "    - 视图转置\n",
    "        - `a.transpose()`\n",
    "6. 组合\n",
    "    - 垂直组合\n",
    "        - `v = numpy.vstack((a, b))`\n",
    "    - 水平组合\n",
    "        - `v = numpy.hstack((a, b))`\n",
    "        - `v = numpy.dstack((a, b)) # `\n",
    "    - 行组合(对于一维操作)\n",
    "        - `r = numpy.row_stack((a, b))`\n",
    "    - 列组合(一维)\n",
    "        - `r = numpy.column_stack(a, b)`\n",
    "7. 分割\n",
    "    - 垂直分割\n",
    "        - `a, b = numpy.vsplit(v, 2)`\n",
    "    - 水平分割\n",
    "        - `a, b, c = numpy.hsplit(v, 3)`\n",
    "    - 深度分割\n",
    "        - `a, b = numpy.dsplit(v, 2)`\n",
    "8. ndarray\n",
    "    - dtype : 元素类型\n",
    "    - shape : 维度\n",
    "    - ndim  : 维数\n",
    "    - size  : 元素数\n",
    "    - itemsize : 每个元素的字节数\n",
    "    - nbytes : 数组的总字节数\n",
    "    - T : 转置视图\n",
    "    - real : 复数数组的实部视图\n",
    "    - imag : 复数数组的虚部视图\n",
    "    - flat : 扁平迭代器\n",
    "    - tolist : 转成python列表"
   ]
  },
  {
   "cell_type": "code",
   "execution_count": 46,
   "metadata": {
    "scrolled": false
   },
   "outputs": [
    {
     "name": "stdout",
     "output_type": "stream",
     "text": [
      "[('abc', 123) ('def', 456)]\n",
      "(2,)\n",
      "[('f0', '<U14'), ('f1', '<i4')]\n"
     ]
    },
    {
     "data": {
      "text/plain": [
       "array([1, 2, 3, 4, 5, 6])"
      ]
     },
     "execution_count": 46,
     "metadata": {},
     "output_type": "execute_result"
    }
   ],
   "source": [
    "six = np.array([('abc', 123),('def', 456)], dtype='U14, i4')\n",
    "print(six)\n",
    "print(six.shape)\n",
    "print(six.dtype)\n",
    "ss = np.array([[1,2,3],[4,5,6]])\n",
    "ss.shape\n",
    "s1 = ss.reshape(6)\n",
    "s1"
   ]
  },
  {
   "cell_type": "markdown",
   "metadata": {},
   "source": [
    "# 3 numpy的通用函数"
   ]
  },
  {
   "cell_type": "markdown",
   "metadata": {},
   "source": [
    "## 3.1 读取csv"
   ]
  },
  {
   "cell_type": "markdown",
   "metadata": {},
   "source": [
    "    numpy.loadtxt(fname, dtype=<class 'float'>, comments='#',\n",
    "                  delimiter=None, converters=None, skiprows=0,\n",
    "                  usecols=None, unpack=False, ndim=0)\n",
    "- fname : file, str, or pathlib.path,\n",
    "- dtype : data-type of the resulting array;the number of columns used must match the number of fields in the data-type.\n",
    "- comments : str or sequence, optional. used to indicate the start of a comment.\n",
    "- delimiter : str, optional. the string used to separate values, by default, this is any whitespace.\n",
    "- converters : dict, option. a dictionary mapping column number to a function that will convert that column to a float. eg, converters{index, str2num}\n",
    "- skiprows : int, optional. skip the first 'skiprows' lines; default 0;\n",
    "- usecols : int or sequence, optional. which columns to read, with 0 being the first.\n",
    "- unpack : bool, optional. if true ,the return array is trancposed, we can use `x, y, z = loadtxt(...)`.\n",
    "- ndmin : int, optional. the returned array will have at least 'ndmin' dimensions.\n",
    "------------\n",
    "**returns**\n",
    "- out : ndarray"
   ]
  },
  {
   "cell_type": "markdown",
   "metadata": {},
   "source": [
    "## 3.2 算数平均值"
   ]
  },
  {
   "cell_type": "markdown",
   "metadata": {},
   "source": [
    "    np.mean(a, axis=None, dtype=None, out=None, keepdims=<class 'numpy._globals._NoValue'> )"
   ]
  },
  {
   "cell_type": "markdown",
   "metadata": {},
   "source": [
    "## 3.3 加权平均值"
   ]
  },
  {
   "cell_type": "markdown",
   "metadata": {},
   "source": [
    "    average(a, axis=None, weights=None, returned=False) "
   ]
  },
  {
   "cell_type": "markdown",
   "metadata": {},
   "source": [
    "## 3.4最大值，最小值"
   ]
  },
  {
   "cell_type": "markdown",
   "metadata": {},
   "source": [
    "    numpy.max(arr1)\n",
    "    numpy.min(arr1)\n",
    "    numpy.maximum(arr1, arr2,...) # 对比多个数组的对应元素\n",
    "    numpy.minimum(arr1, arr2,...)"
   ]
  },
  {
   "cell_type": "markdown",
   "metadata": {},
   "source": [
    "## 3.5 中位数"
   ]
  },
  {
   "cell_type": "markdown",
   "metadata": {},
   "source": [
    "    median(a)\n",
    "$$\\frac{a[(size - 1)//2] + a[size//2]}{2}$$\n",
    "    "
   ]
  },
  {
   "cell_type": "markdown",
   "metadata": {},
   "source": [
    "## 3.6 统计指标"
   ]
  },
  {
   "cell_type": "markdown",
   "metadata": {},
   "source": [
    "1. 样本　$$s = [s_1, s_2,\\ldots, s_n]$$\n",
    "2. 均值　$$m = \\frac{(s_1 + s_2 + \\ldots + s_n)}{n}$$\n",
    "1. 离差　$$d = [d_1, d_2,\\ldots, d_n], d_i = s_i - m$$\n",
    "4. 离差方: $$q = [q_1, q_2,\\ldots, q_n], q_i = d_i^2$$\n",
    "5. (总体)方差: $$p = \\frac{q_1 + q_2 + \\ldots + q_n}{n}$$\n",
    "6. (总体)标准差: $$std = \\sqrt{p}$$\n",
    "5. 样本方差: $$p = \\frac{q_1 + q_2 + \\ldots + q_n}{n-1}$$\n",
    "6. 样本标准差: $$std = \\sqrt{p}$$\n",
    "-------------\n",
    "    1. numpy.var(a) # 总体方差\n",
    "    2. numpy.std(a) # 总体标准差\n",
    "    3. numpy.diff(a) # a相邻元素差值　"
   ]
  },
  {
   "cell_type": "markdown",
   "metadata": {},
   "source": [
    "## 3.7 移动平均值和数组卷积"
   ]
  },
  {
   "cell_type": "markdown",
   "metadata": {},
   "source": [
    "    convolve(a, v, mode='full')\n",
    "        Returns the discrete , linear convolution of two one-dimensional sequences.\n",
    "        parameters\n",
    "        ----\n",
    "        mode : {'full', 'valid', 'same'}, optional\n",
    "        \n",
    "        note:\n",
    "        ----\n",
    "        权重值从后往前取"
   ]
  },
  {
   "cell_type": "code",
   "execution_count": null,
   "metadata": {
    "collapsed": true
   },
   "outputs": [],
   "source": []
  },
  {
   "cell_type": "markdown",
   "metadata": {},
   "source": [
    "## 3.8 平均真实波幅（ATR）"
   ]
  },
  {
   "cell_type": "markdown",
   "metadata": {},
   "source": [
    "取最近N(20)个交易日的最高价，最低价和前日收盘价\n"
   ]
  },
  {
   "cell_type": "markdown",
   "metadata": {},
   "source": [
    "## 3.9 布林带\n",
    "\n",
    "    布林带分为上中下三个轨道，\n",
    "    中轨： 移动平均线\n",
    "    上轨： 中轨+ 标准差 * 2\n",
    "    下轨： 中轨 - 标准差 * 2"
   ]
  },
  {
   "cell_type": "markdown",
   "metadata": {},
   "source": [
    "## 3.10 线性模型\n",
    "1. 线性预测．`numpy.linalg,lstsq(a, b)`\n",
    "2. 趋势线　day04/trendline.py"
   ]
  },
  {
   "cell_type": "markdown",
   "metadata": {},
   "source": [
    "## 3.11 ndarray对象的方法"
   ]
  },
  {
   "cell_type": "markdown",
   "metadata": {},
   "source": [
    "> ## numpy.clip(a, a_min, a_max, out)\n",
    "    return an array whose values are limited to [min, max]\n",
    "    one of min or max must be given\n",
    "    return ndarry"
   ]
  },
  {
   "cell_type": "markdown",
   "metadata": {},
   "source": [
    "> ## numpy.compress(condition, a, axis=None, out=None)\n",
    "    return selected slices of an array along given axis.\n"
   ]
  },
  {
   "cell_type": "code",
   "execution_count": 10,
   "metadata": {},
   "outputs": [
    {
     "data": {
      "text/plain": [
       "array([  1,   4,  20, 120])"
      ]
     },
     "execution_count": 10,
     "metadata": {},
     "output_type": "execute_result"
    }
   ],
   "source": [
    "np.cumprod([[1, 4],[5, 6]])"
   ]
  },
  {
   "cell_type": "markdown",
   "metadata": {},
   "source": [
    "> ## numpy.prod(a, axis=None, dtyoe=None, out=None, keepdims=<...>)\n",
    "    return the product of array elements over a given axis.\n",
    "    eg:\n",
    "        np.prod([[1,4],[5,6]]) ---> 1 * 4 * 5 * 6\n",
    "> ## numpy.cumprod(a, axis=None, dtype=None, out=None)\n",
    "    return the cumulative product of elements along a given axis\n",
    "    return ndarray.\n",
    "    eg:\n",
    "        np.cumprod([[1, 4],[5, 6]])  --> [1, 4, 20, 120]"
   ]
  },
  {
   "cell_type": "markdown",
   "metadata": {},
   "source": [
    "# 4 numpy的便捷函数"
   ]
  },
  {
   "cell_type": "markdown",
   "metadata": {},
   "source": [
    "## 4.1 相关性\n",
    "> 协方差\n",
    "\n",
    "数组a,b\n",
    "$$a = (a_1, a_2,\\ldots,a_n)$$\n",
    "$$b = (b_1, b_2,\\ldots,b_n)$$\n",
    "\n",
    "平均值ave\n",
    "$$ave(a) = \\frac{a_1 + a_2 + \\ldots + a_n}{n}$$\n",
    "$$ave(b) = \\frac{b_1 + b_2 + \\ldots + b_n}{n}$$\n",
    "\n",
    "离差dev\n",
    "$$dev(a) = a - \\bar a$$\n",
    "$$dev(b) = b - \\bar b$$\n",
    "\n",
    "方差var\n",
    "$$var(a) = ave(dev(a) * dev(a)) = \\frac{(a_1 - \\bar a)^2 + \\ldots + (a_n - \\bar a)^2}{n}$$\n",
    "$$var(b) = ave(dev(b) * dev(b)) = \\frac{(b_1 - \\bar b)^2 + \\ldots + (b_n - \\bar b)^2}{n}$$\n",
    "\n",
    "标准差std\n",
    "$$std(a) = \\sqrt{var(a)}$$\n",
    "$$std(b) = \\sqrt{var(b)}$$\n",
    "\n",
    "协方差cov\n",
    "$$cov(a, b) = ave(dev(a) * dev(b)) = \\frac{(a_1 - \\bar a)(b_1 - \\bar b) + \\ldots + (a_n - \\bar a)(b_n - \\bar b)}{n}$$\n",
    "\n",
    "协方差矩阵\n",
    "$$\\left[ \\begin{array}{cccc}\n",
    "\\frac{cov(a, a)}{std(a)std(a)}&\\frac{cov(a, b)}{std(a)std(b)}\\\\\n",
    "\\frac{cov(b, a)}{std(b)std(a)}&\\frac{cov(b, b)}{std(b)std(a)}\n",
    "\\end{array}\\right]$$\n",
    "\n",
    "    主对角线为１，辅对角线为相关系数\n",
    "\n",
    "协方差相关系数　\n",
    "$$coco(a, b) = \\frac{cov(a, b)}{std(a)std(b)}$$\n",
    "$$coco(a, b) = \\frac{(a_1 - \\bar a)(b_1 - \\bar b) + \\ldots + (a_n - \\bar a)(b_n - \\bar b)}{\\sqrt{(a_1 - \\bar a)^2 + \\ldots + (a_n - \\bar a)^2}\\sqrt{(b_1 - \\bar b)^2 + \\ldots + (b_n - \\bar b)^2}}$$\n",
    "\n"
   ]
  },
  {
   "cell_type": "markdown",
   "metadata": {},
   "source": [
    "> ## numpy.cov(a, b) \n",
    "    Estimate a covariance matrix, given data and weights.\n",
    "    协方差矩阵的分子部分．\n",
    "    采用的样本方差．\n",
    "\n",
    "> ## numpy.corrcoef(a, b)\n",
    "    return the correlation coefficien matrix of the variables.（协方差矩阵）\n",
    "    \n",
    "> corr.py"
   ]
  },
  {
   "cell_type": "markdown",
   "metadata": {},
   "source": [
    "## 4.2 多项式拟合\n",
    "    任何可微的函数都可以用一个n次多项式来拟合，而比Ｎ次幂更高介的部分作为无穷小量而被忽略不计．\n",
    "    numpy.poly()\n",
    "    "
   ]
  },
  {
   "cell_type": "markdown",
   "metadata": {},
   "source": [
    "## 4.３ 符号数组\n",
    "    numpy.sign()返回参数数组中的每个元素的符号，分别用+1,0,-1表示．\n",
    "    "
   ]
  },
  {
   "cell_type": "markdown",
   "metadata": {},
   "source": [
    "## 4.4 矢量化\n",
    "    numpy.vectorize()函数可以将一个针对单个数值的处理函数变成针对数组的处理函数．　\n",
    "    eg:\n",
    "        vfunc = np.vectorize(myfunc)\n",
    "        vfunc([1, 2, 3, 4], 2)\n",
    "        array([3, 4, 1, 2])\n",
    " 　 "
   ]
  },
  {
   "cell_type": "markdown",
   "metadata": {},
   "source": [
    "# 4.5 数据平滑\n",
    "---\n",
    "## 4.5.1 numpy.hanning()\n",
    "---"
   ]
  },
  {
   "cell_type": "markdown",
   "metadata": {},
   "source": [
    "# 5 矩阵和通用函数\n",
    "---\n"
   ]
  },
  {
   "cell_type": "markdown",
   "metadata": {},
   "source": [
    "    np.matrix()\n",
    "    np.mat()\n",
    "    np.bmat()\n",
    "    np.add.\n",
    "    "
   ]
  },
  {
   "cell_type": "code",
   "execution_count": 16,
   "metadata": {
    "scrolled": true
   },
   "outputs": [
    {
     "name": "stdout",
     "output_type": "stream",
     "text": [
      "Help on class vectorize in module numpy.lib.function_base:\n",
      "\n",
      "class vectorize(builtins.object)\n",
      " |  vectorize(pyfunc, otypes=None, doc=None, excluded=None, cache=False,\n",
      " |            signature=None)\n",
      " |  \n",
      " |  Generalized function class.\n",
      " |  \n",
      " |  Define a vectorized function which takes a nested sequence of objects or\n",
      " |  numpy arrays as inputs and returns an single or tuple of numpy array as\n",
      " |  output. The vectorized function evaluates `pyfunc` over successive tuples\n",
      " |  of the input arrays like the python map function, except it uses the\n",
      " |  broadcasting rules of numpy.\n",
      " |  \n",
      " |  The data type of the output of `vectorized` is determined by calling\n",
      " |  the function with the first element of the input.  This can be avoided\n",
      " |  by specifying the `otypes` argument.\n",
      " |  \n",
      " |  Parameters\n",
      " |  ----------\n",
      " |  pyfunc : callable\n",
      " |      A python function or method.\n",
      " |  otypes : str or list of dtypes, optional\n",
      " |      The output data type. It must be specified as either a string of\n",
      " |      typecode characters or a list of data type specifiers. There should\n",
      " |      be one data type specifier for each output.\n",
      " |  doc : str, optional\n",
      " |      The docstring for the function. If `None`, the docstring will be the\n",
      " |      ``pyfunc.__doc__``.\n",
      " |  excluded : set, optional\n",
      " |      Set of strings or integers representing the positional or keyword\n",
      " |      arguments for which the function will not be vectorized.  These will be\n",
      " |      passed directly to `pyfunc` unmodified.\n",
      " |  \n",
      " |      .. versionadded:: 1.7.0\n",
      " |  \n",
      " |  cache : bool, optional\n",
      " |     If `True`, then cache the first function call that determines the number\n",
      " |     of outputs if `otypes` is not provided.\n",
      " |  \n",
      " |      .. versionadded:: 1.7.0\n",
      " |  \n",
      " |  signature : string, optional\n",
      " |      Generalized universal function signature, e.g., ``(m,n),(n)->(m)`` for\n",
      " |      vectorized matrix-vector multiplication. If provided, ``pyfunc`` will\n",
      " |      be called with (and expected to return) arrays with shapes given by the\n",
      " |      size of corresponding core dimensions. By default, ``pyfunc`` is\n",
      " |      assumed to take scalars as input and output.\n",
      " |  \n",
      " |      .. versionadded:: 1.12.0\n",
      " |  \n",
      " |  Returns\n",
      " |  -------\n",
      " |  vectorized : callable\n",
      " |      Vectorized function.\n",
      " |  \n",
      " |  Examples\n",
      " |  --------\n",
      " |  >>> def myfunc(a, b):\n",
      " |  ...     \"Return a-b if a>b, otherwise return a+b\"\n",
      " |  ...     if a > b:\n",
      " |  ...         return a - b\n",
      " |  ...     else:\n",
      " |  ...         return a + b\n",
      " |  \n",
      " |  >>> vfunc = np.vectorize(myfunc)\n",
      " |  >>> vfunc([1, 2, 3, 4], 2)\n",
      " |  array([3, 4, 1, 2])\n",
      " |  \n",
      " |  The docstring is taken from the input function to `vectorize` unless it\n",
      " |  is specified:\n",
      " |  \n",
      " |  >>> vfunc.__doc__\n",
      " |  'Return a-b if a>b, otherwise return a+b'\n",
      " |  >>> vfunc = np.vectorize(myfunc, doc='Vectorized `myfunc`')\n",
      " |  >>> vfunc.__doc__\n",
      " |  'Vectorized `myfunc`'\n",
      " |  \n",
      " |  The output type is determined by evaluating the first element of the input,\n",
      " |  unless it is specified:\n",
      " |  \n",
      " |  >>> out = vfunc([1, 2, 3, 4], 2)\n",
      " |  >>> type(out[0])\n",
      " |  <type 'numpy.int32'>\n",
      " |  >>> vfunc = np.vectorize(myfunc, otypes=[np.float])\n",
      " |  >>> out = vfunc([1, 2, 3, 4], 2)\n",
      " |  >>> type(out[0])\n",
      " |  <type 'numpy.float64'>\n",
      " |  \n",
      " |  The `excluded` argument can be used to prevent vectorizing over certain\n",
      " |  arguments.  This can be useful for array-like arguments of a fixed length\n",
      " |  such as the coefficients for a polynomial as in `polyval`:\n",
      " |  \n",
      " |  >>> def mypolyval(p, x):\n",
      " |  ...     _p = list(p)\n",
      " |  ...     res = _p.pop(0)\n",
      " |  ...     while _p:\n",
      " |  ...         res = res*x + _p.pop(0)\n",
      " |  ...     return res\n",
      " |  >>> vpolyval = np.vectorize(mypolyval, excluded=['p'])\n",
      " |  >>> vpolyval(p=[1, 2, 3], x=[0, 1])\n",
      " |  array([3, 6])\n",
      " |  \n",
      " |  Positional arguments may also be excluded by specifying their position:\n",
      " |  \n",
      " |  >>> vpolyval.excluded.add(0)\n",
      " |  >>> vpolyval([1, 2, 3], x=[0, 1])\n",
      " |  array([3, 6])\n",
      " |  \n",
      " |  The `signature` argument allows for vectorizing functions that act on\n",
      " |  non-scalar arrays of fixed length. For example, you can use it for a\n",
      " |  vectorized calculation of Pearson correlation coefficient and its p-value:\n",
      " |  \n",
      " |  >>> import scipy.stats\n",
      " |  >>> pearsonr = np.vectorize(scipy.stats.pearsonr,\n",
      " |  ...                         signature='(n),(n)->(),()')\n",
      " |  >>> pearsonr([[0, 1, 2, 3]], [[1, 2, 3, 4], [4, 3, 2, 1]])\n",
      " |  (array([ 1., -1.]), array([ 0.,  0.]))\n",
      " |  \n",
      " |  Or for a vectorized convolution:\n",
      " |  \n",
      " |  >>> convolve = np.vectorize(np.convolve, signature='(n),(m)->(k)')\n",
      " |  >>> convolve(np.eye(4), [1, 2, 1])\n",
      " |  array([[ 1.,  2.,  1.,  0.,  0.,  0.],\n",
      " |         [ 0.,  1.,  2.,  1.,  0.,  0.],\n",
      " |         [ 0.,  0.,  1.,  2.,  1.,  0.],\n",
      " |         [ 0.,  0.,  0.,  1.,  2.,  1.]])\n",
      " |  \n",
      " |  See Also\n",
      " |  --------\n",
      " |  frompyfunc : Takes an arbitrary Python function and returns a ufunc\n",
      " |  \n",
      " |  Notes\n",
      " |  -----\n",
      " |  The `vectorize` function is provided primarily for convenience, not for\n",
      " |  performance. The implementation is essentially a for loop.\n",
      " |  \n",
      " |  If `otypes` is not specified, then a call to the function with the\n",
      " |  first argument will be used to determine the number of outputs.  The\n",
      " |  results of this call will be cached if `cache` is `True` to prevent\n",
      " |  calling the function twice.  However, to implement the cache, the\n",
      " |  original function must be wrapped which will slow down subsequent\n",
      " |  calls, so only do this if your function is expensive.\n",
      " |  \n",
      " |  The new keyword argument interface and `excluded` argument support\n",
      " |  further degrades performance.\n",
      " |  \n",
      " |  References\n",
      " |  ----------\n",
      " |  .. [1] NumPy Reference, section `Generalized Universal Function API\n",
      " |         <http://docs.scipy.org/doc/numpy/reference/c-api.generalized-ufuncs.html>`_.\n",
      " |  \n",
      " |  Methods defined here:\n",
      " |  \n",
      " |  __call__(self, *args, **kwargs)\n",
      " |      Return arrays with the results of `pyfunc` broadcast (vectorized) over\n",
      " |      `args` and `kwargs` not in `excluded`.\n",
      " |  \n",
      " |  __init__(self, pyfunc, otypes=None, doc=None, excluded=None, cache=False, signature=None)\n",
      " |      Initialize self.  See help(type(self)) for accurate signature.\n",
      " |  \n",
      " |  ----------------------------------------------------------------------\n",
      " |  Data descriptors defined here:\n",
      " |  \n",
      " |  __dict__\n",
      " |      dictionary for instance variables (if defined)\n",
      " |  \n",
      " |  __weakref__\n",
      " |      list of weak references to the object (if defined)\n",
      "\n"
     ]
    }
   ],
   "source": [
    "import numpy as np\n",
    "a = np.array([1,4,3,2])\n",
    "help(np.vectorize)"
   ]
  },
  {
   "cell_type": "markdown",
   "metadata": {
    "collapsed": true
   },
   "source": [
    "# 整理箱"
   ]
  },
  {
   "cell_type": "markdown",
   "metadata": {},
   "source": [
    "    np.take()\n",
    "    np.where()\n",
    "    np.argmax()\n",
    "    np.argmin()\n",
    "    np.apply_along_axis()"
   ]
  },
  {
   "cell_type": "code",
   "execution_count": null,
   "metadata": {
    "collapsed": true
   },
   "outputs": [],
   "source": []
  }
 ],
 "metadata": {
  "kernelspec": {
   "display_name": "Python 3",
   "language": "python",
   "name": "python3"
  },
  "language_info": {
   "codemirror_mode": {
    "name": "ipython",
    "version": 3
   },
   "file_extension": ".py",
   "mimetype": "text/x-python",
   "name": "python",
   "nbconvert_exporter": "python",
   "pygments_lexer": "ipython3",
   "version": "3.6.1"
  }
 },
 "nbformat": 4,
 "nbformat_minor": 2
}
