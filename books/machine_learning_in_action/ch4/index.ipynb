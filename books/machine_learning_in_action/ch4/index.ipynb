{
 "cells": [
  {
   "cell_type": "markdown",
   "metadata": {},
   "source": [
    "# 朴素贝叶斯"
   ]
  },
  {
   "cell_type": "markdown",
   "metadata": {},
   "source": [
    "## 使用朴素贝叶斯进行文档分类"
   ]
  },
  {
   "cell_type": "markdown",
   "metadata": {},
   "source": [
    "## 案例1 文本分类\n",
    "\n",
    "    以社区在线留言板为背景，实现判断言论是否含有侮辱性文字。\n"
   ]
  },
  {
   "cell_type": "markdown",
   "metadata": {},
   "source": [
    "> 1 从文中构建词向量"
   ]
  },
  {
   "cell_type": "code",
   "execution_count": 31,
   "metadata": {},
   "outputs": [],
   "source": [
    "def loadDataSet():\n",
    "    \"\"\"\n",
    "    postingList:实验样本\n",
    "    classVec:\n",
    "        label=1 有侮辱性文字\n",
    "        label=0 正常言论\n",
    "    \"\"\"\n",
    "    postingList = [\n",
    "        ['这', '个','菜', '好', '吃'],\n",
    "        ['你', '他', '妈', '的', '有', '病', '吧'],\n",
    "        ['真', '的', '好', '吃', '再', '来', ],\n",
    "        ['最', '难', '吃', '的', '饭', '了', ],\n",
    "        \n",
    "#         ['my', 'dog', 'has', 'flea', 'problems', 'help', 'please'],\n",
    "#         ['maybe', 'not', 'take', 'him', 'to', 'dog', 'park', 'stupid'],\n",
    "#         ['my', 'dalmation', 'is', 'so', 'cute', 'I', 'love', 'him'],\n",
    "#         ['stop', 'posting', 'stupid', 'worthless', 'garbage'],\n",
    "#         ['mr', 'licks', 'ate', 'my', 'steak', 'how', 'to', 'stop', 'him'],\n",
    "#         ['quit', 'buying', 'worthless', 'dog', 'food', 'stupid']\n",
    "    ]\n",
    "    # 'my dog has flea problems help please'.split()\n",
    "    # 'maybe not take him to dog park stupid'.split()\n",
    "    # 'my dalmation is so cute I love him'.split()\n",
    "    # 'stop posting stupid worthless garbage'.split()\n",
    "    # 'mr licks ate my steak how to stop him'.split()\n",
    "    # 'quit buying worthless dog food stupid'.split()\n",
    "    classVec = [0, 1, 0, 1]\n",
    "    return postingList, classVec\n",
    "    \n",
    "    \n",
    "def createVocabList(dataSet):\n",
    "    \"\"\"\n",
    "    获取dataSet中的所有单词集合\n",
    "    \"\"\"\n",
    "    vocabSet = set([])\n",
    "    for document in dataSet:\n",
    "        vocabSet = vocabSet | set(document)\n",
    "    return list(vocabSet)\n",
    "\n",
    "\n",
    "def setOfWords2Vec(vocabList, inputSet):\n",
    "    \"\"\"\n",
    "    将文档转成文档向量\n",
    "    \"\"\"\n",
    "    returnVec = [0] * len(vocabList)\n",
    "    for word in inputSet:\n",
    "        if word in vocabList:\n",
    "            returnVec[vocabList.index(word)] = 1\n",
    "        else:\n",
    "            print('the word: {} is not in my Vocabulary!'.format(word))\n",
    "    return returnVec\n",
    "\n",
    "\n",
    "def setOfWords2Vec(vocabList, inputSet):\n",
    "    \"\"\"\n",
    "    创建词袋模型\n",
    "    \"\"\"\n",
    "    returnVec = [0] * len(vocabList)\n",
    "    for word in inputSet:\n",
    "        if word in vocabList:\n",
    "            returnVec[vocabList.index(word)] += 1\n",
    "        else:\n",
    "            print('the word: {} is not in my Vocabulary!'.format(word))\n",
    "    return returnVec"
   ]
  },
  {
   "cell_type": "markdown",
   "metadata": {},
   "source": [
    "> 从词向量计算概率"
   ]
  },
  {
   "cell_type": "code",
   "execution_count": 32,
   "metadata": {},
   "outputs": [],
   "source": [
    "import numpy as np\n",
    "\n",
    "def trainNB0(trainMatrix, trainCategory):\n",
    "    numTrainDocs = len(trainMatrix)\n",
    "    numWords = len(trainMatrix[0])\n",
    "    pAbusive = sum(trainCategory) / float(numTrainDocs)\n",
    "    p0Num, p1Num = np.ones(numWords), np.ones(numWords)\n",
    "    p0Denom, p1Denom = 2.0, 2.0\n",
    "    for i in range(numTrainDocs):\n",
    "        if trainCategory[i] == 1:\n",
    "            p1Num += trainMatrix[i]\n",
    "            p1Denom += sum(trainMatrix[i])\n",
    "        else:\n",
    "            p0Num += trainMatrix[i]\n",
    "            p0Denom += sum(trainMatrix[i])\n",
    "    p1Vect = np.log(p1Num / p1Denom)\n",
    "    p0Vect = np.log(p0Num / p0Denom)\n",
    "    return p0Vect, p1Vect, pAbusive\n"
   ]
  },
  {
   "cell_type": "markdown",
   "metadata": {},
   "source": [
    "> 朴素贝叶斯分类函数"
   ]
  },
  {
   "cell_type": "code",
   "execution_count": 33,
   "metadata": {},
   "outputs": [],
   "source": [
    "def classifyNB(vec2Classify, p0Vec, p1Vec, pClass1):\n",
    "    p1 = sum(vec2Classify * p1Vec) + np.log(pClass1)\n",
    "    p0 = sum(vec2Classify * p0Vec) + np.log(1.0 - pClass1)\n",
    "    \n",
    "    if p1 > p0:\n",
    "        return 1\n",
    "    else:\n",
    "        return 0"
   ]
  },
  {
   "cell_type": "markdown",
   "metadata": {},
   "source": [
    "> main"
   ]
  },
  {
   "cell_type": "code",
   "execution_count": 36,
   "metadata": {},
   "outputs": [],
   "source": [
    "def testingNB():\n",
    "    # get train data\n",
    "    listOPosts, listClasses = loadDataSet()\n",
    "    # get word vector\n",
    "    myVocabList = createVocabList(listOPosts)\n",
    "    # word to vector\n",
    "    trainMat = []\n",
    "    for postinDoc in listOPosts:\n",
    "        trainMat.append(setOfWords2Vec(myVocabList, postinDoc))\n",
    "    \n",
    "    # \n",
    "    p0V, p1V, pAb = trainNB0(np.array(trainMat), np.array(listClasses))\n",
    "    \n",
    "#     testEntry = 'love my dalmation'.split()\n",
    "    testEntry = ['有', '病', '吧']\n",
    "    thisDoc = np.array(setOfWords2Vec(myVocabList, testEntry))\n",
    "    print('classified as:', classifyNB(thisDoc, p0V, p1V, pAb))\n",
    "    \n",
    "#     testEntry = 'stupid garbage'.split()\n",
    "    testEntry = ['好', '吃', '的']\n",
    "    thisDoc = np.array(setOfWords2Vec(myVocabList, testEntry))\n",
    "    print('classified as:', classifyNB(thisDoc, p0V, p1V, pAb))"
   ]
  },
  {
   "cell_type": "code",
   "execution_count": 37,
   "metadata": {},
   "outputs": [
    {
     "name": "stdout",
     "output_type": "stream",
     "text": [
      "classified as: 0\n",
      "classified as: 1\n"
     ]
    }
   ],
   "source": [
    "testingNB()"
   ]
  },
  {
   "cell_type": "markdown",
   "metadata": {},
   "source": [
    "## 案例2 使用NB过滤垃圾邮件\n",
    "\n",
    "1. 加载25个正常邮件和垃圾邮件\n",
    "2. 将每个邮件转为词向量\n",
    "3. train"
   ]
  },
  {
   "cell_type": "code",
   "execution_count": 138,
   "metadata": {},
   "outputs": [],
   "source": [
    "import os\n",
    "import re\n",
    "\n",
    "from sklearn.model_selection import train_test_split\n",
    "\n",
    "root_path = r'data/email'\n",
    "\n",
    "def textParse(text):\n",
    "    \"\"\"\n",
    "    对邮件进行分割，保留长度大于2的单词。\n",
    "    \"\"\"\n",
    "    pattern = re.compile(r'\\W*')\n",
    "    return [doc.lower() for doc in pattern.split(text) if len(doc) > 2]\n",
    "\n",
    "\n",
    "def getWordVector(docList):\n",
    "    \"\"\"\n",
    "    get word vector\n",
    "    \"\"\"\n",
    "    word_vector = set()\n",
    "    for doc in docList:\n",
    "        word_vector = word_vector | set(doc)\n",
    "    return list(word_vector)\n",
    "\n",
    "\n",
    "def wordEncord(word_vector, docList):\n",
    "    \"\"\"\n",
    "    按照生成的词向量，对样本进行编码\n",
    "    \"\"\"\n",
    "    trainMat = np.zeros((len(docList), len(word_vector)))\n",
    "    for index, doc in enumerate(docList):\n",
    "        trainMat[index][[word_vector.index(i) for i in doc]] = 1\n",
    "    return trainMat\n",
    "\n",
    "\n",
    "def myNB(train_datas, labels):\n",
    "    \"\"\"\n",
    "    对各类别出现的单词进行求和，然后求出每个单词在该类别中的概率\n",
    "    \"\"\"\n",
    "    train_datas = np.asarray(train_datas)\n",
    "    # 初始化为1，而不是零是为了防止，在进行概率相乘时出现0值\n",
    "    vec0, vec1 = np.ones(len(train_datas[0])), np.ones(len(train_datas[0]))\n",
    "    sum0, sum1 = 2., 2.\n",
    "    for index, label in enumerate(labels):\n",
    "        if label == 0:\n",
    "            vec0 = vec0 + train_datas[index]\n",
    "            sum0 += sum(train_datas[index])\n",
    "        else:\n",
    "            vec1 = vec1 + train_datas[index]\n",
    "            sum1 += sum(train_datas[index])\n",
    "    c1 = sum(labels) * 1. / len(labels)\n",
    "    return np.log(vec0 / sum0), np.log(vec1 / sum1), c1\n",
    "\n",
    "\n",
    "def myClassifyNB(docVector, v0, v1, c1):\n",
    "    p1 = np.sum(np.array(docVector) * v1) + np.log(c1)\n",
    "    p0 = np.sum(np.array(docVector) * v0) + np.log(1 - c1)\n",
    "    print('p1:%.2f, \\tp0:%.2f' % (p1, p0))\n",
    "    if p1 > p0:\n",
    "        return 1\n",
    "    else:\n",
    "        return 0\n",
    "    \n",
    "    \n",
    "def spamTest():\n",
    "    docList = []\n",
    "    classList = []\n",
    "    for i in range(1, 26):\n",
    "        with open(os.path.join(root_path, 'spam/%d.txt' % i), encoding='ISO-8859-1') as f:\n",
    "            docList.append(textParse(f.read()))\n",
    "            classList.append(1)\n",
    "        with open(os.path.join(root_path, 'ham/%d.txt' % i), encoding='ISO-8859-1') as f:\n",
    "            docList.append(textParse(f.read()))\n",
    "            classList.append(0)\n",
    "            \n",
    "    word_vector = getWordVector(docList)\n",
    "    trainMat = wordEncord(word_vector, docList)\n",
    "    \n",
    "    # 对数据集进行划分\n",
    "    xtrian, xtest, ytrain, ytest = train_test_split(trainMat, classList, test_size=0.2, random_state=10)\n",
    "    \n",
    "    # 构建贝叶斯模型\n",
    "    v0, v1, c1 = myNB(xtrian, ytrain)\n",
    "    num_err = 0\n",
    "    for x, y in zip(xtest, ytest):\n",
    "        pred_y = myClassifyNB(x, v0, v1, c1)\n",
    "        if pred_y != y:\n",
    "            num_err += 1\n",
    "    print('accu:%.2f' % (1 - num_err / len(ytest)))"
   ]
  },
  {
   "cell_type": "code",
   "execution_count": 139,
   "metadata": {},
   "outputs": [
    {
     "name": "stdout",
     "output_type": "stream",
     "text": [
      "p1:-87.97, \tp0:-82.64\n",
      "p1:-136.12, \tp0:-130.36\n",
      "p1:-136.74, \tp0:-186.53\n",
      "p1:-214.10, \tp0:-260.91\n",
      "p1:-23.15, \tp0:-19.82\n",
      "p1:-174.84, \tp0:-227.01\n",
      "p1:-165.72, \tp0:-169.28\n",
      "p1:-136.74, \tp0:-186.53\n",
      "p1:-142.29, \tp0:-139.59\n",
      "p1:-121.04, \tp0:-148.25\n",
      "accu:0.90\n"
     ]
    },
    {
     "name": "stderr",
     "output_type": "stream",
     "text": [
      "D:\\softfiles\\programs\\anaconda3\\lib\\site-packages\\ipykernel\\__main__.py:13: FutureWarning: split() requires a non-empty pattern match.\n"
     ]
    }
   ],
   "source": [
    "spamTest()"
   ]
  },
  {
   "cell_type": "markdown",
   "metadata": {},
   "source": [
    "## 案例3 从个人广告中获取区域倾向"
   ]
  },
  {
   "cell_type": "code",
   "execution_count": 140,
   "metadata": {},
   "outputs": [],
   "source": [
    "import feedparser"
   ]
  },
  {
   "cell_type": "code",
   "execution_count": null,
   "metadata": {},
   "outputs": [],
   "source": []
  }
 ],
 "metadata": {
  "kernelspec": {
   "display_name": "Python [conda root]",
   "language": "python",
   "name": "conda-root-py"
  },
  "language_info": {
   "codemirror_mode": {
    "name": "ipython",
    "version": 3
   },
   "file_extension": ".py",
   "mimetype": "text/x-python",
   "name": "python",
   "nbconvert_exporter": "python",
   "pygments_lexer": "ipython3",
   "version": "3.6.1"
  }
 },
 "nbformat": 4,
 "nbformat_minor": 2
}
