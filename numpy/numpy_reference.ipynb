{
 "cells": [
  {
   "cell_type": "markdown",
   "metadata": {},
   "source": [
    "后续补充np.ma相关内容"
   ]
  },
  {
   "cell_type": "markdown",
   "metadata": {},
   "source": [
    "<center><h1>Numpy Reference</h1></center>"
   ]
  },
  {
   "cell_type": "markdown",
   "metadata": {},
   "source": [
    "# 1 Array object\n",
    "---\n",
    "## 1.1 The N-dimensional array(`ndarray`)\n",
    "---"
   ]
  },
  {
   "cell_type": "code",
   "execution_count": 4,
   "metadata": {},
   "outputs": [
    {
     "data": {
      "text/plain": [
       "array([[ 0,  1,  2,  3,  4,  5],\n",
       "       [ 6,  7,  8,  9, 10, 11],\n",
       "       [12, 13, 14, 15, 16, 17],\n",
       "       [18, 19, 20, 21, 22, 23]])"
      ]
     },
     "execution_count": 4,
     "metadata": {},
     "output_type": "execute_result"
    }
   ],
   "source": [
    "import numpy as np\n",
    "a = np.reshape(np.arange(24), (4,6))\n",
    "a"
   ]
  },
  {
   "cell_type": "markdown",
   "metadata": {},
   "source": [
    "### 1.1.1 Array attributes\n",
    "---\n",
    "\n",
    "> ### Memory layout\n",
    "\n",
    "---"
   ]
  },
  {
   "cell_type": "code",
   "execution_count": 14,
   "metadata": {},
   "outputs": [
    {
     "data": {
      "text/plain": [
       "False"
      ]
     },
     "execution_count": 14,
     "metadata": {},
     "output_type": "execute_result"
    }
   ],
   "source": [
    "a.flags   # information about the memory layout of the array.\n",
    "a.shape   # tuple of array dimensions.\n",
    "a.strides # tuple of bytes in each dimension when traversing an array.\n",
    "a.ndim    # number of array dimensions.\n",
    "a.data    # python buffer object pointing to the start of the array's data.\n",
    "a.size    # number of elements in the array.\n",
    "a.itemsize # length of one array element in bytes\n",
    "a.nbytes  # total bytes consumed by the elements of the array.\n",
    "a.base    # base object if memory is from some other object.\n",
    "a.base is None"
   ]
  },
  {
   "cell_type": "markdown",
   "metadata": {},
   "source": [
    "> ### Data type\n",
    "\n",
    "---"
   ]
  },
  {
   "cell_type": "markdown",
   "metadata": {},
   "source": [
    "> ### Other attributes\n",
    "\n",
    "---"
   ]
  },
  {
   "cell_type": "code",
   "execution_count": 20,
   "metadata": {},
   "outputs": [
    {
     "data": {
      "text/plain": [
       "<numpy.core._internal._ctypes at 0x7f493815cd30>"
      ]
     },
     "execution_count": 20,
     "metadata": {},
     "output_type": "execute_result"
    }
   ],
   "source": [
    "a.T      # self.transpose()\n",
    "a.real   # the real part of array.\n",
    "a.imag   # the imaginary part of array.\n",
    "a.flat   # 1-D iterator over the array\n",
    "a.ctypes # an object to simplif the interaction of the array with the ctype module."
   ]
  },
  {
   "cell_type": "markdown",
   "metadata": {},
   "source": [
    "### 1.1.2 Array methods\n",
    "---"
   ]
  },
  {
   "cell_type": "code",
   "execution_count": 206,
   "metadata": {},
   "outputs": [
    {
     "name": "stdout",
     "output_type": "stream",
     "text": [
      "[[24 23 22 21 20 19]\n",
      " [18 17 16 15 14 13]\n",
      " [12 11 10  9  8  7]\n",
      " [ 6  5  4  3  2  1]]\n"
     ]
    },
    {
     "data": {
      "text/plain": [
       "47.916666666666664"
      ]
     },
     "execution_count": 206,
     "metadata": {},
     "output_type": "execute_result"
    }
   ],
   "source": [
    "a = np.arange(24, 0, -1).reshape(4, 6)\n",
    "print(a)\n",
    "a.all() # False\n",
    "a.any() # True\n",
    "a.argmax() # 23\n",
    "a.argmin() # 0\n",
    "a.argpartition(2) # 见下面注释 \n",
    "a.argsort(axis=0) # 索引列排序\n",
    "a.argsort()\n",
    "\n",
    "# a的第三行第一个，第二行第二个，第四行第三个，第一行第四个，．．．\n",
    "# 4x6 * 6x1 = 4x1\n",
    "np.choose([2,1,3,0,2,2],a) # array([12, 17,  4, 21,  8,  7])\n",
    "\n",
    "# 限定元素的取值范围，比3小取3,比６大取6\n",
    "a.clip(3,6) \n",
    "\n",
    "# numpy.compress(condition, a, axis=None, out=None)\n",
    "a.compress((True,False,True), axis=0) #\n",
    "\n",
    "# numpy.copy(a, order='K')\n",
    "a.copy()\n",
    "\n",
    "# numpy.cumprod(a, axis=None, dtype=None, out=None)\n",
    "# Return the cumulative product of elements along a given axis.\n",
    "a.cumprod()\n",
    "\n",
    "# numpy.cumsum(a, axis=None, dtype=None, out=None)\n",
    "# Return the cumulative sum of the elements along a given axis.\n",
    "a.cumsum()\n",
    "\n",
    "# numpy.diagonal(a, offset=0, axis1=0, axis2=1) 取对角线\n",
    "a.diagonal()\n",
    "\n",
    "# Return the imaginary part of the complex argument.\n",
    "a.imag\n",
    "a.max()\n",
    "a.mean()\n",
    "a.min()\n",
    "\n",
    "# 返回非零的索引列表\n",
    "a.nonzero()\n",
    "\n",
    "# 原理同argpritition\n",
    "np.partition(np.array([9,8,17,16,5,24]), 0) # [ 5,  8, 17, 16,  9, 24]\n",
    "\n",
    "# numpy.prod(a, axis=None, dtype=None, out=None, keepdims=<class 'numpy._globals._NoValue'>)\n",
    "# 返回类乘结果，cumprod返回的是每个元素的类乘结果列表\n",
    "a.prod(axis=0)\n",
    "\n",
    "# numpy.ptp(a, axis=None, out=None)\n",
    "#  range of values(maximum - minimum) along an axis\n",
    "a.ptp()\n",
    "\n",
    "# numpy.put(a, index, v, mode='raise')\n",
    "# replace specified elements of an array with given values.\n",
    "a.put(23, 1)\n",
    "\n",
    "# numpy.ravel(a, order='C')  # order : {‘C’,’F’, ‘A’, ‘K’}, optional\n",
    "# Return a contiguous flattened array.\n",
    "a.ravel()\n",
    "\n",
    "# numpy.real(val)\n",
    "# return the real part of complex argument.\n",
    "a.real\n",
    "\n",
    "# numpy.repeat(a, repeats, axis=None)\n",
    "# repeat elements of an array.\n",
    "a.repeat(2, axis=1)\n",
    "\n",
    "a.reshape((6, 4))\n",
    "\n",
    "# numpy.around(a, decimals=0, out=None)\n",
    "# evenly round to the given number of decimals\n",
    "a.round()\n",
    "\n",
    "# numpy.searchsorted(a, v, side='left', sorter=None)\n",
    "# find indices where elements should be inserted to maintain order.\n",
    "np.searchsorted(np.sort(a,axis=None), 5)\n",
    "\n",
    "np.sort(a,axis=None)\n",
    "\n",
    "# remove single-dimensional entries from the shape of an array.\n",
    "a.squeeze()\n",
    "\n",
    "a.std()\n",
    "\n",
    "a.sum()\n",
    "\n",
    "# np.swapaxes(a, axis1, axis2)\n",
    "a.swapaxes(0, 1)\n",
    "\n",
    "# numpy.take(a, indices, axis=None, out=None, mode='raise')\n",
    "# take elements from an array along an axis.\n",
    "a.take([[1, 2],[3, 4]])\n",
    "a.take(23)\n",
    "np.eye(3)\n",
    "\n",
    "# numpy.trace(a, offset=0, axis1=0, axis2=1, dtype=None, out=None\n",
    "a.trace()\n",
    "\n",
    "a.transpose()\n",
    "\n",
    "a.var()"
   ]
  },
  {
   "cell_type": "markdown",
   "metadata": {},
   "source": [
    "> <span style=\"color:red\">注：</span>　`argpartition`与`partition`,前者返回的索引，后者返回的值，执行原理相同．"
   ]
  },
  {
   "cell_type": "code",
   "execution_count": null,
   "metadata": {
    "collapsed": true
   },
   "outputs": [],
   "source": [
    "# 找出最终排序（升序）的，排在第2(0开始,2就是第三小的值)位的索引值拿出来，\n",
    "# 将其他元素依次与第三小的值比较，如果比第三小的值小，就把相应值的索引放在左边，\n",
    "# 如果大就放右边，最终返回一个索引列表．\n",
    "\n",
    "# 如找出最小值所在的索引位置(即５的索引位置)\n",
    "np.argpartition(np.array([9,8,17,16,5,24]), 0)[0] # 4\n",
    "# 如找出第三小的值所在的索引位置(即９的索引位置)\n",
    "np.argpartition(np.array([9,8,17,16,5,24]), 2)[2] # 0\n",
    "# 如找出最大值所在的索引位置(即24的索引)\n",
    "np.argpartition(np.array([9,8,17,16,5,24]), -1)[-1] # 5\n",
    "# 如找出第２到第４小的值所在的索引位置(即8,9,16的索引)\n",
    "np.argpartition(np.array([9,8,17,16,5,24]), (1,4))[1:4] # [1,0,3]\n",
    "\n",
    "# 下面看一下第三小值(9)的完整返回值\n",
    "li = np.argpartition(np.array([9,8,17,16,5,24]), 2) # [4, 1, 0, 3, 2, 5]\n",
    "print(li) # [4, 1, 0, 3, 2, 5]\n",
    "# 比９小的索引列表是\n",
    "li[0:2] # [4, 1]\n",
    "# 比９大的索引列表是\n",
    "li[2+1:] # [3, 2, 5]"
   ]
  },
  {
   "cell_type": "markdown",
   "metadata": {},
   "source": [
    "### 1.1.3 Array conversion\n",
    "---"
   ]
  },
  {
   "cell_type": "markdown",
   "metadata": {},
   "source": [
    "<table border=\"1\" class=\"longtable docutils\">\n",
    "<colgroup>\n",
    "<col width=\"10%\" />\n",
    "<col width=\"90%\" />\n",
    "</colgroup>\n",
    "<tbody valign=\"top\">\n",
    "<tr class=\"row-odd\"><td>ndarray.item(*args)</td>\n",
    "<td>Copy an element of an array to a standard Python scalar and return it.</td>\n",
    "</tr>\n",
    "<tr class=\"row-even\"><td>ndarray.tolist()</td>\n",
    "<td>Return the array as a (possibly nested) list.</td>\n",
    "</tr>\n",
    "<tr class=\"row-odd\"><td>ndarray.itemset(*args)</td>\n",
    "<td>Insert scalar into an array (scalar is cast to array’s dtype, if possible)</td>\n",
    "</tr>\n",
    "<tr class=\"row-even\"><td>ndarray.tostring([order])</td>\n",
    "<td>Construct Python bytes containing the raw data bytes in the array.</td>\n",
    "</tr>\n",
    "<tr class=\"row-odd\"><td>ndarray.tobytes([order])</td>\n",
    "<td>Construct Python bytes containing the raw data bytes in the array.</td>\n",
    "</tr>\n",
    "<tr class=\"row-even\"><td>ndarray.tofile(fid[,&nbsp;sep,&nbsp;format])</td>\n",
    "<td>Write array to a file as text or binary (default).</td>\n",
    "</tr>\n",
    "<tr class=\"row-odd\"><td>ndarray.dump(file)</td>\n",
    "<td>Dump a pickle of the array to the specified file.</td>\n",
    "</tr>\n",
    "<tr class=\"row-even\"><td>ndarray.dumps()</td>\n",
    "<td>Returns the pickle of the array as a string.</td>\n",
    "</tr>\n",
    "<tr class=\"row-odd\"><td>ndarray.astype(dtype[,&nbsp;order,&nbsp;casting,&nbsp;…])</td>\n",
    "<td>Copy of the array, cast to a specified type.</td>\n",
    "</tr>\n",
    "<tr class=\"row-even\"><td>ndarray.byteswap([inplace])</td>\n",
    "<td>Swap the bytes of the array elements</td>\n",
    "</tr>\n",
    "<tr class=\"row-odd\"><td>ndarray.copy([order])</td>\n",
    "<td>Return a copy of the array.</td>\n",
    "</tr>\n",
    "<tr class=\"row-even\"><td>ndarray.view([dtype,&nbsp;type])</td>\n",
    "<td>New view of array with the same data.</td>\n",
    "</tr>\n",
    "<tr class=\"row-odd\"><td>ndarray.getfield(dtype[,&nbsp;offset])</td>\n",
    "<td>Returns a field of the given array as a certain type.</td>\n",
    "</tr>\n",
    "<tr class=\"row-even\"><td>ndarray.setflags([write,&nbsp;align,&nbsp;uic])</td>\n",
    "<td>Set array flags WRITEABLE, ALIGNED, (WRITEBACKIFCOPY and UPDATEIFCOPY), respectively.</td>\n",
    "</tr>\n",
    "<tr class=\"row-odd\"><td>ndarray.fill(value)</td>\n",
    "<td>Fill the array with a scalar value.</td>\n",
    "</tr>\n",
    "</tbody>\n",
    "</table>\n",
    "\n"
   ]
  },
  {
   "cell_type": "markdown",
   "metadata": {},
   "source": [
    "### 1.1.4 Shape manipulation\n",
    "---"
   ]
  },
  {
   "cell_type": "markdown",
   "metadata": {},
   "source": [
    "<table border=\"1\" class=\"longtable docutils\">\n",
    "<colgroup>\n",
    "<col width=\"10%\" />\n",
    "<col width=\"90%\" />\n",
    "</colgroup>\n",
    "<tbody valign=\"top\">\n",
    "<tr class=\"row-odd\"><td>ndarray.reshape(shape[,&nbsp;order])</td>\n",
    "<td>Returns an array containing the same data with a new shape.</td>\n",
    "</tr>\n",
    "<tr class=\"row-even\"><td>ndarray.resize(new_shape[,&nbsp;refcheck])</td>\n",
    "<td>Change shape and size of array in-place.</td>\n",
    "</tr>\n",
    "<tr class=\"row-odd\"><td>ndarray.transpose(*axes)</td>\n",
    "<td>Returns a view of the array with axes transposed.</td>\n",
    "</tr>\n",
    "<tr class=\"row-even\"><td>ndarray.swapaxes(axis1,&nbsp;axis2)</td>\n",
    "<td>Return a view of the array with <em class=\"xref py py-obj\">axis1</em> and <em class=\"xref py py-obj\">axis2</em> interchanged.</td>\n",
    "</tr>\n",
    "<tr class=\"row-odd\"><td>ndarray.flatten([order])</td>\n",
    "<td>Return a copy of the array collapsed into one dimension.</td>\n",
    "</tr>\n",
    "<tr class=\"row-even\"><td>ndarray.ravel([order])</td>\n",
    "<td>Return a flattened array.</td>\n",
    "</tr>\n",
    "<tr class=\"row-odd\"><td>ndarray.squeeze([axis])</td>\n",
    "<td>Remove single-dimensional entries from the shape of <em class=\"xref py py-obj\">a</em>.</td>\n",
    "</tr>\n",
    "</tbody>\n",
    "</table>"
   ]
  },
  {
   "cell_type": "markdown",
   "metadata": {},
   "source": [
    "### 1.1.5 Item selection and manipulation\n",
    "---"
   ]
  },
  {
   "cell_type": "markdown",
   "metadata": {},
   "source": [
    "<table border=\"1\" class=\"longtable docutils\">\n",
    "<colgroup>\n",
    "<col width=\"10%\" />\n",
    "<col width=\"90%\" />\n",
    "</colgroup>\n",
    "<tbody valign=\"top\">\n",
    "<tr class=\"row-odd\"><td>ndarray.take(indices[,&nbsp;axis,&nbsp;out,&nbsp;mode])</td>\n",
    "<td>Return an array formed from the elements of <em class=\"xref py py-obj\">a</em> at the given indices.</td>\n",
    "</tr>\n",
    "<tr class=\"row-even\"><td>ndarray.put(indices,&nbsp;values[,&nbsp;mode])</td>\n",
    "<td>Set <code class=\"docutils literal\"><span class=\"pre\">a.flat[n]</span> <span class=\"pre\">=</span> <span class=\"pre\">values[n]</span></code> for all <em class=\"xref py py-obj\">n</em> in indices.</td>\n",
    "</tr>\n",
    "<tr class=\"row-odd\"><td>ndarray.repeat(repeats[,&nbsp;axis])</td>\n",
    "<td>Repeat elements of an array.</td>\n",
    "</tr>\n",
    "<tr class=\"row-even\"><td>ndarray.choose(choices[,&nbsp;out,&nbsp;mode])</td>\n",
    "<td>Use an index array to construct a new array from a set of choices.</td>\n",
    "</tr>\n",
    "<tr class=\"row-odd\"><td>ndarray.sort([axis,&nbsp;kind,&nbsp;order])</td>\n",
    "<td>Sort an array, in-place.</td>\n",
    "</tr>\n",
    "<tr class=\"row-even\"><td>ndarray.argsort([axis,&nbsp;kind,&nbsp;order])</td>\n",
    "<td>Returns the indices that would sort this array.</td>\n",
    "</tr>\n",
    "<tr class=\"row-odd\"><td>ndarray.partition(kth[,&nbsp;axis,&nbsp;kind,&nbsp;order])</td>\n",
    "<td>Rearranges the elements in the array in such a way that value of the element in kth position is in the position it would be in a sorted array.</td>\n",
    "</tr>\n",
    "<tr class=\"row-even\"><td>ndarray.argpartition(kth[,&nbsp;axis,&nbsp;kind,&nbsp;order])</td>\n",
    "<td>Returns the indices that would partition this array.</td>\n",
    "</tr>\n",
    "<tr class=\"row-odd\"><td>ndarray.searchsorted(v[,&nbsp;side,&nbsp;sorter])</td>\n",
    "<td>Find indices where elements of v should be inserted in a to maintain order.</td>\n",
    "</tr>\n",
    "<tr class=\"row-even\"><td>ndarray.nonzero()</td>\n",
    "<td>Return the indices of the elements that are non-zero.</td>\n",
    "</tr>\n",
    "<tr class=\"row-odd\"><td>ndarray.compress(condition[,&nbsp;axis,&nbsp;out])</td>\n",
    "<td>Return selected slices of this array along given axis.</td>\n",
    "</tr>\n",
    "<tr class=\"row-even\"><td>ndarray.diagonal([offset,&nbsp;axis1,&nbsp;axis2])</td>\n",
    "<td>Return specified diagonals.</td>\n",
    "</tr>\n",
    "</tbody>\n",
    "</table>"
   ]
  },
  {
   "cell_type": "markdown",
   "metadata": {},
   "source": [
    "### 1.1.6 Calculation\n",
    "---"
   ]
  },
  {
   "cell_type": "markdown",
   "metadata": {},
   "source": [
    "<table border=\"1\" class=\"longtable docutils\">\n",
    "<colgroup>\n",
    "<col width=\"10%\" />\n",
    "<col width=\"90%\" />\n",
    "</colgroup>\n",
    "<tbody valign=\"top\">\n",
    "<tr class=\"row-odd\"><td>ndarray.argmax([axis,&nbsp;out])</td>\n",
    "<td>Return indices of the maximum values along the given axis.</td>\n",
    "</tr>\n",
    "<tr class=\"row-even\"><td>ndarray.min([axis,&nbsp;out,&nbsp;keepdims])</td>\n",
    "<td>Return the minimum along a given axis.</td>\n",
    "</tr>\n",
    "<tr class=\"row-odd\"><td>ndarray.argmin([axis,&nbsp;out])</td>\n",
    "<td>Return indices of the minimum values along the given axis of <em class=\"xref py py-obj\">a</em>.</td>\n",
    "</tr>\n",
    "<tr class=\"row-even\"><td>ndarray.ptp([axis,&nbsp;out])</td>\n",
    "<td>Peak to peak (maximum - minimum) value along a given axis.</td>\n",
    "</tr>\n",
    "<tr class=\"row-odd\"><td>ndarray.clip([min,&nbsp;max,&nbsp;out])</td>\n",
    "<td>Return an array whose values are limited to <code class=\"docutils literal\"><span class=\"pre\">[min,</span> <span class=\"pre\">max]</span></code>.</td>\n",
    "</tr>\n",
    "<tr class=\"row-even\"><td>ndarray.conj()</td>\n",
    "<td>Complex-conjugate all elements.</td>\n",
    "</tr>\n",
    "<tr class=\"row-odd\"><td>ndarray.round([decimals,&nbsp;out])</td>\n",
    "<td>Return <em class=\"xref py py-obj\">a</em> with each element rounded to the given number of decimals.</td>\n",
    "</tr>\n",
    "<tr class=\"row-even\"><td>ndarray.trace([offset,&nbsp;axis1,&nbsp;axis2,&nbsp;dtype,&nbsp;out])</td>\n",
    "<td>Return the sum along diagonals of the array.</td>\n",
    "</tr>\n",
    "<tr class=\"row-odd\"><td>ndarray.sum([axis,&nbsp;dtype,&nbsp;out,&nbsp;keepdims])</td>\n",
    "<td>Return the sum of the array elements over the given axis.</td>\n",
    "</tr>\n",
    "<tr class=\"row-even\"><td>ndarray.cumsum([axis,&nbsp;dtype,&nbsp;out])</td>\n",
    "<td>Return the cumulative sum of the elements along the given axis.</td>\n",
    "</tr>\n",
    "<tr class=\"row-odd\"><td>ndarray.mean([axis,&nbsp;dtype,&nbsp;out,&nbsp;keepdims])</td>\n",
    "<td>Returns the average of the array elements along given axis.</td>\n",
    "</tr>\n",
    "<tr class=\"row-even\"><td>ndarray.var([axis,&nbsp;dtype,&nbsp;out,&nbsp;ddof,&nbsp;keepdims])</td>\n",
    "<td>Returns the variance of the array elements, along given axis.</td>\n",
    "</tr>\n",
    "<tr class=\"row-odd\"><td>ndarray.std([axis,&nbsp;dtype,&nbsp;out,&nbsp;ddof,&nbsp;keepdims])</td>\n",
    "<td>Returns the standard deviation of the array elements along given axis.</td>\n",
    "</tr>\n",
    "<tr class=\"row-even\"><td>ndarray.prod([axis,&nbsp;dtype,&nbsp;out,&nbsp;keepdims])</td>\n",
    "<td>Return the product of the array elements over the given axis</td>\n",
    "</tr>\n",
    "<tr class=\"row-odd\"><td>ndarray.cumprod([axis,&nbsp;dtype,&nbsp;out])</td>\n",
    "<td>Return the cumulative product of the elements along the given axis.</td>\n",
    "</tr>\n",
    "<tr class=\"row-even\"><td>ndarray.all([axis,&nbsp;out,&nbsp;keepdims])</td>\n",
    "<td>Returns True if all elements evaluate to True.</td>\n",
    "</tr>\n",
    "<tr class=\"row-odd\"><td>ndarray.any([axis,&nbsp;out,&nbsp;keepdims])</td>\n",
    "<td>Returns True if any of the elements of <em class=\"xref py py-obj\">a</em> evaluate to True.</td>\n",
    "</tr>\n",
    "</tbody>\n",
    "</table>"
   ]
  },
  {
   "cell_type": "markdown",
   "metadata": {},
   "source": [
    "## 1.2 Arithmetic, matrix multiplication, and comparison operations\n",
    "---"
   ]
  },
  {
   "cell_type": "markdown",
   "metadata": {},
   "source": [
    "## 1.3 Special methods\n",
    "---"
   ]
  },
  {
   "cell_type": "markdown",
   "metadata": {},
   "source": [
    "## 1.2 Scalars\n",
    "---"
   ]
  },
  {
   "cell_type": "code",
   "execution_count": 97,
   "metadata": {},
   "outputs": [
    {
     "data": {
      "text/plain": [
       "array([ 2,  5,  8, 17, 16,  9, 24])"
      ]
     },
     "execution_count": 97,
     "metadata": {},
     "output_type": "execute_result"
    }
   ],
   "source": [
    "x = np.array([2,9,8,17,16,5,24])\n",
    "x[np.argpartition(x, 2)]"
   ]
  },
  {
   "cell_type": "code",
   "execution_count": 79,
   "metadata": {},
   "outputs": [
    {
     "data": {
      "text/plain": [
       "array([1, 2, 3, 5])"
      ]
     },
     "execution_count": 79,
     "metadata": {},
     "output_type": "execute_result"
    }
   ],
   "source": [
    "a = np.array([3, 5, 2, 1])\n",
    "np.partition(a, -2)"
   ]
  },
  {
   "cell_type": "code",
   "execution_count": 207,
   "metadata": {},
   "outputs": [
    {
     "name": "stdout",
     "output_type": "stream",
     "text": [
      "Object `np.busday` not found.\n"
     ]
    }
   ],
   "source": [
    "np.busday?"
   ]
  },
  {
   "cell_type": "markdown",
   "metadata": {},
   "source": [
    "## 1.3 Data type objects(dtype)\n",
    "---"
   ]
  },
  {
   "cell_type": "markdown",
   "metadata": {},
   "source": [
    "## 1.4 Indexing\n",
    "---"
   ]
  },
  {
   "cell_type": "markdown",
   "metadata": {},
   "source": [
    "## 1.5\n",
    "---"
   ]
  }
 ],
 "metadata": {
  "kernelspec": {
   "display_name": "Python 3",
   "language": "python",
   "name": "python3"
  },
  "language_info": {
   "codemirror_mode": {
    "name": "ipython",
    "version": 3
   },
   "file_extension": ".py",
   "mimetype": "text/x-python",
   "name": "python",
   "nbconvert_exporter": "python",
   "pygments_lexer": "ipython3",
   "version": "3.6.1"
  }
 },
 "nbformat": 4,
 "nbformat_minor": 2
}
