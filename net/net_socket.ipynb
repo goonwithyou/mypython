{
 "cells": [
  {
   "cell_type": "markdown",
   "metadata": {},
   "source": [
    "1. socket\n",
    "2. tcp\n",
    "3. udp\n",
    "4. local socket\n"
   ]
  },
  {
   "cell_type": "markdown",
   "metadata": {},
   "source": [
    "# 1 socket\n",
    "---\n"
   ]
  },
  {
   "cell_type": "code",
   "execution_count": null,
   "metadata": {
    "collapsed": true
   },
   "outputs": [],
   "source": []
  },
  {
   "cell_type": "markdown",
   "metadata": {},
   "source": [
    "# 2 socket实现tcp协议\n",
    "---\n"
   ]
  },
  {
   "cell_type": "markdown",
   "metadata": {},
   "source": [
    "# 3 socket实现udp协议\n",
    "---"
   ]
  },
  {
   "cell_type": "markdown",
   "metadata": {},
   "source": [
    "# 4 socket实现本地套接字\n",
    "---\n",
    "在linux系统中，有一个文件类型是`s`就是咱们这里要介绍的本地套接字(local socket)文件，主要用于信息的传输，其实现方式和tcp的实现方式有些类似，本地套接字的地址族标识是`AF_UNIX`.\n",
    "> 案例　用local socket 实现双方的信息交互．\n",
    "- **unix_socket_server.py**,本地套接字的服务端\n",
    "- **unix_socket_con.py**，本地套接字的连接端\n"
   ]
  },
  {
   "cell_type": "code",
   "execution_count": null,
   "metadata": {
    "collapsed": true
   },
   "outputs": [],
   "source": [
    "# unix_socket_server.py\n",
    "import socket\n",
    "import os\n",
    "\n",
    "\n",
    "def create_socket(socket_file, backlog=None):\n",
    "    socketfd = socket.socket(socket.AF_UNIX, socket.SOCK_STREAM)\n",
    "\n",
    "    if os.path.exists(socket_file):\n",
    "        os.remove(socket_file)\n",
    "    socketfd.bind(socket_file)\n",
    "\n",
    "    socketfd.listen(backlog)\n",
    "    return socketfd\n",
    "\n",
    "\n",
    "def read(conn, buffer_size=4096):\n",
    "    data = None\n",
    "    # 如果接收信息发生错误则关闭连接\n",
    "    try:\n",
    "        data = conn.recv(buffer_size).decode()\n",
    "    except OSError as e:\n",
    "        print('### Not receive msg, close fd:', conn.fileno())\n",
    "        conn.close()\n",
    "    return data\n",
    "\n",
    "\n",
    "def send(conn, msg):\n",
    "    try:\n",
    "        conn.send(msg.encode())\n",
    "    except OSError as e:\n",
    "        print('### failure send!!')\n",
    "\n",
    "\n",
    "def main():\n",
    "    # 本地套接字文件\n",
    "    socket_file = './socket_file'\n",
    "    socket_file_name = os.path.basename(socket_file)\n",
    "    # listen参数\n",
    "    backlog = 10\n",
    "    # recv参数\n",
    "    buffer_size = 1024\n",
    "    # recv参数\n",
    "    msg = '***processing***'\n",
    "\n",
    "    # 创建本地套接字socket实例\n",
    "    socketfd = create_socket(socket_file, backlog)\n",
    "    # 等待连接\n",
    "    conn, _ = socketfd.accept()\n",
    "\n",
    "    # 持续接收连接端的发送信息并做出响应．\n",
    "    while True:\n",
    "        # 读取信息，并打印和发送信息．否则关闭连接并退出循环\n",
    "        data = read(conn, buffer_size)\n",
    "        if data:\n",
    "            print('from %s Receive:%s' % (socket_file_name, data))\n",
    "            send(conn, msg)\n",
    "        else:\n",
    "            break\n",
    "\n",
    "    socketfd.close()\n",
    "\n",
    "\n",
    "if __name__ == '__main__':\n",
    "    main()\n"
   ]
  },
  {
   "cell_type": "code",
   "execution_count": null,
   "metadata": {
    "collapsed": true
   },
   "outputs": [],
   "source": [
    "# unix_socket_con.py\n",
    "import socket\n",
    "\n",
    "\n",
    "socket_file = './socket_file'\n",
    "socketfd = socket.socket(socket.AF_UNIX, socket.SOCK_STREAM)\n",
    "socketfd.connect(socket_file)\n",
    "\n",
    "while True:\n",
    "    try:\n",
    "        msg = input('>>>')\n",
    "    except (KeyboardInterrupt, EOFError):\n",
    "        break\n",
    "    if not msg:\n",
    "        print('do not input null value!!')\n",
    "        continue\n",
    "    socketfd.send(msg.encode())\n",
    "    data = socketfd.recv(1024).decode()\n",
    "    if not data:\n",
    "        break\n",
    "print('data')\n",
    "\n",
    "socketfd.close()\n"
   ]
  }
 ],
 "metadata": {
  "kernelspec": {
   "display_name": "Python 3",
   "language": "python",
   "name": "python3"
  },
  "language_info": {
   "codemirror_mode": {
    "name": "ipython",
    "version": 3
   },
   "file_extension": ".py",
   "mimetype": "text/x-python",
   "name": "python",
   "nbconvert_exporter": "python",
   "pygments_lexer": "ipython3",
   "version": "3.6.1"
  }
 },
 "nbformat": 4,
 "nbformat_minor": 2
}
