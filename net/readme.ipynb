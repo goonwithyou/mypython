{
 "cells": [
  {
   "cell_type": "markdown",
   "metadata": {},
   "source": [
    "# 1 introduction\n",
    "---\n",
    "该目录主要是介绍python中网络相关的一些知识(network),以及相关模块功能的介绍\n",
    "\n",
    "# 2 contents\n",
    "---\n",
    "1. network_basic 主要记录了相关内容学习的一些笔记，主要是一些术语概念，能够对网络编程的一些基础内容有所了解\n",
    "2. 相关功能模块，放在`mypython/modules/`文件下\n",
    "    - socket: 基础网络接口，用于创建常用的TCP,UDP协议服务\n",
    "    - select: IO多路复用的相关实现，能够简单实现多并发的效果。\n",
    "    - selectors: 对select模块的功能进行了包装，也是IO多路复用最常使用的模块。"
   ]
  }
 ],
 "metadata": {
  "kernelspec": {
   "display_name": "Python [default]",
   "language": "python",
   "name": "python3"
  },
  "language_info": {
   "codemirror_mode": {
    "name": "ipython",
    "version": 3
   },
   "file_extension": ".py",
   "mimetype": "text/x-python",
   "name": "python",
   "nbconvert_exporter": "python",
   "pygments_lexer": "ipython3",
   "version": "3.6.1"
  }
 },
 "nbformat": 4,
 "nbformat_minor": 2
}
