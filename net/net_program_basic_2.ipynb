{
 "cells": [
  {
   "cell_type": "markdown",
   "metadata": {},
   "source": [
    "# 12 多进程\n",
    "---\n",
    "    \n",
    "详细信息见`mypython/modules/multiprocessing/`\n",
    "涵盖内容包括：\n",
    "- Process\n",
    "- 进程池\n",
    "- 进程间通信方式\n",
    "- 同步互斥机制"
   ]
  },
  {
   "cell_type": "markdown",
   "metadata": {},
   "source": [
    "# 13 线程\n",
    "---\n",
    "\n",
    "## 13.1 introduction\n",
    "---\n",
    "线程也是一种多任务编程方式，可以使用计算机的多核资源。线程被称为**轻量级的进程**。\n",
    "\n",
    "> 线程的特征\n",
    "\n",
    "- 线程是计算机多核分配的最小单位。\n",
    "- 一个进程可以包含多个线程。\n",
    "- 线程也是一个运行过程，也要消耗计算机资源。多个线程共享进程的资源和空间。\n",
    "- 线程也拥有自己特有的资源属性，比如指令集，TID等。\n",
    "- 线程无论是创建还是运行消耗的资源都小于进程。\n",
    "\n",
    "## 13.2 threading\n",
    "---\n",
    "\n",
    "```python\n",
    "import threading\n",
    "\n",
    "\n",
    "```"
   ]
  },
  {
   "cell_type": "code",
   "execution_count": 1,
   "metadata": {},
   "outputs": [],
   "source": [
    "import threading"
   ]
  },
  {
   "cell_type": "code",
   "execution_count": null,
   "metadata": {},
   "outputs": [],
   "source": []
  }
 ],
 "metadata": {
  "kernelspec": {
   "display_name": "Python [conda root]",
   "language": "python",
   "name": "conda-root-py"
  },
  "language_info": {
   "codemirror_mode": {
    "name": "ipython",
    "version": 3
   },
   "file_extension": ".py",
   "mimetype": "text/x-python",
   "name": "python",
   "nbconvert_exporter": "python",
   "pygments_lexer": "ipython3",
   "version": "3.6.1"
  }
 },
 "nbformat": 4,
 "nbformat_minor": 2
}
