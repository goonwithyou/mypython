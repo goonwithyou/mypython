{
 "cells": [
  {
   "cell_type": "markdown",
   "metadata": {},
   "source": [
    "# 12 多进程\n",
    "---\n",
    "详细信息见`mypython/modules/multiprocessing/`\n",
    "1. 优点\n",
    "    - 并行执行多个任务，提高效率创建方便\n",
    "    - 运行独立，不受其他进程的影响。数据安全。\n",
    "2. 缺点\n",
    "    - 在进程的创建和删除过程中消耗计算机资源较多。(可以采用进程池技术改进)"
   ]
  }
 ],
 "metadata": {
  "kernelspec": {
   "display_name": "Python [conda root]",
   "language": "python",
   "name": "conda-root-py"
  },
  "language_info": {
   "codemirror_mode": {
    "name": "ipython",
    "version": 3
   },
   "file_extension": ".py",
   "mimetype": "text/x-python",
   "name": "python",
   "nbconvert_exporter": "python",
   "pygments_lexer": "ipython3",
   "version": "3.6.1"
  }
 },
 "nbformat": 4,
 "nbformat_minor": 2
}
